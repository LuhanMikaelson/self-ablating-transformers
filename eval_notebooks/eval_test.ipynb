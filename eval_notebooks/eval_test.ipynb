{
 "cells": [
  {
   "cell_type": "markdown",
   "metadata": {},
   "source": [
    "# Wandb Test Notebook\n",
    "\n",
    "Demonstrates how to use some utils for integrating tests with wandb"
   ]
  },
  {
   "cell_type": "code",
   "execution_count": 1,
   "metadata": {},
   "outputs": [
    {
     "data": {
      "text/plain": [
       "True"
      ]
     },
     "execution_count": 1,
     "metadata": {},
     "output_type": "execute_result"
    }
   ],
   "source": [
    "%load_ext autoreload\n",
    "%autoreload 2\n",
    "\n",
    "import os, sys\n",
    "\n",
    "# Add the directory containing the utils folder to the system path\n",
    "sys.path.append(os.path.abspath(os.path.join(os.getcwd(), '..')))\n",
    "\n",
    "import dotenv\n",
    "from utils.testing import access_wandb_runs, update_run, download_models\n",
    "\n",
    "# We must get the api key from the .env\n",
    "dotenv.load_dotenv()"
   ]
  },
  {
   "cell_type": "code",
   "execution_count": 2,
   "metadata": {},
   "outputs": [
    {
     "name": "stdout",
     "output_type": "stream",
     "text": [
      "fanciful-fog-78\n",
      "earnest-moon-79\n",
      "super-violet-80\n",
      "cosmic-leaf-81\n",
      "upbeat-glitter-83\n",
      "comfy-cherry-84\n",
      "cosmic-leaf-81-part2\n",
      "major-planet-86\n",
      "major-planet-86-part2\n",
      "major-planet-86-part3\n",
      "light-morning-92\n",
      "deft-dew-98\n"
     ]
    }
   ],
   "source": [
    "runs = access_wandb_runs(\"j-l-ferrao-university-of-groningen\", \"gpt-neo-self-ablation\")\n",
    "\n",
    "for run in runs:\n",
    "    print(run.name)"
   ]
  },
  {
   "cell_type": "code",
   "execution_count": 3,
   "metadata": {},
   "outputs": [
    {
     "name": "stdout",
     "output_type": "stream",
     "text": [
      "Downloaded best_model_20241105.pt to ../model_weights/fanciful-fog-78\n",
      "Downloaded best_model_20241106.pt to ../model_weights/earnest-moon-79\n",
      "Downloaded best_model_20241105.pt to ../model_weights/super-violet-80\n",
      "Downloaded best_model_20241108.pt to ../model_weights/cosmic-leaf-81\n",
      "Downloaded best_model_20241109.pt to ../model_weights/upbeat-glitter-83\n",
      "Downloaded best_model_20241109.pt to ../model_weights/comfy-cherry-84\n",
      "Downloaded best_model_20241111.pt to ../model_weights/cosmic-leaf-81-part2\n",
      "Downloaded best_model_20241113.pt to ../model_weights/major-planet-86\n",
      "Downloaded best_model_20241113.pt to ../model_weights/major-planet-86-part2\n",
      "Downloaded best_model_20241114.pt to ../model_weights/major-planet-86-part3\n",
      "Downloaded best_model_20241116.pt to ../model_weights/light-morning-92\n",
      "Downloaded best_model_20241119.pt to ../model_weights/deft-dew-98\n"
     ]
    }
   ],
   "source": [
    "download_models(runs, \"../model_weights\")"
   ]
  },
  {
   "cell_type": "markdown",
   "metadata": {},
   "source": [
    "The below code will update the stats stored online in wandb"
   ]
  },
  {
   "cell_type": "code",
   "execution_count": null,
   "metadata": {},
   "outputs": [],
   "source": [
    "first_run = runs[0]\n",
    "\n",
    "test_results = {\n",
    "    'test_var': 42\n",
    "}\n",
    "\n",
    "update_run(first_run, test_results)"
   ]
  }
 ],
 "metadata": {
  "kernelspec": {
   "display_name": "ablation",
   "language": "python",
   "name": "python3"
  },
  "language_info": {
   "codemirror_mode": {
    "name": "ipython",
    "version": 3
   },
   "file_extension": ".py",
   "mimetype": "text/x-python",
   "name": "python",
   "nbconvert_exporter": "python",
   "pygments_lexer": "ipython3",
   "version": "3.11.9"
  }
 },
 "nbformat": 4,
 "nbformat_minor": 2
}
