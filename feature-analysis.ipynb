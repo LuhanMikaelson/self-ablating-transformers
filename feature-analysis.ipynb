{
 "cells": [
  {
   "cell_type": "markdown",
   "metadata": {},
   "source": [
    "## Imports"
   ]
  },
  {
   "cell_type": "code",
   "execution_count": 2,
   "metadata": {},
   "outputs": [],
   "source": [
    "%load_ext autoreload\n",
    "%autoreload 2\n",
    "\n",
    "import torch\n",
    "import numpy as np\n",
    "import torch\n",
    "import transformer_lens\n",
    "import transformers\n",
    "from torch import nn\n",
    "from tqdm import tqdm\n",
    "from transformer_lens.hook_points import HookPoint\n",
    "from transformer_lens import HookedTransformer\n",
    "\n",
    "from model.config import GPTNeoWithSelfAblationConfig\n",
    "from model.gpt_neo import GPTNeoWithSelfAblation"
   ]
  },
  {
   "cell_type": "markdown",
   "metadata": {},
   "source": [
    "## Setup"
   ]
  },
  {
   "cell_type": "code",
   "execution_count": 3,
   "metadata": {},
   "outputs": [
    {
     "name": "stdout",
     "output_type": "stream",
     "text": [
      "Using device: cuda\n"
     ]
    }
   ],
   "source": [
    "# We only need inference\n",
    "torch.set_grad_enabled(False)\n",
    "\n",
    "# Set cuda if available\n",
    "device = torch.device(\"cuda\" if torch.cuda.is_available() else \"cpu\")\n",
    "print(f\"Using device: {device}\")\n",
    "\n",
    "# Change this to the path of the model to test, change the config if needed\n",
    "model_path = \"model_weights/youthful-wave-20.pt\"\n",
    "model_specific_config = {\n",
    "    'hidden_size': 128,\n",
    "    'max_position_embeddings': 256,\n",
    "    \n",
    "    # These two are currently not mutually exclusive\n",
    "    'has_layer_by_layer_ablation_mask': False,\n",
    "    'has_overall_ablation_mask': True,\n",
    "}"
   ]
  },
  {
   "cell_type": "markdown",
   "metadata": {},
   "source": [
    "## Model Loading"
   ]
  },
  {
   "cell_type": "code",
   "execution_count": 4,
   "metadata": {},
   "outputs": [
    {
     "name": "stderr",
     "output_type": "stream",
     "text": [
      "/tmp/ipykernel_1159/88063936.py:3: FutureWarning: You are using `torch.load` with `weights_only=False` (the current default value), which uses the default pickle module implicitly. It is possible to construct malicious pickle data which will execute arbitrary code during unpickling (See https://github.com/pytorch/pytorch/blob/main/SECURITY.md#untrusted-models for more details). In a future release, the default value for `weights_only` will be flipped to `True`. This limits the functions that could be executed during unpickling. Arbitrary objects will no longer be allowed to be loaded via this mode unless they are explicitly allowlisted by the user via `torch.serialization.add_safe_globals`. We recommend you start setting `weights_only=True` for any use case where you don't have full control of the loaded file. Please open an issue on GitHub for any issues related to this experimental feature.\n",
      "  model.load_state_dict(torch.load(model_path, map_location=device))\n"
     ]
    },
    {
     "data": {
      "text/plain": [
       "GPTNeoWithSelfAblation(\n",
       "  (transformer): ModuleDict(\n",
       "    (wte): Embedding(50257, 128)\n",
       "    (wpe): Embedding(256, 128)\n",
       "    (h): ModuleList(\n",
       "      (0-7): 8 x GPTNeoBlockWithSelfAblation(\n",
       "        (ln_1): LayerNorm((128,), eps=1e-05, elementwise_affine=True)\n",
       "        (attn): AttentionWithSelfAblation(\n",
       "          (attention): ModuleDict(\n",
       "            (k_proj): Linear(in_features=128, out_features=128, bias=False)\n",
       "            (v_proj): Linear(in_features=128, out_features=128, bias=False)\n",
       "            (q_proj): Linear(in_features=128, out_features=128, bias=False)\n",
       "            (out_proj): Linear(in_features=128, out_features=128, bias=True)\n",
       "          )\n",
       "        )\n",
       "        (ln_2): LayerNorm((128,), eps=1e-05, elementwise_affine=True)\n",
       "        (mlp): MLPWithSelfAblation(\n",
       "          (c_fc): Linear(in_features=128, out_features=512, bias=True)\n",
       "          (c_proj): Linear(in_features=512, out_features=128, bias=True)\n",
       "          (act): NewGELUActivation()\n",
       "        )\n",
       "      )\n",
       "    )\n",
       "    (ln_f): LayerNorm((128,), eps=1e-05, elementwise_affine=True)\n",
       "  )\n",
       "  (lm_head): Linear(in_features=128, out_features=50257, bias=False)\n",
       "  (attention_ablations_head): Linear(in_features=128, out_features=1024, bias=True)\n",
       "  (neuron_ablations_head): Linear(in_features=128, out_features=4096, bias=True)\n",
       ")"
      ]
     },
     "execution_count": 4,
     "metadata": {},
     "output_type": "execute_result"
    }
   ],
   "source": [
    "model_config = GPTNeoWithSelfAblationConfig(**model_specific_config)\n",
    "model = GPTNeoWithSelfAblation(model_config)\n",
    "model.load_state_dict(torch.load(model_path, map_location=device))\n",
    "model.eval()"
   ]
  },
  {
   "cell_type": "markdown",
   "metadata": {},
   "source": [
    "## Hooked Model Definition"
   ]
  },
  {
   "cell_type": "markdown",
   "metadata": {},
   "source": [
    "According to the Codebook repo, we need to first create a HookedTransformer and then overwrite parts of it?"
   ]
  },
  {
   "cell_type": "code",
   "execution_count": 5,
   "metadata": {},
   "outputs": [
    {
     "name": "stdout",
     "output_type": "stream",
     "text": [
      "Loaded pretrained model tiny-stories-3M into HookedTransformer\n",
      "Moving model to device:  cuda\n"
     ]
    },
    {
     "name": "stderr",
     "output_type": "stream",
     "text": [
      "/home/jazhyc/miniconda3/envs/ablation/lib/python3.11/site-packages/transformers/tokenization_utils_base.py:1601: FutureWarning: `clean_up_tokenization_spaces` was not set. It will be set to `True` by default. This behavior will be depracted in transformers v4.45, and will be then set to `False` by default. For more details check this issue: https://github.com/huggingface/transformers/issues/31884\n",
      "  warnings.warn(\n"
     ]
    },
    {
     "data": {
      "text/plain": [
       "HookedTransformer(\n",
       "  (embed): Embed()\n",
       "  (hook_embed): HookPoint()\n",
       "  (pos_embed): PosEmbed()\n",
       "  (hook_pos_embed): HookPoint()\n",
       "  (blocks): ModuleList(\n",
       "    (0-7): 8 x TransformerBlock(\n",
       "      (ln1): LayerNorm(\n",
       "        (hook_scale): HookPoint()\n",
       "        (hook_normalized): HookPoint()\n",
       "      )\n",
       "      (ln2): LayerNorm(\n",
       "        (hook_scale): HookPoint()\n",
       "        (hook_normalized): HookPoint()\n",
       "      )\n",
       "      (attn): Attention(\n",
       "        (hook_k): HookPoint()\n",
       "        (hook_q): HookPoint()\n",
       "        (hook_v): HookPoint()\n",
       "        (hook_z): HookPoint()\n",
       "        (hook_attn_scores): HookPoint()\n",
       "        (hook_pattern): HookPoint()\n",
       "        (hook_result): HookPoint()\n",
       "      )\n",
       "      (mlp): MLP(\n",
       "        (hook_pre): HookPoint()\n",
       "        (hook_post): HookPoint()\n",
       "      )\n",
       "      (hook_attn_in): HookPoint()\n",
       "      (hook_q_input): HookPoint()\n",
       "      (hook_k_input): HookPoint()\n",
       "      (hook_v_input): HookPoint()\n",
       "      (hook_mlp_in): HookPoint()\n",
       "      (hook_attn_out): HookPoint()\n",
       "      (hook_mlp_out): HookPoint()\n",
       "      (hook_resid_pre): HookPoint()\n",
       "      (hook_resid_mid): HookPoint()\n",
       "      (hook_resid_post): HookPoint()\n",
       "    )\n",
       "  )\n",
       "  (ln_final): LayerNorm(\n",
       "    (hook_scale): HookPoint()\n",
       "    (hook_normalized): HookPoint()\n",
       "  )\n",
       "  (unembed): Unembed()\n",
       ")"
      ]
     },
     "execution_count": 5,
     "metadata": {},
     "output_type": "execute_result"
    }
   ],
   "source": [
    "hooked_kwargs = dict(\n",
    "    center_unembed=False,\n",
    "    center_writing_weights=False,\n",
    "    fold_ln=False,\n",
    "    fold_value_biases=False,\n",
    "    refactor_factored_attn_matrices=False,\n",
    "    device=device,\n",
    ")\n",
    "\n",
    "# Create the HookedTransformer model from GPT Neo\n",
    "hooked_model = HookedTransformer.from_pretrained(\"tiny-stories-3M\", **hooked_kwargs)\n",
    "hooked_model.to(device).eval()"
   ]
  },
  {
   "cell_type": "code",
   "execution_count": 6,
   "metadata": {},
   "outputs": [],
   "source": [
    "for k, v in model_config.__dict__.items():\n",
    "    if k not in hooked_model.cfg.__dict__:\n",
    "        hooked_model.cfg.__setattr__(k, v)\n",
    "        \n",
    "# for k1, k2 in base_model_config.attribute_map.items():\n",
    "#     if k1 not in model.cfg.__dict__:\n",
    "#         model.cfg.__setattr__(k1, base_model_config.__getattribute__(k2))"
   ]
  },
  {
   "cell_type": "code",
   "execution_count": 7,
   "metadata": {},
   "outputs": [
    {
     "name": "stdout",
     "output_type": "stream",
     "text": [
      "HookedTransformer(\n",
      "  (embed): Embed()\n",
      "  (hook_embed): HookPoint()\n",
      "  (pos_embed): PosEmbed()\n",
      "  (hook_pos_embed): HookPoint()\n",
      "  (blocks): ModuleList(\n",
      "    (0-7): 8 x TransformerBlock(\n",
      "      (ln1): LayerNorm(\n",
      "        (hook_scale): HookPoint()\n",
      "        (hook_normalized): HookPoint()\n",
      "      )\n",
      "      (ln2): LayerNorm(\n",
      "        (hook_scale): HookPoint()\n",
      "        (hook_normalized): HookPoint()\n",
      "      )\n",
      "      (attn): Attention(\n",
      "        (hook_k): HookPoint()\n",
      "        (hook_q): HookPoint()\n",
      "        (hook_v): HookPoint()\n",
      "        (hook_z): HookPoint()\n",
      "        (hook_attn_scores): HookPoint()\n",
      "        (hook_pattern): HookPoint()\n",
      "        (hook_result): HookPoint()\n",
      "      )\n",
      "      (mlp): MLP(\n",
      "        (hook_pre): HookPoint()\n",
      "        (hook_post): HookPoint()\n",
      "      )\n",
      "      (hook_attn_in): HookPoint()\n",
      "      (hook_q_input): HookPoint()\n",
      "      (hook_k_input): HookPoint()\n",
      "      (hook_v_input): HookPoint()\n",
      "      (hook_mlp_in): HookPoint()\n",
      "      (hook_attn_out): HookPoint()\n",
      "      (hook_mlp_out): HookPoint()\n",
      "      (hook_resid_pre): HookPoint()\n",
      "      (hook_resid_mid): HookPoint()\n",
      "      (hook_resid_post): HookPoint()\n",
      "    )\n",
      "  )\n",
      "  (ln_final): LayerNorm(\n",
      "    (hook_scale): HookPoint()\n",
      "    (hook_normalized): HookPoint()\n",
      "  )\n",
      "  (unembed): Unembed()\n",
      ")\n"
     ]
    }
   ],
   "source": [
    "print(hooked_model)"
   ]
  },
  {
   "cell_type": "code",
   "execution_count": 8,
   "metadata": {},
   "outputs": [],
   "source": [
    "def reshape_checkpoint_weights(state_dict, model_state_dict):\n",
    "    new_state_dict = {}\n",
    "\n",
    "    num_heads = 16  # Update based on your model configuration\n",
    "    d_model = 128   # Update based on your model configuration\n",
    "    d_head = d_model // num_heads\n",
    "\n",
    "    for key, value in state_dict.items():\n",
    "        if \"attn.W_Q\" in key or \"attn.W_K\" in key or \"attn.W_V\" in key:\n",
    "            # Reshape [d_model, d_model] to [num_heads, d_head, d_model] and transpose the last two dimensions\n",
    "            reshaped_value = value.view(num_heads, d_head, d_model).transpose(1, 2)\n",
    "            new_state_dict[key] = reshaped_value\n",
    "\n",
    "        elif \"attn.W_O\" in key:\n",
    "            # Reshape [d_model, d_model] to [num_heads, d_model, d_head] and transpose the last two dimensions\n",
    "            reshaped_value = value.view(num_heads, d_model, d_head).transpose(1, 2)\n",
    "            new_state_dict[key] = reshaped_value\n",
    "\n",
    "        elif \"unembed.W_U\" in key:\n",
    "            # Transpose [d_model, vocab_size] to [vocab_size, d_model]\n",
    "            reshaped_value = value.T\n",
    "            new_state_dict[key] = reshaped_value\n",
    "\n",
    "        else:\n",
    "            # Keep the value as-is for other keys\n",
    "            new_state_dict[key] = value\n",
    "\n",
    "    # Update with the rest of the state_dict from the model's state_dict\n",
    "    for key, value in model_state_dict.items():\n",
    "        if key not in new_state_dict:\n",
    "            new_state_dict[key] = value\n",
    "\n",
    "    return new_state_dict"
   ]
  },
  {
   "cell_type": "code",
   "execution_count": 9,
   "metadata": {},
   "outputs": [],
   "source": [
    "# Function to remap keys\n",
    "def remap_state_dict_keys(state_dict):\n",
    "    new_state_dict = {}\n",
    "\n",
    "    for i in range(8):  # Assuming there are 8 blocks\n",
    "        new_state_dict[f\"transformer.h.{i}.ln_1.weight\"] = f\"blocks.{i}.ln1.w\"\n",
    "        new_state_dict[f\"transformer.h.{i}.ln_1.bias\"] = f\"blocks.{i}.ln1.b\"\n",
    "        new_state_dict[f\"transformer.h.{i}.ln_2.weight\"] = f\"blocks.{i}.ln2.w\"\n",
    "        new_state_dict[f\"transformer.h.{i}.ln_2.bias\"] = f\"blocks.{i}.ln2.b\"\n",
    "        new_state_dict[f\"transformer.h.{i}.attn.attention.q_proj.weight\"] = f\"blocks.{i}.attn.W_Q\"\n",
    "        new_state_dict[f\"transformer.h.{i}.attn.attention.out_proj.weight\"] = f\"blocks.{i}.attn.W_O\"\n",
    "        new_state_dict[f\"transformer.h.{i}.attn.attention.out_proj.bias\"] = f\"blocks.{i}.attn.b_O\"\n",
    "        new_state_dict[f\"transformer.h.{i}.attn.attention.k_proj.weight\"] = f\"blocks.{i}.attn.W_K\"\n",
    "        new_state_dict[f\"transformer.h.{i}.attn.attention.v_proj.weight\"] = f\"blocks.{i}.attn.W_V\"\n",
    "        new_state_dict[f\"transformer.h.{i}.attn.attention.k_proj.bias\"] = f\"blocks.{i}.attn.b_K\"\n",
    "        new_state_dict[f\"transformer.h.{i}.attn.attention.v_proj.bias\"] = f\"blocks.{i}.attn.b_V\"\n",
    "\n",
    "    # Remapping other consistent patterns\n",
    "    new_state_dict[\"transformer.wte.weight\"] = \"embed.W_E\"\n",
    "    new_state_dict[\"transformer.wpe.weight\"] = \"pos_embed.W_pos\"\n",
    "    new_state_dict[\"transformer.ln_f.weight\"] = \"ln_final.w\"\n",
    "    new_state_dict[\"transformer.ln_f.bias\"] = \"ln_final.b\"\n",
    "    new_state_dict[\"lm_head.weight\"] = \"unembed.W_U\"\n",
    "\n",
    "    return new_state_dict"
   ]
  },
  {
   "cell_type": "code",
   "execution_count": 14,
   "metadata": {},
   "outputs": [],
   "source": [
    "# Function to update and load the remapped state_dict\n",
    "def load_remapped_state_dict(hooked_model, model):\n",
    "    original_state_dict = model.state_dict()\n",
    "\n",
    "    # Remap the keys\n",
    "    remapped_state_dict = remap_state_dict_keys(original_state_dict)\n",
    "\n",
    "    # Create a new state_dict to load into the hooked_model\n",
    "    new_state_dict = {remapped_state_dict.get(k, k): v for k, v in original_state_dict.items()}\n",
    "    \n",
    "    # Get the hooked model's state dictionary\n",
    "    hooked_model_state_dict = hooked_model.state_dict()\n",
    "    \n",
    "    # Reshape the weights in the checkpoint to match the model\n",
    "    reshaped_state_dict = reshape_checkpoint_weights(new_state_dict, hooked_model_state_dict)\n",
    "    \n",
    "    if 'pos_embed.W_pos' in reshaped_state_dict:\n",
    "        del reshaped_state_dict['pos_embed.W_pos']\n",
    "\n",
    "    # Load the reshaped state_dict into the hooked model\n",
    "    hooked_model.load_state_dict(reshaped_state_dict, strict=False)\n",
    "\n",
    "# Example usage:\n",
    "# hooked_model is your target model and model is your source PyTorch model\n",
    "load_remapped_state_dict(hooked_model, model)\n"
   ]
  },
  {
   "cell_type": "code",
   "execution_count": 20,
   "metadata": {},
   "outputs": [],
   "source": [
    "# Test the model\n",
    "input_ids = torch.randint(0, 50256, (1, 128)).to(device)\n",
    "output = hooked_model(input_ids)"
   ]
  },
  {
   "cell_type": "code",
   "execution_count": 22,
   "metadata": {},
   "outputs": [
    {
     "name": "stdout",
     "output_type": "stream",
     "text": [
      "HookedTransformer(\n",
      "  (embed): Embed()\n",
      "  (hook_embed): HookPoint()\n",
      "  (pos_embed): PosEmbed()\n",
      "  (hook_pos_embed): HookPoint()\n",
      "  (blocks): ModuleList(\n",
      "    (0-7): 8 x TransformerBlock(\n",
      "      (ln1): LayerNorm(\n",
      "        (hook_scale): HookPoint()\n",
      "        (hook_normalized): HookPoint()\n",
      "      )\n",
      "      (ln2): LayerNorm(\n",
      "        (hook_scale): HookPoint()\n",
      "        (hook_normalized): HookPoint()\n",
      "      )\n",
      "      (attn): Attention(\n",
      "        (hook_k): HookPoint()\n",
      "        (hook_q): HookPoint()\n",
      "        (hook_v): HookPoint()\n",
      "        (hook_z): HookPoint()\n",
      "        (hook_attn_scores): HookPoint()\n",
      "        (hook_pattern): HookPoint()\n",
      "        (hook_result): HookPoint()\n",
      "      )\n",
      "      (mlp): MLP(\n",
      "        (hook_pre): HookPoint()\n",
      "        (hook_post): HookPoint()\n",
      "      )\n",
      "      (hook_attn_in): HookPoint()\n",
      "      (hook_q_input): HookPoint()\n",
      "      (hook_k_input): HookPoint()\n",
      "      (hook_v_input): HookPoint()\n",
      "      (hook_mlp_in): HookPoint()\n",
      "      (hook_attn_out): HookPoint()\n",
      "      (hook_mlp_out): HookPoint()\n",
      "      (hook_resid_pre): HookPoint()\n",
      "      (hook_resid_mid): HookPoint()\n",
      "      (hook_resid_post): HookPoint()\n",
      "    )\n",
      "  )\n",
      "  (ln_final): LayerNorm(\n",
      "    (hook_scale): HookPoint()\n",
      "    (hook_normalized): HookPoint()\n",
      "  )\n",
      "  (unembed): Unembed()\n",
      ")\n"
     ]
    }
   ],
   "source": [
    "print(hooked_model)"
   ]
  }
 ],
 "metadata": {
  "kernelspec": {
   "display_name": "ablation",
   "language": "python",
   "name": "python3"
  },
  "language_info": {
   "codemirror_mode": {
    "name": "ipython",
    "version": 3
   },
   "file_extension": ".py",
   "mimetype": "text/x-python",
   "name": "python",
   "nbconvert_exporter": "python",
   "pygments_lexer": "ipython3",
   "version": "3.11.9"
  }
 },
 "nbformat": 4,
 "nbformat_minor": 2
}
