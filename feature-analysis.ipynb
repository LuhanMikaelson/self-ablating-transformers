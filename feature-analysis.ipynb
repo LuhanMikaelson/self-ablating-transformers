{
 "cells": [
  {
   "cell_type": "markdown",
   "metadata": {},
   "source": [
    "## Imports"
   ]
  },
  {
   "cell_type": "code",
   "execution_count": 74,
   "metadata": {},
   "outputs": [
    {
     "name": "stdout",
     "output_type": "stream",
     "text": [
      "The autoreload extension is already loaded. To reload it, use:\n",
      "  %reload_ext autoreload\n"
     ]
    }
   ],
   "source": [
    "%load_ext autoreload\n",
    "%autoreload 2\n",
    "\n",
    "import torch\n",
    "import numpy as np\n",
    "import torch\n",
    "import transformer_lens\n",
    "import transformers\n",
    "import tiktoken\n",
    "\n",
    "import circuitsvis as cv\n",
    "\n",
    "from torch import nn\n",
    "from tqdm import tqdm\n",
    "from transformer_lens.hook_points import HookPoint\n",
    "from transformer_lens import HookedTransformer\n",
    "\n",
    "from model.config import GPTNeoWithSelfAblationConfig\n",
    "from model.gpt_neo import GPTNeoWithSelfAblation"
   ]
  },
  {
   "cell_type": "markdown",
   "metadata": {},
   "source": [
    "## Setup"
   ]
  },
  {
   "cell_type": "code",
   "execution_count": 80,
   "metadata": {},
   "outputs": [
    {
     "name": "stdout",
     "output_type": "stream",
     "text": [
      "Using device: cuda\n"
     ]
    }
   ],
   "source": [
    "# We only need inference\n",
    "torch.set_grad_enabled(False)\n",
    "\n",
    "# Set cuda if available\n",
    "device = torch.device(\"cuda\" if torch.cuda.is_available() else \"cpu\")\n",
    "print(f\"Using device: {device}\")\n",
    "\n",
    "# Change this to the path of the model to test, change the config if needed\n",
    "model_path = \"model_weights/youthful-wave-20.pt\"\n",
    "model_specific_config = {\n",
    "    'hidden_size': 128,\n",
    "    'max_position_embeddings': 256,\n",
    "    \n",
    "    # These two are currently not mutually exclusive\n",
    "    'has_layer_by_layer_ablation_mask': False,\n",
    "    'has_overall_ablation_mask': True,\n",
    "}"
   ]
  },
  {
   "cell_type": "markdown",
   "metadata": {},
   "source": [
    "## Model Loading"
   ]
  },
  {
   "cell_type": "code",
   "execution_count": 81,
   "metadata": {},
   "outputs": [
    {
     "name": "stderr",
     "output_type": "stream",
     "text": [
      "/tmp/ipykernel_1258/1530543697.py:4: FutureWarning: You are using `torch.load` with `weights_only=False` (the current default value), which uses the default pickle module implicitly. It is possible to construct malicious pickle data which will execute arbitrary code during unpickling (See https://github.com/pytorch/pytorch/blob/main/SECURITY.md#untrusted-models for more details). In a future release, the default value for `weights_only` will be flipped to `True`. This limits the functions that could be executed during unpickling. Arbitrary objects will no longer be allowed to be loaded via this mode unless they are explicitly allowlisted by the user via `torch.serialization.add_safe_globals`. We recommend you start setting `weights_only=True` for any use case where you don't have full control of the loaded file. Please open an issue on GitHub for any issues related to this experimental feature.\n",
      "  model.load_state_dict(torch.load(model_path, map_location=device))\n"
     ]
    },
    {
     "data": {
      "text/plain": [
       "GPTNeoWithSelfAblation(\n",
       "  (transformer): ModuleDict(\n",
       "    (wte): Embedding(50257, 128)\n",
       "    (wpe): Embedding(256, 128)\n",
       "    (h): ModuleList(\n",
       "      (0-7): 8 x GPTNeoBlockWithSelfAblation(\n",
       "        (ln_1): LayerNorm((128,), eps=1e-05, elementwise_affine=True)\n",
       "        (attn): AttentionWithSelfAblation(\n",
       "          (hook_k): HookPoint()\n",
       "          (hook_v): HookPoint()\n",
       "          (hook_q): HookPoint()\n",
       "          (attn_hook): HookPoint()\n",
       "          (context): HookPoint()\n",
       "          (ablated_context): HookPoint()\n",
       "          (attention): ModuleDict(\n",
       "            (k_proj): Linear(in_features=128, out_features=128, bias=False)\n",
       "            (v_proj): Linear(in_features=128, out_features=128, bias=False)\n",
       "            (q_proj): Linear(in_features=128, out_features=128, bias=False)\n",
       "            (out_proj): Linear(in_features=128, out_features=128, bias=True)\n",
       "          )\n",
       "        )\n",
       "        (ln_2): LayerNorm((128,), eps=1e-05, elementwise_affine=True)\n",
       "        (mlp): MLPWithSelfAblation(\n",
       "          (c_fc): Linear(in_features=128, out_features=512, bias=True)\n",
       "          (c_proj): Linear(in_features=512, out_features=128, bias=True)\n",
       "          (act): NewGELUActivation()\n",
       "          (hook_fc_activation): HookPoint()\n",
       "          (hook_ablated_fc_activation): HookPoint()\n",
       "        )\n",
       "        (attn_hook): HookPoint()\n",
       "        (mlp_hook): HookPoint()\n",
       "      )\n",
       "    )\n",
       "    (ln_f): LayerNorm((128,), eps=1e-05, elementwise_affine=True)\n",
       "  )\n",
       "  (lm_head): Linear(in_features=128, out_features=50257, bias=False)\n",
       "  (attention_ablations_head): Linear(in_features=128, out_features=1024, bias=True)\n",
       "  (neuron_ablations_head): Linear(in_features=128, out_features=4096, bias=True)\n",
       "  (attn_ablation_hook): HookPoint()\n",
       "  (neuron_ablation_hook): HookPoint()\n",
       ")"
      ]
     },
     "execution_count": 81,
     "metadata": {},
     "output_type": "execute_result"
    }
   ],
   "source": [
    "model_config = GPTNeoWithSelfAblationConfig(**model_specific_config)\n",
    "model = GPTNeoWithSelfAblation(model_config).to(device)\n",
    "tokenizer = tiktoken.get_encoding(\"gpt2\")\n",
    "model.load_state_dict(torch.load(model_path, map_location=device))\n",
    "model.eval()"
   ]
  },
  {
   "cell_type": "markdown",
   "metadata": {},
   "source": [
    "### Sanity Check"
   ]
  },
  {
   "cell_type": "code",
   "execution_count": 82,
   "metadata": {},
   "outputs": [
    {
     "name": "stdout",
     "output_type": "stream",
     "text": [
      "dict_keys(['transformer.h.0.attn.hook_q', 'transformer.h.0.attn.hook_k', 'transformer.h.0.attn.hook_v', 'transformer.h.0.attn.attn_hook', 'transformer.h.0.attn.context', 'transformer.h.0.attn.ablated_context', 'transformer.h.0.attn_hook', 'transformer.h.0.mlp.hook_fc_activation', 'transformer.h.0.mlp.hook_ablated_fc_activation', 'transformer.h.0.mlp_hook', 'transformer.h.1.attn.hook_q', 'transformer.h.1.attn.hook_k', 'transformer.h.1.attn.hook_v', 'transformer.h.1.attn.attn_hook', 'transformer.h.1.attn.context', 'transformer.h.1.attn.ablated_context', 'transformer.h.1.attn_hook', 'transformer.h.1.mlp.hook_fc_activation', 'transformer.h.1.mlp.hook_ablated_fc_activation', 'transformer.h.1.mlp_hook', 'transformer.h.2.attn.hook_q', 'transformer.h.2.attn.hook_k', 'transformer.h.2.attn.hook_v', 'transformer.h.2.attn.attn_hook', 'transformer.h.2.attn.context', 'transformer.h.2.attn.ablated_context', 'transformer.h.2.attn_hook', 'transformer.h.2.mlp.hook_fc_activation', 'transformer.h.2.mlp.hook_ablated_fc_activation', 'transformer.h.2.mlp_hook', 'transformer.h.3.attn.hook_q', 'transformer.h.3.attn.hook_k', 'transformer.h.3.attn.hook_v', 'transformer.h.3.attn.attn_hook', 'transformer.h.3.attn.context', 'transformer.h.3.attn.ablated_context', 'transformer.h.3.attn_hook', 'transformer.h.3.mlp.hook_fc_activation', 'transformer.h.3.mlp.hook_ablated_fc_activation', 'transformer.h.3.mlp_hook', 'transformer.h.4.attn.hook_q', 'transformer.h.4.attn.hook_k', 'transformer.h.4.attn.hook_v', 'transformer.h.4.attn.attn_hook', 'transformer.h.4.attn.context', 'transformer.h.4.attn.ablated_context', 'transformer.h.4.attn_hook', 'transformer.h.4.mlp.hook_fc_activation', 'transformer.h.4.mlp.hook_ablated_fc_activation', 'transformer.h.4.mlp_hook', 'transformer.h.5.attn.hook_q', 'transformer.h.5.attn.hook_k', 'transformer.h.5.attn.hook_v', 'transformer.h.5.attn.attn_hook', 'transformer.h.5.attn.context', 'transformer.h.5.attn.ablated_context', 'transformer.h.5.attn_hook', 'transformer.h.5.mlp.hook_fc_activation', 'transformer.h.5.mlp.hook_ablated_fc_activation', 'transformer.h.5.mlp_hook', 'transformer.h.6.attn.hook_q', 'transformer.h.6.attn.hook_k', 'transformer.h.6.attn.hook_v', 'transformer.h.6.attn.attn_hook', 'transformer.h.6.attn.context', 'transformer.h.6.attn.ablated_context', 'transformer.h.6.attn_hook', 'transformer.h.6.mlp.hook_fc_activation', 'transformer.h.6.mlp.hook_ablated_fc_activation', 'transformer.h.6.mlp_hook', 'transformer.h.7.attn.hook_q', 'transformer.h.7.attn.hook_k', 'transformer.h.7.attn.hook_v', 'transformer.h.7.attn.attn_hook', 'transformer.h.7.attn.context', 'transformer.h.7.attn.ablated_context', 'transformer.h.7.attn_hook', 'transformer.h.7.mlp.hook_fc_activation', 'transformer.h.7.mlp.hook_ablated_fc_activation', 'transformer.h.7.mlp_hook', 'attn_ablation_hook', 'neuron_ablation_hook'])\n"
     ]
    }
   ],
   "source": [
    "inputs = torch.randint(0, 50256, (1, 256)).to(device)\n",
    "\n",
    "# Try run_with_cache\n",
    "output, cache = model.run_with_cache(inputs)\n",
    "\n",
    "# Seems to be working?\n",
    "print(cache.keys())"
   ]
  },
  {
   "cell_type": "code",
   "execution_count": 83,
   "metadata": {},
   "outputs": [],
   "source": [
    "input_text = \"Sam and Tom are in the park. Tom said to\"\n",
    "input_ids = tokenizer.encode(input_text)"
   ]
  },
  {
   "cell_type": "code",
   "execution_count": 84,
   "metadata": {},
   "outputs": [
    {
     "data": {
      "text/plain": [
       "' Sam'"
      ]
     },
     "execution_count": 84,
     "metadata": {},
     "output_type": "execute_result"
    }
   ],
   "source": [
    "# decode the output\n",
    "output, cache = model.run_with_cache(torch.tensor(input_ids).unsqueeze(0).to(device))\n",
    "tokenizer.decode(torch.argmax(output[\"logits_clean\"],-1)[0,-1:].tolist())"
   ]
  },
  {
   "cell_type": "code",
   "execution_count": 94,
   "metadata": {},
   "outputs": [],
   "source": [
    "# Convert ids to tokens\n",
    "tokens = [tokenizer.decode_single_token_bytes(token).decode('utf-8') for token in input_ids]\n",
    "\n",
    "activation_pattern = cache['transformer.h.4.attn.attn_hook']\n",
    "\n",
    "# Seems to be working\n",
    "output = cv.attention.attention_pattern(tokens=tokens, attention=activation_pattern[0,0])"
   ]
  },
  {
   "cell_type": "code",
   "execution_count": 95,
   "metadata": {},
   "outputs": [
    {
     "data": {
      "text/html": [
       "<div id=\"circuits-vis-10f4477a-cca7\" style=\"margin: 15px 0;\"/>\n",
       "    <script crossorigin type=\"module\">\n",
       "    import { render, AttentionPattern } from \"https://unpkg.com/circuitsvis@1.41.0/dist/cdn/esm.js\";\n",
       "    render(\n",
       "      \"circuits-vis-10f4477a-cca7\",\n",
       "      AttentionPattern,\n",
       "      {\"tokens\": [\"Sam\", \" and\", \" Tom\", \" are\", \" in\", \" the\", \" park\", \".\", \" Tom\", \" said\", \" to\"], \"attention\": [[1.0, 0.0, 0.0, 0.0, 0.0, 0.0, 0.0, 0.0, 0.0, 0.0, 0.0], [0.35533782839775085, 0.6446621417999268, 0.0, 0.0, 0.0, 0.0, 0.0, 0.0, 0.0, 0.0, 0.0], [0.1893039345741272, 0.7740859389305115, 0.03661015257239342, 0.0, 0.0, 0.0, 0.0, 0.0, 0.0, 0.0, 0.0], [0.19505883753299713, 0.4468911588191986, 0.040280312299728394, 0.31776970624923706, 0.0, 0.0, 0.0, 0.0, 0.0, 0.0, 0.0], [0.13266639411449432, 0.609573245048523, 0.02563539519906044, 0.2315533310174942, 0.0005716645973734558, 0.0, 0.0, 0.0, 0.0, 0.0, 0.0], [0.07736703753471375, 0.42883074283599854, 0.01971389539539814, 0.21282988786697388, 0.001173260621726513, 0.2600851356983185, 0.0, 0.0, 0.0, 0.0, 0.0], [0.0911826342344284, 0.36402061581611633, 0.019036589190363884, 0.27497848868370056, 0.0011601943988353014, 0.23809483647346497, 0.011526603251695633, 0.0, 0.0, 0.0, 0.0], [0.007470278535038233, 0.04585869237780571, 0.0022499514743685722, 0.013735700398683548, 0.0002671678375918418, 0.0456499420106411, 0.0012364559806883335, 0.8835318088531494, 0.0, 0.0, 0.0], [0.009806672111153603, 0.046141453087329865, 0.002148544415831566, 0.019916027784347534, 5.484359644469805e-05, 0.03156528249382973, 0.0006176334572955966, 0.8866868019104004, 0.003062726929783821, 0.0, 0.0], [0.007374322507530451, 0.029573259875178337, 0.0017604645108804107, 0.012312364764511585, 0.00020910808234475553, 0.02541547827422619, 0.000813037040643394, 0.9123920202255249, 0.0017972900532186031, 0.008352633565664291, 0.0], [0.007211900781840086, 0.03172319754958153, 0.0012596534797921777, 0.01354296412318945, 4.475388050195761e-05, 0.018856702372431755, 0.000499412533827126, 0.912728488445282, 0.0027389375027269125, 0.0038030294235795736, 0.007590975612401962]]}\n",
       "    )\n",
       "    </script>"
      ],
      "text/plain": [
       "<circuitsvis.utils.render.RenderedHTML at 0x7f4c4cd1c750>"
      ]
     },
     "metadata": {},
     "output_type": "display_data"
    }
   ],
   "source": [
    "display(output)"
   ]
  }
 ],
 "metadata": {
  "kernelspec": {
   "display_name": "ablation",
   "language": "python",
   "name": "python3"
  },
  "language_info": {
   "codemirror_mode": {
    "name": "ipython",
    "version": 3
   },
   "file_extension": ".py",
   "mimetype": "text/x-python",
   "name": "python",
   "nbconvert_exporter": "python",
   "pygments_lexer": "ipython3",
   "version": "undefined.undefined.undefined"
  }
 },
 "nbformat": 4,
 "nbformat_minor": 2
}
