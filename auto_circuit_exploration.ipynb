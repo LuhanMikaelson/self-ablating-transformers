{
 "cells": [
  {
   "cell_type": "markdown",
   "metadata": {},
   "source": [
    "# Autocircuit Test"
   ]
  },
  {
   "cell_type": "code",
   "execution_count": 35,
   "metadata": {},
   "outputs": [
    {
     "name": "stdout",
     "output_type": "stream",
     "text": [
      "The autoreload extension is already loaded. To reload it, use:\n",
      "  %reload_ext autoreload\n"
     ]
    }
   ],
   "source": [
    "%load_ext autoreload\n",
    "%autoreload 2\n",
    "\n",
    "import torch as t\n",
    "\n",
    "from auto_circuit.data import load_datasets_from_json\n",
    "from auto_circuit.experiment_utils import load_tl_model\n",
    "from auto_circuit.types import AblationType\n",
    "from auto_circuit.utils.ablation_activations import src_ablations\n",
    "from auto_circuit.utils.graph_utils import patch_mode, patchable_model\n",
    "from auto_circuit.utils.misc import repo_path_to_abs_path\n",
    "from auto_circuit.visualize import draw_seq_graph\n",
    "\n",
    "from utils.circuit_discovery import acdc_discovery\n",
    "from utils.compatibility import convert_model_to_hooked_transformer\n",
    "\n",
    "from model.gpt_neo import GPTNeoWithSelfAblation\n",
    "from model.config import GPTNeoWithSelfAblationConfig\n",
    "\n",
    "from pathlib import Path\n",
    "import tiktoken"
   ]
  },
  {
   "cell_type": "code",
   "execution_count": 47,
   "metadata": {},
   "outputs": [
    {
     "name": "stdout",
     "output_type": "stream",
     "text": [
      "Device: cuda\n",
      "Loaded pretrained model tiny-stories-1M into HookedTransformer\n"
     ]
    },
    {
     "name": "stderr",
     "output_type": "stream",
     "text": [
      "/home/jazhyc/miniconda3/envs/ablation/lib/python3.11/site-packages/transformers/tokenization_utils_base.py:1601: FutureWarning:\n",
      "\n",
      "`clean_up_tokenization_spaces` was not set. It will be set to `True` by default. This behavior will be depracted in transformers v4.45, and will be then set to `False` by default. For more details check this issue: https://github.com/huggingface/transformers/issues/31884\n",
      "\n"
     ]
    }
   ],
   "source": [
    "device = t.device(\"cuda\" if t.cuda.is_available() else \"cpu\")\n",
    "print(f\"Device: {device}\")\n",
    "model = load_tl_model(\"tiny-stories-1M\", device) # Smaller model for now"
   ]
  },
  {
   "cell_type": "code",
   "execution_count": 48,
   "metadata": {},
   "outputs": [],
   "source": [
    "path = Path(\"datasets/autocircuit_ioi_prompts.json\")\n",
    "train_loader, test_loader = load_datasets_from_json(\n",
    "    model=model,\n",
    "    path=path,\n",
    "    device=device,\n",
    "    prepend_bos=True,\n",
    "    batch_size=16,\n",
    "    train_test_size=(128, 128),\n",
    ")\n"
   ]
  },
  {
   "cell_type": "markdown",
   "metadata": {},
   "source": [
    "## Testing autocircuit's ACDC using regular transformer"
   ]
  },
  {
   "cell_type": "code",
   "execution_count": 49,
   "metadata": {},
   "outputs": [],
   "source": [
    "def test_model(patched_model, data_loader):\n",
    "    total_edges, remaining_edges, pruned_scores = acdc_discovery(patched_model, data_loader)\n",
    "    print(f\"Total edges: {total_edges}\")\n",
    "    print(f\"Remaining edges: {remaining_edges}\")\n",
    "    \n",
    "    # Pruned neurons are given a value of inf\n",
    "    # Interative Image may cause performance issues\n",
    "    _ = draw_seq_graph(patched_model, pruned_scores, score_threshold=0.1, orientation='v')"
   ]
  },
  {
   "cell_type": "code",
   "execution_count": 50,
   "metadata": {},
   "outputs": [],
   "source": [
    "patched_model = patchable_model(\n",
    "    model,\n",
    "    factorized=True,\n",
    "    slice_output=\"last_seq\",\n",
    "    separate_qkv=True,\n",
    "    device=device,\n",
    ")"
   ]
  },
  {
   "cell_type": "code",
   "execution_count": 51,
   "metadata": {},
   "outputs": [
    {
     "data": {
      "application/vnd.jupyter.widget-view+json": {
       "model_id": "f862c149c8864da7bd3fa2640894581f",
       "version_major": 2,
       "version_minor": 0
      },
      "text/plain": [
       "VBox(children=(          | 0/1 [00:00<?, ?it/s],))"
      ]
     },
     "metadata": {},
     "output_type": "display_data"
    },
    {
     "name": "stdout",
     "output_type": "stream",
     "text": [
      "Total edges: 23981\n",
      "Remaining edges: 222\n"
     ]
    },
    {
     "data": {
      "application/vnd.plotly.v1+json": {
       "config": {
        "plotlyServerURL": "https://plot.ly"
       },
       "data": [
        {
         "arrangement": "perpendicular",
         "domain": {
          "y": [
           0,
           1
          ]
         },
         "link": {
          "arrowlen": 25,
          "color": [
           "rgba(0,0,255,0.3)",
           "rgba(0,0,255,0.3)",
           "rgba(0,0,255,0.3)",
           "rgba(0,0,255,0.3)",
           "rgba(0,0,255,0.3)",
           "rgba(0,0,255,0.3)",
           "rgba(0,0,255,0.3)",
           "rgba(0,0,255,0.3)",
           "rgba(0,0,255,0.3)",
           "rgba(0,0,255,0.3)",
           "rgba(0,0,255,0.3)",
           "rgba(0,0,255,0.3)",
           "rgba(0,0,255,0.3)",
           "rgba(0,0,255,0.3)",
           "rgba(0,0,255,0.3)",
           "rgba(0,0,255,0.3)",
           "rgba(0,0,255,0.3)",
           "rgba(0,0,255,0.3)",
           "rgba(0,0,255,0.3)",
           "rgba(0,0,255,0.3)",
           "rgba(0,0,255,0.3)",
           "rgba(0,0,255,0.3)",
           "rgba(0,0,255,0.3)",
           "rgba(0,0,255,0.3)",
           "rgba(0,0,255,0.3)",
           "rgba(0,0,255,0.3)",
           "rgba(0,0,255,0.3)",
           "rgba(0,0,255,0.3)",
           "rgba(0,0,255,0.3)",
           "rgba(0,0,255,0.3)",
           "rgba(0,0,255,0.3)",
           "rgba(0,0,255,0.3)",
           "rgba(0,0,255,0.3)",
           "rgba(0,0,255,0.3)",
           "rgba(0,0,255,0.3)",
           "rgba(0,0,255,0.3)",
           "rgba(0,0,255,0.3)",
           "rgba(0,0,255,0.3)",
           "rgba(0,0,255,0.3)",
           "rgba(0,0,255,0.3)",
           "rgba(0,0,255,0.3)",
           "rgba(0,0,255,0.3)",
           "rgba(0,0,255,0.3)",
           "rgba(0,0,255,0.3)",
           "rgba(0,0,255,0.3)",
           "rgba(0,0,255,0.3)",
           "rgba(0,0,255,0.3)",
           "rgba(0,0,255,0.3)",
           "rgba(0,0,255,0.3)",
           "rgba(0,0,255,0.3)",
           "rgba(0,0,255,0.3)",
           "rgba(0,0,255,0.3)",
           "rgba(0,0,255,0.3)",
           "rgba(0,0,255,0.3)",
           "rgba(0,0,255,0.3)",
           "rgba(0,0,255,0.3)",
           "rgba(0,0,255,0.3)",
           "rgba(0,0,255,0.3)",
           "rgba(0,0,255,0.3)",
           "rgba(0,0,255,0.3)",
           "rgba(0,0,255,0.3)",
           "rgba(0,0,255,0.3)",
           "rgba(0,0,255,0.3)",
           "rgba(0,0,255,0.3)",
           "rgba(0,0,255,0.3)",
           "rgba(0,0,255,0.3)",
           "rgba(0,0,255,0.3)",
           "rgba(0,0,255,0.3)",
           "rgba(0,0,255,0.3)",
           "rgba(0,0,255,0.3)",
           "rgba(0,0,255,0.3)",
           "rgba(0,0,255,0.3)",
           "rgba(0,0,255,0.3)",
           "rgba(0,0,255,0.3)",
           "rgba(0,0,255,0.3)",
           "rgba(0,0,255,0.3)",
           "rgba(0,0,255,0.3)",
           "rgba(0,0,255,0.3)",
           "rgba(0,0,255,0.3)",
           "rgba(0,0,255,0.3)",
           "rgba(0,0,255,0.3)",
           "rgba(0,0,255,0.3)",
           "rgba(0,0,255,0.3)",
           "rgba(0,0,255,0.3)",
           "rgba(0,0,255,0.3)",
           "rgba(0,0,255,0.3)",
           "rgba(0,0,255,0.3)",
           "rgba(0,0,255,0.3)",
           "rgba(0,0,255,0.3)",
           "rgba(0,0,255,0.3)",
           "rgba(0,0,255,0.3)",
           "rgba(0,0,255,0.3)",
           "rgba(0,0,255,0.3)",
           "rgba(0,0,255,0.3)",
           "rgba(0,0,255,0.3)",
           "rgba(0,0,255,0.3)",
           "rgba(0,0,255,0.3)",
           "rgba(0,0,255,0.3)",
           "rgba(0,0,255,0.3)",
           "rgba(0,0,255,0.3)",
           "rgba(0,0,255,0.3)",
           "rgba(0,0,255,0.3)",
           "rgba(0,0,255,0.3)",
           "rgba(0,0,255,0.3)",
           "rgba(0,0,255,0.3)",
           "rgba(0,0,255,0.3)",
           "rgba(0,0,255,0.3)",
           "rgba(0,0,255,0.3)",
           "rgba(0,0,255,0.3)",
           "rgba(0,0,255,0.3)",
           "rgba(0,0,255,0.3)",
           "rgba(0,0,255,0.3)",
           "rgba(0,0,255,0.3)",
           "rgba(0,0,255,0.3)",
           "rgba(0,0,255,0.3)",
           "rgba(0,0,255,0.3)",
           "rgba(0,0,255,0.3)",
           "rgba(0,0,255,0.3)",
           "rgba(0,0,255,0.3)",
           "rgba(0,0,255,0.3)",
           "rgba(0,0,255,0.3)",
           "rgba(0,0,255,0.3)",
           "rgba(0,0,255,0.3)",
           "rgba(0,0,255,0.3)",
           "rgba(0,0,255,0.3)",
           "rgba(0,0,255,0.3)",
           "rgba(0,0,255,0.3)",
           "rgba(0,0,255,0.3)",
           "rgba(0,0,255,0.3)",
           "rgba(0,0,255,0.3)",
           "rgba(0,0,255,0.3)",
           "rgba(0,0,255,0.3)",
           "rgba(0,0,255,0.3)",
           "rgba(0,0,255,0.3)",
           "rgba(0,0,255,0.3)",
           "rgba(0,0,255,0.3)",
           "rgba(0,0,255,0.3)",
           "rgba(0,0,255,0.3)",
           "rgba(0,0,255,0.3)",
           "rgba(0,0,255,0.3)",
           "rgba(0,0,255,0.3)",
           "rgba(0,0,255,0.3)",
           "rgba(0,0,255,0.3)",
           "rgba(0,0,255,0.3)",
           "rgba(0,0,255,0.3)",
           "rgba(0,0,255,0.3)",
           "rgba(0,0,255,0.3)",
           "rgba(0,0,255,0.3)",
           "rgba(0,0,255,0.3)",
           "rgba(0,0,255,0.3)",
           "rgba(0,0,255,0.3)",
           "rgba(0,0,255,0.3)",
           "rgba(0,0,255,0.3)",
           "rgba(0,0,255,0.3)",
           "rgba(0,0,255,0.3)",
           "rgba(0,0,255,0.3)",
           "rgba(0,0,255,0.3)",
           "rgba(0,0,255,0.3)",
           "rgba(0,0,255,0.3)",
           "rgba(0,0,255,0.3)",
           "rgba(0,0,255,0.3)",
           "rgba(0,0,255,0.3)",
           "rgba(0,0,255,0.3)",
           "rgba(0,0,255,0.3)",
           "rgba(0,0,255,0.3)",
           "rgba(0,0,255,0.3)",
           "rgba(0,0,255,0.3)",
           "rgba(0,0,255,0.3)",
           "rgba(0,0,255,0.3)",
           "rgba(0,0,255,0.3)",
           "rgba(0,0,255,0.3)",
           "rgba(0,0,255,0.3)",
           "rgba(0,0,255,0.3)",
           "rgba(0,0,255,0.3)",
           "rgba(0,0,255,0.3)",
           "rgba(0,0,255,0.3)",
           "rgba(0,0,255,0.3)",
           "rgba(0,0,255,0.3)",
           "rgba(0,0,255,0.3)",
           "rgba(0,0,255,0.3)",
           "rgba(0,0,255,0.3)",
           "rgba(0,0,255,0.3)",
           "rgba(0,0,255,0.3)",
           "rgba(0,0,255,0.3)",
           "rgba(0,0,255,0.3)",
           "rgba(0,0,255,0.3)",
           "rgba(0,0,255,0.3)",
           "rgba(0,0,255,0.3)",
           "rgba(0,0,255,0.3)",
           "rgba(0,0,255,0.3)",
           "rgba(0,0,255,0.3)",
           "rgba(0,0,255,0.3)",
           "rgba(0,0,255,0.3)",
           "rgba(0,0,255,0.3)",
           "rgba(0,0,255,0.3)",
           "rgba(0,0,255,0.3)",
           "rgba(0,0,255,0.3)",
           "rgba(0,0,255,0.3)",
           "rgba(0,0,255,0.3)",
           "rgba(0,0,255,0.3)",
           "rgba(0,0,255,0.3)",
           "rgba(0,0,255,0.3)",
           "rgba(0,0,255,0.3)",
           "rgba(0,0,255,0.3)",
           "rgba(0,0,255,0.3)",
           "rgba(0,0,255,0.3)",
           "rgba(0,0,255,0.3)",
           "rgba(0,0,255,0.3)",
           "rgba(0,0,255,0.3)",
           "rgba(0,0,255,0.3)",
           "rgba(0,0,255,0.3)",
           "rgba(0,0,255,0.3)",
           "rgba(0,0,255,0.3)",
           "rgba(0,0,255,0.3)",
           "rgba(0,0,255,0.3)",
           "rgba(0,0,255,0.3)",
           "rgba(0,0,255,0.3)",
           "rgba(0,0,255,0.3)",
           "rgba(0,0,255,0.3)",
           "rgba(0,0,255,0.3)",
           "rgba(0,0,255,0.3)",
           "rgba(0,0,255,0.3)"
          ],
          "label": [
           "MLP 6->A7.15.K<br>None<br>1.00",
           "A2.8->MLP 2<br>None<br>1.00",
           "A0.8->MLP 3<br>None<br>1.00",
           "MLP 2->A3.10.K<br>None<br>1.00",
           "MLP 2->A7.5.V<br>None<br>1.00",
           "MLP 0->A2.6.K<br>None<br>1.00",
           "Resid Start->A4.4.K<br>None<br>1.00",
           "MLP 4->A5.0.K<br>None<br>1.00",
           "A0.3->MLP 5<br>None<br>1.00",
           "Resid Start->A2.12.K<br>None<br>1.00",
           "MLP 1->MLP 6<br>None<br>1.00",
           "A1.14->A7.5.K<br>None<br>1.00",
           "A0.8->A2.12.K<br>None<br>1.00",
           "A3.10->MLP 5<br>None<br>1.00",
           "A2.12->MLP 5<br>None<br>1.00",
           "MLP 0->A1.14.V<br>None<br>1.00",
           "MLP 0->A2.10.K<br>None<br>1.00",
           "MLP 1->MLP 4<br>None<br>1.00",
           "MLP 0->A5.0.K<br>None<br>1.00",
           "MLP 1->A7.13.V<br>None<br>1.00",
           "Resid Start->A0.4.Q<br>None<br>1.00",
           "A7.15->MLP 7<br>None<br>1.00",
           "A1.14->MLP 6<br>None<br>1.00",
           "Resid Start->A2.10.K<br>None<br>1.00",
           "A2.12->MLP 2<br>None<br>1.00",
           "A1.14->A7.15.V<br>None<br>1.00",
           "Resid Start->A0.8.Q<br>None<br>1.00",
           "A1.14->MLP 4<br>None<br>1.00",
           "MLP 0->A2.10.V<br>None<br>1.00",
           "MLP 6->A7.15.V<br>None<br>1.00",
           "MLP 1->A2.13.K<br>None<br>1.00",
           "MLP 3->MLP 4<br>None<br>1.00",
           "MLP 2->MLP 3<br>None<br>1.00",
           "MLP 2->A5.0.K<br>None<br>1.00",
           "MLP 0->A7.10.K<br>None<br>1.00",
           "MLP 1->A7.10.V<br>None<br>1.00",
           "A1.12->MLP 1<br>None<br>1.00",
           "Resid Start->A2.10.V<br>None<br>1.00",
           "MLP 1->A4.4.K<br>None<br>1.00",
           "A7.13->Resid End<br>None<br>1.00",
           "MLP 1->A7.15.V<br>None<br>1.00",
           "MLP 0->A7.15.K<br>None<br>1.00",
           "Resid Start->A7.10.K<br>None<br>1.00",
           "A2.6->MLP 7<br>None<br>1.00",
           "MLP 0->A7.13.K<br>None<br>1.00",
           "MLP 1->A7.5.V<br>None<br>1.00",
           "A0.11->MLP 3<br>None<br>1.00",
           "A0.8->A4.4.V<br>None<br>1.00",
           "Resid Start->A7.15.K<br>None<br>1.00",
           "Resid Start->A5.0.K<br>None<br>1.00",
           "MLP 2->A4.4.V<br>None<br>1.00",
           "A0.1->A2.6.K<br>None<br>1.00",
           "MLP 3->A4.4.K<br>None<br>1.00",
           "Resid Start->A7.13.K<br>None<br>1.00",
           "MLP 3->A7.15.V<br>None<br>1.00",
           "MLP 4->MLP 6<br>None<br>1.00",
           "A0.15->A2.6.K<br>None<br>1.00",
           "A1.14->A7.5.V<br>None<br>1.00",
           "MLP 4->A7.15.V<br>None<br>1.00",
           "MLP 6->Resid End<br>None<br>1.00",
           "MLP 0->A2.13.K<br>None<br>1.00",
           "MLP 6->A7.5.V<br>None<br>1.00",
           "MLP 0->MLP 6<br>None<br>1.00",
           "MLP 0->A7.10.V<br>None<br>1.00",
           "A4.4->MLP 6<br>None<br>1.00",
           "MLP 4->Resid End<br>None<br>1.00",
           "MLP 0->A7.15.V<br>None<br>1.00",
           "Resid Start->A2.6.V<br>None<br>1.00",
           "A0.11->MLP 5<br>None<br>1.00",
           "Resid Start->MLP 6<br>None<br>1.00",
           "MLP 1->MLP 3<br>None<br>1.00",
           "MLP 3->MLP 7<br>None<br>1.00",
           "A4.4->MLP 4<br>None<br>1.00",
           "MLP 6->MLP 7<br>None<br>1.00",
           "A0.8->MLP 6<br>None<br>1.00",
           "MLP 0->A2.8.Q<br>None<br>1.00",
           "A7.10->MLP 7<br>None<br>1.00",
           "A4.4->Resid End<br>None<br>1.00",
           "MLP 4->MLP 7<br>None<br>1.00",
           "Resid Start->MLP 4<br>None<br>1.00",
           "A7.5->Resid End<br>None<br>1.00",
           "MLP 2->MLP 6<br>None<br>1.00",
           "A0.8->MLP 4<br>None<br>1.00",
           "MLP 5->A7.10.K<br>None<br>1.00",
           "Resid Start->MLP 0<br>None<br>1.00",
           "Resid Start->A2.8.Q<br>None<br>1.00",
           "A1.14->MLP 3<br>None<br>1.00",
           "MLP 1->A2.8.V<br>None<br>1.00",
           "MLP 1->A5.0.V<br>None<br>1.00",
           "A0.8->A2.6.K<br>None<br>1.00",
           "A0.8->MLP 0<br>None<br>1.00",
           "MLP 3->A7.10.K<br>None<br>1.00",
           "MLP 2->MLP 4<br>None<br>1.00",
           "A0.11->A7.5.K<br>None<br>1.00",
           "A2.6->MLP 6<br>None<br>1.00",
           "MLP 0->A4.4.K<br>None<br>1.00",
           "MLP 1->A2.9.K<br>None<br>1.00",
           "MLP 3->A7.15.K<br>None<br>1.00",
           "A0.4->MLP 6<br>None<br>1.00",
           "A5.0->MLP 7<br>None<br>1.00",
           "MLP 3->A5.0.K<br>None<br>1.00",
           "A0.12->MLP 5<br>None<br>1.00",
           "Resid Start->A2.13.K<br>None<br>1.00",
           "MLP 5->A7.13.K<br>None<br>1.00",
           "MLP 0->MLP 4<br>None<br>1.00",
           "Resid Start->MLP 1<br>None<br>1.00",
           "Resid Start->A7.10.V<br>None<br>1.00",
           "MLP 0->A7.13.V<br>None<br>1.00",
           "A0.3->MLP 6<br>None<br>1.00",
           "MLP 3->A7.13.K<br>None<br>1.00",
           "A0.8->MLP 1<br>None<br>1.00",
           "A7.15->Resid End<br>None<br>1.00",
           "A0.9->MLP 3<br>None<br>1.00",
           "MLP 0->A7.5.V<br>None<br>1.00",
           "Resid Start->A7.15.V<br>None<br>1.00",
           "A0.4->MLP 0<br>None<br>1.00",
           "Resid Start->A7.13.V<br>None<br>1.00",
           "A2.13->MLP 5<br>None<br>1.00",
           "A0.3->MLP 4<br>None<br>1.00",
           "MLP 2->A4.4.K<br>None<br>1.00",
           "MLP 4->A5.0.V<br>None<br>1.00",
           "Resid Start->A0.3.V<br>None<br>1.00",
           "MLP 2->A7.15.V<br>None<br>1.00",
           "Resid Start->A7.5.V<br>None<br>1.00",
           "A0.2->MLP 6<br>None<br>1.00",
           "Resid Start->A7.5.K<br>None<br>1.00",
           "A0.11->A3.10.K<br>None<br>1.00",
           "MLP 5->MLP 6<br>None<br>1.00",
           "MLP 0->MLP 1<br>None<br>1.00",
           "A4.4->MLP 7<br>None<br>1.00",
           "MLP 1->A4.4.V<br>None<br>1.00",
           "A7.5->MLP 7<br>None<br>1.00",
           "MLP 0->A2.8.V<br>None<br>1.00",
           "MLP 4->A7.10.K<br>None<br>1.00",
           "MLP 3->MLP 6<br>None<br>1.00",
           "MLP 1->A2.8.K<br>None<br>1.00",
           "A2.8->A7.5.K<br>None<br>1.00",
           "MLP 1->MLP 5<br>None<br>1.00",
           "A0.4->A7.15.V<br>None<br>1.00",
           "MLP 4->A7.15.K<br>None<br>1.00",
           "MLP 5->Resid End<br>None<br>1.00",
           "MLP 1->A6.15.K<br>None<br>1.00",
           "A2.8->MLP 5<br>None<br>1.00",
           "A0.4->A2.6.K<br>None<br>1.00",
           "MLP 4->A7.13.K<br>None<br>1.00",
           "A1.14->A2.8.K<br>None<br>1.00",
           "MLP 3->A7.5.K<br>None<br>1.00",
           "A2.12->MLP 4<br>None<br>1.00",
           "MLP 5->MLP 7<br>None<br>1.00",
           "MLP 3->MLP 5<br>None<br>1.00",
           "MLP 7->Resid End<br>None<br>1.00",
           "MLP 1->A7.5.K<br>None<br>1.00",
           "MLP 0->A5.0.V<br>None<br>1.00",
           "MLP 5->A7.15.V<br>None<br>1.00",
           "MLP 4->MLP 5<br>None<br>1.00",
           "MLP 0->A2.9.K<br>None<br>1.00",
           "MLP 2->A7.15.K<br>None<br>1.00",
           "Resid Start->A2.8.V<br>None<br>1.00",
           "Resid Start->A5.0.V<br>None<br>1.00",
           "MLP 0->A2.10.Q<br>None<br>1.00",
           "MLP 3->A7.13.V<br>None<br>1.00",
           "MLP 0->MLP 3<br>None<br>1.00",
           "A0.11->A7.10.K<br>None<br>1.00",
           "MLP 1->A2.6.K<br>None<br>1.00",
           "MLP 2->A7.13.K<br>None<br>1.00",
           "Resid Start->A2.9.K<br>None<br>1.00",
           "MLP 1->MLP 2<br>None<br>1.00",
           "MLP 2->A5.0.V<br>None<br>1.00",
           "MLP 6->A7.5.K<br>None<br>1.00",
           "Resid Start->MLP 3<br>None<br>1.00",
           "A0.11->A7.15.K<br>None<br>1.00",
           "A5.0->MLP 6<br>None<br>1.00",
           "MLP 4->A7.5.K<br>None<br>1.00",
           "MLP 1->A3.10.K<br>None<br>1.00",
           "A0.8->MLP 5<br>None<br>1.00",
           "MLP 2->A7.10.K<br>None<br>1.00",
           "MLP 0->A4.4.V<br>None<br>1.00",
           "A2.9->MLP 4<br>None<br>1.00",
           "MLP 1->A2.12.K<br>None<br>1.00",
           "MLP 0->A2.8.K<br>None<br>1.00",
           "MLP 0->MLP 5<br>None<br>1.00",
           "Resid Start->A4.4.V<br>None<br>1.00",
           "MLP 3->A7.5.V<br>None<br>1.00",
           "A4.4->MLP 5<br>None<br>1.00",
           "MLP 0->A6.15.K<br>None<br>1.00",
           "MLP 5->A7.15.K<br>None<br>1.00",
           "Resid Start->A2.8.K<br>None<br>1.00",
           "A2.10->MLP 6<br>None<br>1.00",
           "Resid Start->MLP 5<br>None<br>1.00",
           "A0.8->A2.8.K<br>None<br>1.00",
           "MLP 0->A1.14.K<br>None<br>1.00",
           "MLP 1->A2.10.K<br>None<br>1.00",
           "MLP 2->A7.5.K<br>None<br>1.00",
           "MLP 0->MLP 2<br>None<br>1.00",
           "MLP 1->A5.0.K<br>None<br>1.00",
           "A0.8->A2.13.K<br>None<br>1.00",
           "MLP 2->MLP 5<br>None<br>1.00",
           "Resid Start->A1.14.K<br>None<br>1.00",
           "Resid Start->A1.14.Q<br>None<br>1.00",
           "MLP 2->A6.15.K<br>None<br>1.00",
           "MLP 0->A7.5.K<br>None<br>1.00",
           "A0.4->A7.5.K<br>None<br>1.00",
           "MLP 1->A2.10.V<br>None<br>1.00",
           "A1.14->A5.0.K<br>None<br>1.00",
           "A0.4->A2.8.K<br>None<br>1.00",
           "MLP 1->A7.10.K<br>None<br>1.00",
           "A6.15->MLP 6<br>None<br>1.00",
           "MLP 0->A6.15.V<br>None<br>1.00",
           "MLP 1->A7.15.K<br>None<br>1.00",
           "Resid Start->A6.15.K<br>None<br>1.00",
           "Resid Start->A6.15.V<br>None<br>1.00",
           "A2.8->A7.15.K<br>None<br>1.00",
           "Resid Start->A2.6.K<br>None<br>1.00",
           "MLP 1->A7.13.K<br>None<br>1.00",
           "MLP 0->A3.10.K<br>None<br>1.00",
           "Resid Start->MLP 2<br>None<br>1.00",
           "MLP 5->A7.5.K<br>None<br>1.00",
           "MLP 6->A7.10.K<br>None<br>1.00",
           "A1.14->A7.15.K<br>None<br>1.00",
           "MLP 0->A2.9.Q<br>None<br>1.00",
           "Resid Start->A3.10.K<br>None<br>1.00",
           "MLP 0->A2.12.K<br>None<br>1.00"
          ],
          "source": [
           137,
           80,
           7,
           45,
           45,
           94,
           65,
           124,
           48,
           65,
           126,
           16,
           7,
           70,
           36,
           94,
           94,
           126,
           94,
           126,
           65,
           102,
           16,
           65,
           36,
           16,
           65,
           16,
           94,
           137,
           126,
           61,
           45,
           45,
           94,
           126,
           29,
           65,
           126,
           49,
           126,
           94,
           65,
           95,
           94,
           126,
           107,
           7,
           65,
           65,
           45,
           129,
           61,
           65,
           61,
           124,
           39,
           16,
           124,
           137,
           94,
           137,
           94,
           94,
           105,
           124,
           94,
           65,
           107,
           65,
           126,
           61,
           105,
           137,
           7,
           94,
           119,
           105,
           124,
           65,
           52,
           45,
           7,
           19,
           65,
           65,
           16,
           126,
           126,
           7,
           7,
           61,
           45,
           107,
           95,
           94,
           126,
           61,
           98,
           76,
           61,
           117,
           65,
           19,
           94,
           65,
           65,
           94,
           48,
           61,
           7,
           102,
           67,
           94,
           65,
           98,
           65,
           25,
           48,
           45,
           124,
           65,
           45,
           65,
           28,
           65,
           107,
           19,
           94,
           105,
           126,
           52,
           94,
           124,
           61,
           126,
           80,
           126,
           98,
           124,
           19,
           126,
           80,
           98,
           124,
           16,
           61,
           36,
           19,
           61,
           134,
           126,
           94,
           19,
           124,
           94,
           45,
           65,
           65,
           94,
           61,
           94,
           107,
           126,
           45,
           65,
           126,
           45,
           137,
           65,
           107,
           76,
           124,
           126,
           7,
           45,
           94,
           68,
           126,
           94,
           94,
           65,
           61,
           105,
           94,
           19,
           65,
           54,
           65,
           7,
           94,
           126,
           45,
           94,
           126,
           7,
           45,
           65,
           65,
           45,
           94,
           98,
           126,
           16,
           98,
           126,
           132,
           94,
           126,
           65,
           65,
           80,
           65,
           126,
           94,
           65,
           19,
           137,
           16,
           94,
           65,
           94
          ],
          "target": [
           102,
           45,
           61,
           70,
           52,
           95,
           105,
           76,
           19,
           36,
           137,
           52,
           36,
           19,
           19,
           16,
           54,
           124,
           76,
           49,
           98,
           134,
           137,
           54,
           45,
           102,
           7,
           124,
           54,
           102,
           25,
           124,
           61,
           76,
           119,
           119,
           126,
           54,
           105,
           73,
           102,
           102,
           119,
           134,
           49,
           52,
           61,
           105,
           102,
           76,
           105,
           95,
           105,
           49,
           102,
           137,
           95,
           52,
           102,
           73,
           25,
           52,
           137,
           119,
           137,
           73,
           102,
           95,
           19,
           137,
           61,
           134,
           124,
           134,
           137,
           80,
           134,
           73,
           134,
           124,
           73,
           137,
           124,
           119,
           94,
           80,
           61,
           80,
           76,
           95,
           94,
           119,
           124,
           52,
           137,
           105,
           68,
           102,
           137,
           134,
           76,
           19,
           25,
           49,
           124,
           126,
           119,
           49,
           137,
           49,
           126,
           73,
           61,
           52,
           102,
           94,
           49,
           19,
           124,
           105,
           76,
           48,
           102,
           52,
           137,
           52,
           70,
           137,
           126,
           134,
           105,
           134,
           80,
           119,
           137,
           80,
           52,
           19,
           102,
           102,
           73,
           132,
           19,
           95,
           49,
           80,
           52,
           124,
           134,
           19,
           73,
           52,
           76,
           102,
           19,
           68,
           102,
           80,
           76,
           54,
           49,
           61,
           119,
           95,
           49,
           68,
           45,
           76,
           52,
           61,
           102,
           137,
           52,
           70,
           19,
           119,
           105,
           124,
           36,
           80,
           19,
           105,
           52,
           19,
           132,
           102,
           80,
           137,
           19,
           80,
           16,
           54,
           52,
           45,
           76,
           25,
           19,
           16,
           16,
           132,
           52,
           52,
           54,
           76,
           80,
           119,
           137,
           132,
           102,
           132,
           132,
           102,
           95,
           49,
           70,
           45,
           52,
           119,
           102,
           68,
           70,
           36
          ],
          "value": [
           1,
           1,
           1,
           1,
           1,
           1,
           1,
           1,
           1,
           1,
           1,
           1,
           1,
           1,
           1,
           1,
           1,
           1,
           1,
           1,
           1,
           1,
           1,
           1,
           1,
           1,
           1,
           1,
           1,
           1,
           1,
           1,
           1,
           1,
           1,
           1,
           1,
           1,
           1,
           1,
           1,
           1,
           1,
           1,
           1,
           1,
           1,
           1,
           1,
           1,
           1,
           1,
           1,
           1,
           1,
           1,
           1,
           1,
           1,
           1,
           1,
           1,
           1,
           1,
           1,
           1,
           1,
           1,
           1,
           1,
           1,
           1,
           1,
           1,
           1,
           1,
           1,
           1,
           1,
           1,
           1,
           1,
           1,
           1,
           1,
           1,
           1,
           1,
           1,
           1,
           1,
           1,
           1,
           1,
           1,
           1,
           1,
           1,
           1,
           1,
           1,
           1,
           1,
           1,
           1,
           1,
           1,
           1,
           1,
           1,
           1,
           1,
           1,
           1,
           1,
           1,
           1,
           1,
           1,
           1,
           1,
           1,
           1,
           1,
           1,
           1,
           1,
           1,
           1,
           1,
           1,
           1,
           1,
           1,
           1,
           1,
           1,
           1,
           1,
           1,
           1,
           1,
           1,
           1,
           1,
           1,
           1,
           1,
           1,
           1,
           1,
           1,
           1,
           1,
           1,
           1,
           1,
           1,
           1,
           1,
           1,
           1,
           1,
           1,
           1,
           1,
           1,
           1,
           1,
           1,
           1,
           1,
           1,
           1,
           1,
           1,
           1,
           1,
           1,
           1,
           1,
           1,
           1,
           1,
           1,
           1,
           1,
           1,
           1,
           1,
           1,
           1,
           1,
           1,
           1,
           1,
           1,
           1,
           1,
           1,
           1,
           1,
           1,
           1,
           1,
           1,
           1,
           1,
           1,
           1,
           1,
           1,
           1,
           1,
           1,
           1,
           1,
           1,
           1,
           1,
           1,
           1
          ]
         },
         "node": {
          "color": [
           "rgba(0,0,0,0.0)",
           "rgba(0,0,0,0.0)",
           "rgba(0,0,0,0.0)",
           "rgba(0,0,0,0.0)",
           "rgba(0,0,0,0.0)",
           "rgba(0,0,0,0.0)",
           "rgba(0,0,0,0.0)",
           "rgb(166, 86, 40)",
           "rgba(0,0,0,0.0)",
           "rgba(0,0,0,0.0)",
           "rgba(0,0,0,0.0)",
           "rgba(0,0,0,0.0)",
           "rgba(0,0,0,0.0)",
           "rgba(0,0,0,0.0)",
           "rgba(0,0,0,0.0)",
           "rgba(0,0,0,0.0)",
           "rgb(77, 175, 74)",
           "rgba(0,0,0,0.0)",
           "rgba(0,0,0,0.0)",
           "rgb(55, 126, 184)",
           "rgba(0,0,0,0.0)",
           "rgba(0,0,0,0.0)",
           "rgba(0,0,0,0.0)",
           "rgba(0,0,0,0.0)",
           "rgba(0,0,0,0.0)",
           "rgb(166, 86, 40)",
           "rgba(0,0,0,0.0)",
           "rgba(0,0,0,0.0)",
           "rgb(153, 153, 153)",
           "rgb(55, 126, 184)",
           "rgba(0,0,0,0.0)",
           "rgba(0,0,0,0.0)",
           "rgba(0,0,0,0.0)",
           "rgba(0,0,0,0.0)",
           "rgba(0,0,0,0.0)",
           "rgba(0,0,0,0.0)",
           "rgb(152, 78, 163)",
           "rgba(0,0,0,0.0)",
           "rgba(0,0,0,0.0)",
           "rgb(77, 175, 74)",
           "rgba(0,0,0,0.0)",
           "rgba(0,0,0,0.0)",
           "rgba(0,0,0,0.0)",
           "rgba(0,0,0,0.0)",
           "rgba(0,0,0,0.0)",
           "rgb(222, 222, 0)",
           "rgba(0,0,0,0.0)",
           "rgba(0,0,0,0.0)",
           "rgb(228, 26, 28)",
           "rgb(166, 86, 40)",
           "rgba(0,0,0,0.0)",
           "rgba(0,0,0,0.0)",
           "rgb(55, 126, 184)",
           "rgba(0,0,0,0.0)",
           "rgb(228, 26, 28)",
           "rgba(0,0,0,0.0)",
           "rgba(0,0,0,0.0)",
           "rgba(0,0,0,0.0)",
           "rgba(0,0,0,0.0)",
           "rgba(0,0,0,0.0)",
           "rgba(0,0,0,0.0)",
           "rgb(77, 175, 74)",
           "rgba(0,0,0,0.0)",
           "rgba(0,0,0,0.0)",
           "rgba(0,0,0,0.0)",
           "rgb(228, 26, 28)",
           "rgba(0,0,0,0.0)",
           "rgb(228, 26, 28)",
           "rgb(247, 129, 191)",
           "rgba(0,0,0,0.0)",
           "rgb(228, 26, 28)",
           "rgba(0,0,0,0.0)",
           "rgba(0,0,0,0.0)",
           "rgb(166, 86, 40)",
           "rgba(0,0,0,0.0)",
           "rgba(0,0,0,0.0)",
           "rgb(152, 78, 163)",
           "rgba(0,0,0,0.0)",
           "rgba(0,0,0,0.0)",
           "rgba(0,0,0,0.0)",
           "rgb(228, 26, 28)",
           "rgba(0,0,0,0.0)",
           "rgba(0,0,0,0.0)",
           "rgba(0,0,0,0.0)",
           "rgba(0,0,0,0.0)",
           "rgba(0,0,0,0.0)",
           "rgba(0,0,0,0.0)",
           "rgba(0,0,0,0.0)",
           "rgba(0,0,0,0.0)",
           "rgba(0,0,0,0.0)",
           "rgba(0,0,0,0.0)",
           "rgba(0,0,0,0.0)",
           "rgba(0,0,0,0.0)",
           "rgba(0,0,0,0.0)",
           "rgb(152, 78, 163)",
           "rgb(152, 78, 163)",
           "rgba(0,0,0,0.0)",
           "rgba(0,0,0,0.0)",
           "rgb(166, 86, 40)",
           "rgba(0,0,0,0.0)",
           "rgba(0,0,0,0.0)",
           "rgba(0,0,0,0.0)",
           "rgb(77, 175, 74)",
           "rgba(0,0,0,0.0)",
           "rgba(0,0,0,0.0)",
           "rgb(247, 129, 191)",
           "rgba(0,0,0,0.0)",
           "rgb(222, 222, 0)",
           "rgba(0,0,0,0.0)",
           "rgba(0,0,0,0.0)",
           "rgba(0,0,0,0.0)",
           "rgba(0,0,0,0.0)",
           "rgba(0,0,0,0.0)",
           "rgba(0,0,0,0.0)",
           "rgba(0,0,0,0.0)",
           "rgba(0,0,0,0.0)",
           "rgba(0,0,0,0.0)",
           "rgb(77, 175, 74)",
           "rgba(0,0,0,0.0)",
           "rgb(255, 127, 0)",
           "rgba(0,0,0,0.0)",
           "rgba(0,0,0,0.0)",
           "rgba(0,0,0,0.0)",
           "rgba(0,0,0,0.0)",
           "rgb(166, 86, 40)",
           "rgba(0,0,0,0.0)",
           "rgb(166, 86, 40)",
           "rgba(0,0,0,0.0)",
           "rgba(0,0,0,0.0)",
           "rgb(166, 86, 40)",
           "rgba(0,0,0,0.0)",
           "rgba(0,0,0,0.0)",
           "rgb(247, 129, 191)",
           "rgba(0,0,0,0.0)",
           "rgb(166, 86, 40)",
           "rgba(0,0,0,0.0)",
           "rgba(0,0,0,0.0)",
           "rgb(255, 127, 0)"
          ],
          "label": [
           "",
           "",
           "",
           "",
           "",
           "",
           "",
           "A0.8",
           "",
           "",
           "",
           "",
           "",
           "",
           "",
           "",
           "A1.14",
           "",
           "",
           "MLP 5",
           "",
           "",
           "",
           "",
           "",
           "A2.13",
           "",
           "",
           "A0.2",
           "A1.12",
           "",
           "",
           "",
           "",
           "",
           "",
           "A2.12",
           "",
           "",
           "A0.15",
           "",
           "",
           "",
           "",
           "",
           "MLP 2",
           "",
           "",
           "A0.3",
           "A7.13",
           "",
           "",
           "A7.5",
           "",
           "A2.10",
           "",
           "",
           "",
           "",
           "",
           "",
           "MLP 3",
           "",
           "",
           "",
           "Embed",
           "",
           "A0.9",
           "A2.9",
           "",
           "A3.10",
           "",
           "",
           "Unembed",
           "",
           "",
           "A5.0",
           "",
           "",
           "",
           "A2.8",
           "",
           "",
           "",
           "",
           "",
           "",
           "",
           "",
           "",
           "",
           "",
           "",
           "",
           "MLP 0",
           "A2.6",
           "",
           "",
           "A0.4",
           "",
           "",
           "",
           "A7.15",
           "",
           "",
           "A4.4",
           "",
           "A0.11",
           "",
           "",
           "",
           "",
           "",
           "",
           "",
           "",
           "",
           "A0.12",
           "",
           "A7.10",
           "",
           "",
           "",
           "",
           "MLP 4",
           "",
           "MLP 1",
           "",
           "",
           "A0.1",
           "",
           "",
           "A6.15",
           "",
           "MLP 7",
           "",
           "",
           "MLP 6"
          ],
          "line": {
           "width": 0
          }
         },
         "orientation": "v",
         "type": "sankey"
        }
       ],
       "layout": {
        "height": 900,
        "plot_bgcolor": "blue",
        "template": {
         "data": {
          "bar": [
           {
            "error_x": {
             "color": "#2a3f5f"
            },
            "error_y": {
             "color": "#2a3f5f"
            },
            "marker": {
             "line": {
              "color": "#E5ECF6",
              "width": 0.5
             },
             "pattern": {
              "fillmode": "overlay",
              "size": 10,
              "solidity": 0.2
             }
            },
            "type": "bar"
           }
          ],
          "barpolar": [
           {
            "marker": {
             "line": {
              "color": "#E5ECF6",
              "width": 0.5
             },
             "pattern": {
              "fillmode": "overlay",
              "size": 10,
              "solidity": 0.2
             }
            },
            "type": "barpolar"
           }
          ],
          "carpet": [
           {
            "aaxis": {
             "endlinecolor": "#2a3f5f",
             "gridcolor": "white",
             "linecolor": "white",
             "minorgridcolor": "white",
             "startlinecolor": "#2a3f5f"
            },
            "baxis": {
             "endlinecolor": "#2a3f5f",
             "gridcolor": "white",
             "linecolor": "white",
             "minorgridcolor": "white",
             "startlinecolor": "#2a3f5f"
            },
            "type": "carpet"
           }
          ],
          "choropleth": [
           {
            "colorbar": {
             "outlinewidth": 0,
             "ticks": ""
            },
            "type": "choropleth"
           }
          ],
          "contour": [
           {
            "colorbar": {
             "outlinewidth": 0,
             "ticks": ""
            },
            "colorscale": [
             [
              0,
              "#0d0887"
             ],
             [
              0.1111111111111111,
              "#46039f"
             ],
             [
              0.2222222222222222,
              "#7201a8"
             ],
             [
              0.3333333333333333,
              "#9c179e"
             ],
             [
              0.4444444444444444,
              "#bd3786"
             ],
             [
              0.5555555555555556,
              "#d8576b"
             ],
             [
              0.6666666666666666,
              "#ed7953"
             ],
             [
              0.7777777777777778,
              "#fb9f3a"
             ],
             [
              0.8888888888888888,
              "#fdca26"
             ],
             [
              1,
              "#f0f921"
             ]
            ],
            "type": "contour"
           }
          ],
          "contourcarpet": [
           {
            "colorbar": {
             "outlinewidth": 0,
             "ticks": ""
            },
            "type": "contourcarpet"
           }
          ],
          "heatmap": [
           {
            "colorbar": {
             "outlinewidth": 0,
             "ticks": ""
            },
            "colorscale": [
             [
              0,
              "#0d0887"
             ],
             [
              0.1111111111111111,
              "#46039f"
             ],
             [
              0.2222222222222222,
              "#7201a8"
             ],
             [
              0.3333333333333333,
              "#9c179e"
             ],
             [
              0.4444444444444444,
              "#bd3786"
             ],
             [
              0.5555555555555556,
              "#d8576b"
             ],
             [
              0.6666666666666666,
              "#ed7953"
             ],
             [
              0.7777777777777778,
              "#fb9f3a"
             ],
             [
              0.8888888888888888,
              "#fdca26"
             ],
             [
              1,
              "#f0f921"
             ]
            ],
            "type": "heatmap"
           }
          ],
          "heatmapgl": [
           {
            "colorbar": {
             "outlinewidth": 0,
             "ticks": ""
            },
            "colorscale": [
             [
              0,
              "#0d0887"
             ],
             [
              0.1111111111111111,
              "#46039f"
             ],
             [
              0.2222222222222222,
              "#7201a8"
             ],
             [
              0.3333333333333333,
              "#9c179e"
             ],
             [
              0.4444444444444444,
              "#bd3786"
             ],
             [
              0.5555555555555556,
              "#d8576b"
             ],
             [
              0.6666666666666666,
              "#ed7953"
             ],
             [
              0.7777777777777778,
              "#fb9f3a"
             ],
             [
              0.8888888888888888,
              "#fdca26"
             ],
             [
              1,
              "#f0f921"
             ]
            ],
            "type": "heatmapgl"
           }
          ],
          "histogram": [
           {
            "marker": {
             "pattern": {
              "fillmode": "overlay",
              "size": 10,
              "solidity": 0.2
             }
            },
            "type": "histogram"
           }
          ],
          "histogram2d": [
           {
            "colorbar": {
             "outlinewidth": 0,
             "ticks": ""
            },
            "colorscale": [
             [
              0,
              "#0d0887"
             ],
             [
              0.1111111111111111,
              "#46039f"
             ],
             [
              0.2222222222222222,
              "#7201a8"
             ],
             [
              0.3333333333333333,
              "#9c179e"
             ],
             [
              0.4444444444444444,
              "#bd3786"
             ],
             [
              0.5555555555555556,
              "#d8576b"
             ],
             [
              0.6666666666666666,
              "#ed7953"
             ],
             [
              0.7777777777777778,
              "#fb9f3a"
             ],
             [
              0.8888888888888888,
              "#fdca26"
             ],
             [
              1,
              "#f0f921"
             ]
            ],
            "type": "histogram2d"
           }
          ],
          "histogram2dcontour": [
           {
            "colorbar": {
             "outlinewidth": 0,
             "ticks": ""
            },
            "colorscale": [
             [
              0,
              "#0d0887"
             ],
             [
              0.1111111111111111,
              "#46039f"
             ],
             [
              0.2222222222222222,
              "#7201a8"
             ],
             [
              0.3333333333333333,
              "#9c179e"
             ],
             [
              0.4444444444444444,
              "#bd3786"
             ],
             [
              0.5555555555555556,
              "#d8576b"
             ],
             [
              0.6666666666666666,
              "#ed7953"
             ],
             [
              0.7777777777777778,
              "#fb9f3a"
             ],
             [
              0.8888888888888888,
              "#fdca26"
             ],
             [
              1,
              "#f0f921"
             ]
            ],
            "type": "histogram2dcontour"
           }
          ],
          "mesh3d": [
           {
            "colorbar": {
             "outlinewidth": 0,
             "ticks": ""
            },
            "type": "mesh3d"
           }
          ],
          "parcoords": [
           {
            "line": {
             "colorbar": {
              "outlinewidth": 0,
              "ticks": ""
             }
            },
            "type": "parcoords"
           }
          ],
          "pie": [
           {
            "automargin": true,
            "type": "pie"
           }
          ],
          "scatter": [
           {
            "fillpattern": {
             "fillmode": "overlay",
             "size": 10,
             "solidity": 0.2
            },
            "type": "scatter"
           }
          ],
          "scatter3d": [
           {
            "line": {
             "colorbar": {
              "outlinewidth": 0,
              "ticks": ""
             }
            },
            "marker": {
             "colorbar": {
              "outlinewidth": 0,
              "ticks": ""
             }
            },
            "type": "scatter3d"
           }
          ],
          "scattercarpet": [
           {
            "marker": {
             "colorbar": {
              "outlinewidth": 0,
              "ticks": ""
             }
            },
            "type": "scattercarpet"
           }
          ],
          "scattergeo": [
           {
            "marker": {
             "colorbar": {
              "outlinewidth": 0,
              "ticks": ""
             }
            },
            "type": "scattergeo"
           }
          ],
          "scattergl": [
           {
            "marker": {
             "colorbar": {
              "outlinewidth": 0,
              "ticks": ""
             }
            },
            "type": "scattergl"
           }
          ],
          "scattermapbox": [
           {
            "marker": {
             "colorbar": {
              "outlinewidth": 0,
              "ticks": ""
             }
            },
            "type": "scattermapbox"
           }
          ],
          "scatterpolar": [
           {
            "marker": {
             "colorbar": {
              "outlinewidth": 0,
              "ticks": ""
             }
            },
            "type": "scatterpolar"
           }
          ],
          "scatterpolargl": [
           {
            "marker": {
             "colorbar": {
              "outlinewidth": 0,
              "ticks": ""
             }
            },
            "type": "scatterpolargl"
           }
          ],
          "scatterternary": [
           {
            "marker": {
             "colorbar": {
              "outlinewidth": 0,
              "ticks": ""
             }
            },
            "type": "scatterternary"
           }
          ],
          "surface": [
           {
            "colorbar": {
             "outlinewidth": 0,
             "ticks": ""
            },
            "colorscale": [
             [
              0,
              "#0d0887"
             ],
             [
              0.1111111111111111,
              "#46039f"
             ],
             [
              0.2222222222222222,
              "#7201a8"
             ],
             [
              0.3333333333333333,
              "#9c179e"
             ],
             [
              0.4444444444444444,
              "#bd3786"
             ],
             [
              0.5555555555555556,
              "#d8576b"
             ],
             [
              0.6666666666666666,
              "#ed7953"
             ],
             [
              0.7777777777777778,
              "#fb9f3a"
             ],
             [
              0.8888888888888888,
              "#fdca26"
             ],
             [
              1,
              "#f0f921"
             ]
            ],
            "type": "surface"
           }
          ],
          "table": [
           {
            "cells": {
             "fill": {
              "color": "#EBF0F8"
             },
             "line": {
              "color": "white"
             }
            },
            "header": {
             "fill": {
              "color": "#C8D4E3"
             },
             "line": {
              "color": "white"
             }
            },
            "type": "table"
           }
          ]
         },
         "layout": {
          "annotationdefaults": {
           "arrowcolor": "#2a3f5f",
           "arrowhead": 0,
           "arrowwidth": 1
          },
          "autotypenumbers": "strict",
          "coloraxis": {
           "colorbar": {
            "outlinewidth": 0,
            "ticks": ""
           }
          },
          "colorscale": {
           "diverging": [
            [
             0,
             "#8e0152"
            ],
            [
             0.1,
             "#c51b7d"
            ],
            [
             0.2,
             "#de77ae"
            ],
            [
             0.3,
             "#f1b6da"
            ],
            [
             0.4,
             "#fde0ef"
            ],
            [
             0.5,
             "#f7f7f7"
            ],
            [
             0.6,
             "#e6f5d0"
            ],
            [
             0.7,
             "#b8e186"
            ],
            [
             0.8,
             "#7fbc41"
            ],
            [
             0.9,
             "#4d9221"
            ],
            [
             1,
             "#276419"
            ]
           ],
           "sequential": [
            [
             0,
             "#0d0887"
            ],
            [
             0.1111111111111111,
             "#46039f"
            ],
            [
             0.2222222222222222,
             "#7201a8"
            ],
            [
             0.3333333333333333,
             "#9c179e"
            ],
            [
             0.4444444444444444,
             "#bd3786"
            ],
            [
             0.5555555555555556,
             "#d8576b"
            ],
            [
             0.6666666666666666,
             "#ed7953"
            ],
            [
             0.7777777777777778,
             "#fb9f3a"
            ],
            [
             0.8888888888888888,
             "#fdca26"
            ],
            [
             1,
             "#f0f921"
            ]
           ],
           "sequentialminus": [
            [
             0,
             "#0d0887"
            ],
            [
             0.1111111111111111,
             "#46039f"
            ],
            [
             0.2222222222222222,
             "#7201a8"
            ],
            [
             0.3333333333333333,
             "#9c179e"
            ],
            [
             0.4444444444444444,
             "#bd3786"
            ],
            [
             0.5555555555555556,
             "#d8576b"
            ],
            [
             0.6666666666666666,
             "#ed7953"
            ],
            [
             0.7777777777777778,
             "#fb9f3a"
            ],
            [
             0.8888888888888888,
             "#fdca26"
            ],
            [
             1,
             "#f0f921"
            ]
           ]
          },
          "colorway": [
           "rgb(55, 126, 184)",
           "rgb(255, 127, 0)",
           "rgb(77, 175, 74)",
           "rgb(247, 129, 191)",
           "rgb(228, 26, 28)",
           "rgb(152, 78, 163)",
           "rgb(166, 86, 40)",
           "rgb(153, 153, 153)",
           "rgb(222, 222, 0)"
          ],
          "font": {
           "color": "#2a3f5f",
           "size": 19
          },
          "geo": {
           "bgcolor": "white",
           "lakecolor": "white",
           "landcolor": "#E5ECF6",
           "showlakes": true,
           "showland": true,
           "subunitcolor": "white"
          },
          "hoverlabel": {
           "align": "left"
          },
          "hovermode": "closest",
          "mapbox": {
           "style": "light"
          },
          "paper_bgcolor": "white",
          "plot_bgcolor": "#E5ECF6",
          "polar": {
           "angularaxis": {
            "gridcolor": "white",
            "linecolor": "white",
            "ticks": ""
           },
           "bgcolor": "#E5ECF6",
           "radialaxis": {
            "gridcolor": "white",
            "linecolor": "white",
            "ticks": ""
           }
          },
          "scene": {
           "xaxis": {
            "backgroundcolor": "#E5ECF6",
            "gridcolor": "white",
            "gridwidth": 2,
            "linecolor": "white",
            "showbackground": true,
            "ticks": "",
            "zerolinecolor": "white"
           },
           "yaxis": {
            "backgroundcolor": "#E5ECF6",
            "gridcolor": "white",
            "gridwidth": 2,
            "linecolor": "white",
            "showbackground": true,
            "ticks": "",
            "zerolinecolor": "white"
           },
           "zaxis": {
            "backgroundcolor": "#E5ECF6",
            "gridcolor": "white",
            "gridwidth": 2,
            "linecolor": "white",
            "showbackground": true,
            "ticks": "",
            "zerolinecolor": "white"
           }
          },
          "shapedefaults": {
           "line": {
            "color": "#2a3f5f"
           }
          },
          "ternary": {
           "aaxis": {
            "gridcolor": "white",
            "linecolor": "white",
            "ticks": ""
           },
           "baxis": {
            "gridcolor": "white",
            "linecolor": "white",
            "ticks": ""
           },
           "bgcolor": "#E5ECF6",
           "caxis": {
            "gridcolor": "white",
            "linecolor": "white",
            "ticks": ""
           }
          },
          "title": {
           "x": 0.05
          },
          "xaxis": {
           "automargin": true,
           "gridcolor": "white",
           "linecolor": "white",
           "ticks": "",
           "title": {
            "standoff": 15
           },
           "zerolinecolor": "white",
           "zerolinewidth": 2
          },
          "yaxis": {
           "automargin": true,
           "gridcolor": "white",
           "linecolor": "white",
           "ticks": "",
           "title": {
            "standoff": 15
           },
           "zerolinecolor": "white",
           "zerolinewidth": 2
          }
         }
        },
        "width": 800
       }
      },
      "text/html": [
       "<div>                            <div id=\"c9910459-7028-4201-925d-7353d946437f\" class=\"plotly-graph-div\" style=\"height:900px; width:800px;\"></div>            <script type=\"text/javascript\">                require([\"plotly\"], function(Plotly) {                    window.PLOTLYENV=window.PLOTLYENV || {};                                    if (document.getElementById(\"c9910459-7028-4201-925d-7353d946437f\")) {                    Plotly.newPlot(                        \"c9910459-7028-4201-925d-7353d946437f\",                        [{\"arrangement\":\"perpendicular\",\"domain\":{\"y\":[0,1]},\"link\":{\"arrowlen\":25,\"color\":[\"rgba(0,0,255,0.3)\",\"rgba(0,0,255,0.3)\",\"rgba(0,0,255,0.3)\",\"rgba(0,0,255,0.3)\",\"rgba(0,0,255,0.3)\",\"rgba(0,0,255,0.3)\",\"rgba(0,0,255,0.3)\",\"rgba(0,0,255,0.3)\",\"rgba(0,0,255,0.3)\",\"rgba(0,0,255,0.3)\",\"rgba(0,0,255,0.3)\",\"rgba(0,0,255,0.3)\",\"rgba(0,0,255,0.3)\",\"rgba(0,0,255,0.3)\",\"rgba(0,0,255,0.3)\",\"rgba(0,0,255,0.3)\",\"rgba(0,0,255,0.3)\",\"rgba(0,0,255,0.3)\",\"rgba(0,0,255,0.3)\",\"rgba(0,0,255,0.3)\",\"rgba(0,0,255,0.3)\",\"rgba(0,0,255,0.3)\",\"rgba(0,0,255,0.3)\",\"rgba(0,0,255,0.3)\",\"rgba(0,0,255,0.3)\",\"rgba(0,0,255,0.3)\",\"rgba(0,0,255,0.3)\",\"rgba(0,0,255,0.3)\",\"rgba(0,0,255,0.3)\",\"rgba(0,0,255,0.3)\",\"rgba(0,0,255,0.3)\",\"rgba(0,0,255,0.3)\",\"rgba(0,0,255,0.3)\",\"rgba(0,0,255,0.3)\",\"rgba(0,0,255,0.3)\",\"rgba(0,0,255,0.3)\",\"rgba(0,0,255,0.3)\",\"rgba(0,0,255,0.3)\",\"rgba(0,0,255,0.3)\",\"rgba(0,0,255,0.3)\",\"rgba(0,0,255,0.3)\",\"rgba(0,0,255,0.3)\",\"rgba(0,0,255,0.3)\",\"rgba(0,0,255,0.3)\",\"rgba(0,0,255,0.3)\",\"rgba(0,0,255,0.3)\",\"rgba(0,0,255,0.3)\",\"rgba(0,0,255,0.3)\",\"rgba(0,0,255,0.3)\",\"rgba(0,0,255,0.3)\",\"rgba(0,0,255,0.3)\",\"rgba(0,0,255,0.3)\",\"rgba(0,0,255,0.3)\",\"rgba(0,0,255,0.3)\",\"rgba(0,0,255,0.3)\",\"rgba(0,0,255,0.3)\",\"rgba(0,0,255,0.3)\",\"rgba(0,0,255,0.3)\",\"rgba(0,0,255,0.3)\",\"rgba(0,0,255,0.3)\",\"rgba(0,0,255,0.3)\",\"rgba(0,0,255,0.3)\",\"rgba(0,0,255,0.3)\",\"rgba(0,0,255,0.3)\",\"rgba(0,0,255,0.3)\",\"rgba(0,0,255,0.3)\",\"rgba(0,0,255,0.3)\",\"rgba(0,0,255,0.3)\",\"rgba(0,0,255,0.3)\",\"rgba(0,0,255,0.3)\",\"rgba(0,0,255,0.3)\",\"rgba(0,0,255,0.3)\",\"rgba(0,0,255,0.3)\",\"rgba(0,0,255,0.3)\",\"rgba(0,0,255,0.3)\",\"rgba(0,0,255,0.3)\",\"rgba(0,0,255,0.3)\",\"rgba(0,0,255,0.3)\",\"rgba(0,0,255,0.3)\",\"rgba(0,0,255,0.3)\",\"rgba(0,0,255,0.3)\",\"rgba(0,0,255,0.3)\",\"rgba(0,0,255,0.3)\",\"rgba(0,0,255,0.3)\",\"rgba(0,0,255,0.3)\",\"rgba(0,0,255,0.3)\",\"rgba(0,0,255,0.3)\",\"rgba(0,0,255,0.3)\",\"rgba(0,0,255,0.3)\",\"rgba(0,0,255,0.3)\",\"rgba(0,0,255,0.3)\",\"rgba(0,0,255,0.3)\",\"rgba(0,0,255,0.3)\",\"rgba(0,0,255,0.3)\",\"rgba(0,0,255,0.3)\",\"rgba(0,0,255,0.3)\",\"rgba(0,0,255,0.3)\",\"rgba(0,0,255,0.3)\",\"rgba(0,0,255,0.3)\",\"rgba(0,0,255,0.3)\",\"rgba(0,0,255,0.3)\",\"rgba(0,0,255,0.3)\",\"rgba(0,0,255,0.3)\",\"rgba(0,0,255,0.3)\",\"rgba(0,0,255,0.3)\",\"rgba(0,0,255,0.3)\",\"rgba(0,0,255,0.3)\",\"rgba(0,0,255,0.3)\",\"rgba(0,0,255,0.3)\",\"rgba(0,0,255,0.3)\",\"rgba(0,0,255,0.3)\",\"rgba(0,0,255,0.3)\",\"rgba(0,0,255,0.3)\",\"rgba(0,0,255,0.3)\",\"rgba(0,0,255,0.3)\",\"rgba(0,0,255,0.3)\",\"rgba(0,0,255,0.3)\",\"rgba(0,0,255,0.3)\",\"rgba(0,0,255,0.3)\",\"rgba(0,0,255,0.3)\",\"rgba(0,0,255,0.3)\",\"rgba(0,0,255,0.3)\",\"rgba(0,0,255,0.3)\",\"rgba(0,0,255,0.3)\",\"rgba(0,0,255,0.3)\",\"rgba(0,0,255,0.3)\",\"rgba(0,0,255,0.3)\",\"rgba(0,0,255,0.3)\",\"rgba(0,0,255,0.3)\",\"rgba(0,0,255,0.3)\",\"rgba(0,0,255,0.3)\",\"rgba(0,0,255,0.3)\",\"rgba(0,0,255,0.3)\",\"rgba(0,0,255,0.3)\",\"rgba(0,0,255,0.3)\",\"rgba(0,0,255,0.3)\",\"rgba(0,0,255,0.3)\",\"rgba(0,0,255,0.3)\",\"rgba(0,0,255,0.3)\",\"rgba(0,0,255,0.3)\",\"rgba(0,0,255,0.3)\",\"rgba(0,0,255,0.3)\",\"rgba(0,0,255,0.3)\",\"rgba(0,0,255,0.3)\",\"rgba(0,0,255,0.3)\",\"rgba(0,0,255,0.3)\",\"rgba(0,0,255,0.3)\",\"rgba(0,0,255,0.3)\",\"rgba(0,0,255,0.3)\",\"rgba(0,0,255,0.3)\",\"rgba(0,0,255,0.3)\",\"rgba(0,0,255,0.3)\",\"rgba(0,0,255,0.3)\",\"rgba(0,0,255,0.3)\",\"rgba(0,0,255,0.3)\",\"rgba(0,0,255,0.3)\",\"rgba(0,0,255,0.3)\",\"rgba(0,0,255,0.3)\",\"rgba(0,0,255,0.3)\",\"rgba(0,0,255,0.3)\",\"rgba(0,0,255,0.3)\",\"rgba(0,0,255,0.3)\",\"rgba(0,0,255,0.3)\",\"rgba(0,0,255,0.3)\",\"rgba(0,0,255,0.3)\",\"rgba(0,0,255,0.3)\",\"rgba(0,0,255,0.3)\",\"rgba(0,0,255,0.3)\",\"rgba(0,0,255,0.3)\",\"rgba(0,0,255,0.3)\",\"rgba(0,0,255,0.3)\",\"rgba(0,0,255,0.3)\",\"rgba(0,0,255,0.3)\",\"rgba(0,0,255,0.3)\",\"rgba(0,0,255,0.3)\",\"rgba(0,0,255,0.3)\",\"rgba(0,0,255,0.3)\",\"rgba(0,0,255,0.3)\",\"rgba(0,0,255,0.3)\",\"rgba(0,0,255,0.3)\",\"rgba(0,0,255,0.3)\",\"rgba(0,0,255,0.3)\",\"rgba(0,0,255,0.3)\",\"rgba(0,0,255,0.3)\",\"rgba(0,0,255,0.3)\",\"rgba(0,0,255,0.3)\",\"rgba(0,0,255,0.3)\",\"rgba(0,0,255,0.3)\",\"rgba(0,0,255,0.3)\",\"rgba(0,0,255,0.3)\",\"rgba(0,0,255,0.3)\",\"rgba(0,0,255,0.3)\",\"rgba(0,0,255,0.3)\",\"rgba(0,0,255,0.3)\",\"rgba(0,0,255,0.3)\",\"rgba(0,0,255,0.3)\",\"rgba(0,0,255,0.3)\",\"rgba(0,0,255,0.3)\",\"rgba(0,0,255,0.3)\",\"rgba(0,0,255,0.3)\",\"rgba(0,0,255,0.3)\",\"rgba(0,0,255,0.3)\",\"rgba(0,0,255,0.3)\",\"rgba(0,0,255,0.3)\",\"rgba(0,0,255,0.3)\",\"rgba(0,0,255,0.3)\",\"rgba(0,0,255,0.3)\",\"rgba(0,0,255,0.3)\",\"rgba(0,0,255,0.3)\",\"rgba(0,0,255,0.3)\",\"rgba(0,0,255,0.3)\",\"rgba(0,0,255,0.3)\",\"rgba(0,0,255,0.3)\",\"rgba(0,0,255,0.3)\",\"rgba(0,0,255,0.3)\",\"rgba(0,0,255,0.3)\",\"rgba(0,0,255,0.3)\",\"rgba(0,0,255,0.3)\",\"rgba(0,0,255,0.3)\",\"rgba(0,0,255,0.3)\",\"rgba(0,0,255,0.3)\",\"rgba(0,0,255,0.3)\"],\"label\":[\"MLP 6-\\u003eA7.15.K\\u003cbr\\u003eNone\\u003cbr\\u003e1.00\",\"A2.8-\\u003eMLP 2\\u003cbr\\u003eNone\\u003cbr\\u003e1.00\",\"A0.8-\\u003eMLP 3\\u003cbr\\u003eNone\\u003cbr\\u003e1.00\",\"MLP 2-\\u003eA3.10.K\\u003cbr\\u003eNone\\u003cbr\\u003e1.00\",\"MLP 2-\\u003eA7.5.V\\u003cbr\\u003eNone\\u003cbr\\u003e1.00\",\"MLP 0-\\u003eA2.6.K\\u003cbr\\u003eNone\\u003cbr\\u003e1.00\",\"Resid Start-\\u003eA4.4.K\\u003cbr\\u003eNone\\u003cbr\\u003e1.00\",\"MLP 4-\\u003eA5.0.K\\u003cbr\\u003eNone\\u003cbr\\u003e1.00\",\"A0.3-\\u003eMLP 5\\u003cbr\\u003eNone\\u003cbr\\u003e1.00\",\"Resid Start-\\u003eA2.12.K\\u003cbr\\u003eNone\\u003cbr\\u003e1.00\",\"MLP 1-\\u003eMLP 6\\u003cbr\\u003eNone\\u003cbr\\u003e1.00\",\"A1.14-\\u003eA7.5.K\\u003cbr\\u003eNone\\u003cbr\\u003e1.00\",\"A0.8-\\u003eA2.12.K\\u003cbr\\u003eNone\\u003cbr\\u003e1.00\",\"A3.10-\\u003eMLP 5\\u003cbr\\u003eNone\\u003cbr\\u003e1.00\",\"A2.12-\\u003eMLP 5\\u003cbr\\u003eNone\\u003cbr\\u003e1.00\",\"MLP 0-\\u003eA1.14.V\\u003cbr\\u003eNone\\u003cbr\\u003e1.00\",\"MLP 0-\\u003eA2.10.K\\u003cbr\\u003eNone\\u003cbr\\u003e1.00\",\"MLP 1-\\u003eMLP 4\\u003cbr\\u003eNone\\u003cbr\\u003e1.00\",\"MLP 0-\\u003eA5.0.K\\u003cbr\\u003eNone\\u003cbr\\u003e1.00\",\"MLP 1-\\u003eA7.13.V\\u003cbr\\u003eNone\\u003cbr\\u003e1.00\",\"Resid Start-\\u003eA0.4.Q\\u003cbr\\u003eNone\\u003cbr\\u003e1.00\",\"A7.15-\\u003eMLP 7\\u003cbr\\u003eNone\\u003cbr\\u003e1.00\",\"A1.14-\\u003eMLP 6\\u003cbr\\u003eNone\\u003cbr\\u003e1.00\",\"Resid Start-\\u003eA2.10.K\\u003cbr\\u003eNone\\u003cbr\\u003e1.00\",\"A2.12-\\u003eMLP 2\\u003cbr\\u003eNone\\u003cbr\\u003e1.00\",\"A1.14-\\u003eA7.15.V\\u003cbr\\u003eNone\\u003cbr\\u003e1.00\",\"Resid Start-\\u003eA0.8.Q\\u003cbr\\u003eNone\\u003cbr\\u003e1.00\",\"A1.14-\\u003eMLP 4\\u003cbr\\u003eNone\\u003cbr\\u003e1.00\",\"MLP 0-\\u003eA2.10.V\\u003cbr\\u003eNone\\u003cbr\\u003e1.00\",\"MLP 6-\\u003eA7.15.V\\u003cbr\\u003eNone\\u003cbr\\u003e1.00\",\"MLP 1-\\u003eA2.13.K\\u003cbr\\u003eNone\\u003cbr\\u003e1.00\",\"MLP 3-\\u003eMLP 4\\u003cbr\\u003eNone\\u003cbr\\u003e1.00\",\"MLP 2-\\u003eMLP 3\\u003cbr\\u003eNone\\u003cbr\\u003e1.00\",\"MLP 2-\\u003eA5.0.K\\u003cbr\\u003eNone\\u003cbr\\u003e1.00\",\"MLP 0-\\u003eA7.10.K\\u003cbr\\u003eNone\\u003cbr\\u003e1.00\",\"MLP 1-\\u003eA7.10.V\\u003cbr\\u003eNone\\u003cbr\\u003e1.00\",\"A1.12-\\u003eMLP 1\\u003cbr\\u003eNone\\u003cbr\\u003e1.00\",\"Resid Start-\\u003eA2.10.V\\u003cbr\\u003eNone\\u003cbr\\u003e1.00\",\"MLP 1-\\u003eA4.4.K\\u003cbr\\u003eNone\\u003cbr\\u003e1.00\",\"A7.13-\\u003eResid End\\u003cbr\\u003eNone\\u003cbr\\u003e1.00\",\"MLP 1-\\u003eA7.15.V\\u003cbr\\u003eNone\\u003cbr\\u003e1.00\",\"MLP 0-\\u003eA7.15.K\\u003cbr\\u003eNone\\u003cbr\\u003e1.00\",\"Resid Start-\\u003eA7.10.K\\u003cbr\\u003eNone\\u003cbr\\u003e1.00\",\"A2.6-\\u003eMLP 7\\u003cbr\\u003eNone\\u003cbr\\u003e1.00\",\"MLP 0-\\u003eA7.13.K\\u003cbr\\u003eNone\\u003cbr\\u003e1.00\",\"MLP 1-\\u003eA7.5.V\\u003cbr\\u003eNone\\u003cbr\\u003e1.00\",\"A0.11-\\u003eMLP 3\\u003cbr\\u003eNone\\u003cbr\\u003e1.00\",\"A0.8-\\u003eA4.4.V\\u003cbr\\u003eNone\\u003cbr\\u003e1.00\",\"Resid Start-\\u003eA7.15.K\\u003cbr\\u003eNone\\u003cbr\\u003e1.00\",\"Resid Start-\\u003eA5.0.K\\u003cbr\\u003eNone\\u003cbr\\u003e1.00\",\"MLP 2-\\u003eA4.4.V\\u003cbr\\u003eNone\\u003cbr\\u003e1.00\",\"A0.1-\\u003eA2.6.K\\u003cbr\\u003eNone\\u003cbr\\u003e1.00\",\"MLP 3-\\u003eA4.4.K\\u003cbr\\u003eNone\\u003cbr\\u003e1.00\",\"Resid Start-\\u003eA7.13.K\\u003cbr\\u003eNone\\u003cbr\\u003e1.00\",\"MLP 3-\\u003eA7.15.V\\u003cbr\\u003eNone\\u003cbr\\u003e1.00\",\"MLP 4-\\u003eMLP 6\\u003cbr\\u003eNone\\u003cbr\\u003e1.00\",\"A0.15-\\u003eA2.6.K\\u003cbr\\u003eNone\\u003cbr\\u003e1.00\",\"A1.14-\\u003eA7.5.V\\u003cbr\\u003eNone\\u003cbr\\u003e1.00\",\"MLP 4-\\u003eA7.15.V\\u003cbr\\u003eNone\\u003cbr\\u003e1.00\",\"MLP 6-\\u003eResid End\\u003cbr\\u003eNone\\u003cbr\\u003e1.00\",\"MLP 0-\\u003eA2.13.K\\u003cbr\\u003eNone\\u003cbr\\u003e1.00\",\"MLP 6-\\u003eA7.5.V\\u003cbr\\u003eNone\\u003cbr\\u003e1.00\",\"MLP 0-\\u003eMLP 6\\u003cbr\\u003eNone\\u003cbr\\u003e1.00\",\"MLP 0-\\u003eA7.10.V\\u003cbr\\u003eNone\\u003cbr\\u003e1.00\",\"A4.4-\\u003eMLP 6\\u003cbr\\u003eNone\\u003cbr\\u003e1.00\",\"MLP 4-\\u003eResid End\\u003cbr\\u003eNone\\u003cbr\\u003e1.00\",\"MLP 0-\\u003eA7.15.V\\u003cbr\\u003eNone\\u003cbr\\u003e1.00\",\"Resid Start-\\u003eA2.6.V\\u003cbr\\u003eNone\\u003cbr\\u003e1.00\",\"A0.11-\\u003eMLP 5\\u003cbr\\u003eNone\\u003cbr\\u003e1.00\",\"Resid Start-\\u003eMLP 6\\u003cbr\\u003eNone\\u003cbr\\u003e1.00\",\"MLP 1-\\u003eMLP 3\\u003cbr\\u003eNone\\u003cbr\\u003e1.00\",\"MLP 3-\\u003eMLP 7\\u003cbr\\u003eNone\\u003cbr\\u003e1.00\",\"A4.4-\\u003eMLP 4\\u003cbr\\u003eNone\\u003cbr\\u003e1.00\",\"MLP 6-\\u003eMLP 7\\u003cbr\\u003eNone\\u003cbr\\u003e1.00\",\"A0.8-\\u003eMLP 6\\u003cbr\\u003eNone\\u003cbr\\u003e1.00\",\"MLP 0-\\u003eA2.8.Q\\u003cbr\\u003eNone\\u003cbr\\u003e1.00\",\"A7.10-\\u003eMLP 7\\u003cbr\\u003eNone\\u003cbr\\u003e1.00\",\"A4.4-\\u003eResid End\\u003cbr\\u003eNone\\u003cbr\\u003e1.00\",\"MLP 4-\\u003eMLP 7\\u003cbr\\u003eNone\\u003cbr\\u003e1.00\",\"Resid Start-\\u003eMLP 4\\u003cbr\\u003eNone\\u003cbr\\u003e1.00\",\"A7.5-\\u003eResid End\\u003cbr\\u003eNone\\u003cbr\\u003e1.00\",\"MLP 2-\\u003eMLP 6\\u003cbr\\u003eNone\\u003cbr\\u003e1.00\",\"A0.8-\\u003eMLP 4\\u003cbr\\u003eNone\\u003cbr\\u003e1.00\",\"MLP 5-\\u003eA7.10.K\\u003cbr\\u003eNone\\u003cbr\\u003e1.00\",\"Resid Start-\\u003eMLP 0\\u003cbr\\u003eNone\\u003cbr\\u003e1.00\",\"Resid Start-\\u003eA2.8.Q\\u003cbr\\u003eNone\\u003cbr\\u003e1.00\",\"A1.14-\\u003eMLP 3\\u003cbr\\u003eNone\\u003cbr\\u003e1.00\",\"MLP 1-\\u003eA2.8.V\\u003cbr\\u003eNone\\u003cbr\\u003e1.00\",\"MLP 1-\\u003eA5.0.V\\u003cbr\\u003eNone\\u003cbr\\u003e1.00\",\"A0.8-\\u003eA2.6.K\\u003cbr\\u003eNone\\u003cbr\\u003e1.00\",\"A0.8-\\u003eMLP 0\\u003cbr\\u003eNone\\u003cbr\\u003e1.00\",\"MLP 3-\\u003eA7.10.K\\u003cbr\\u003eNone\\u003cbr\\u003e1.00\",\"MLP 2-\\u003eMLP 4\\u003cbr\\u003eNone\\u003cbr\\u003e1.00\",\"A0.11-\\u003eA7.5.K\\u003cbr\\u003eNone\\u003cbr\\u003e1.00\",\"A2.6-\\u003eMLP 6\\u003cbr\\u003eNone\\u003cbr\\u003e1.00\",\"MLP 0-\\u003eA4.4.K\\u003cbr\\u003eNone\\u003cbr\\u003e1.00\",\"MLP 1-\\u003eA2.9.K\\u003cbr\\u003eNone\\u003cbr\\u003e1.00\",\"MLP 3-\\u003eA7.15.K\\u003cbr\\u003eNone\\u003cbr\\u003e1.00\",\"A0.4-\\u003eMLP 6\\u003cbr\\u003eNone\\u003cbr\\u003e1.00\",\"A5.0-\\u003eMLP 7\\u003cbr\\u003eNone\\u003cbr\\u003e1.00\",\"MLP 3-\\u003eA5.0.K\\u003cbr\\u003eNone\\u003cbr\\u003e1.00\",\"A0.12-\\u003eMLP 5\\u003cbr\\u003eNone\\u003cbr\\u003e1.00\",\"Resid Start-\\u003eA2.13.K\\u003cbr\\u003eNone\\u003cbr\\u003e1.00\",\"MLP 5-\\u003eA7.13.K\\u003cbr\\u003eNone\\u003cbr\\u003e1.00\",\"MLP 0-\\u003eMLP 4\\u003cbr\\u003eNone\\u003cbr\\u003e1.00\",\"Resid Start-\\u003eMLP 1\\u003cbr\\u003eNone\\u003cbr\\u003e1.00\",\"Resid Start-\\u003eA7.10.V\\u003cbr\\u003eNone\\u003cbr\\u003e1.00\",\"MLP 0-\\u003eA7.13.V\\u003cbr\\u003eNone\\u003cbr\\u003e1.00\",\"A0.3-\\u003eMLP 6\\u003cbr\\u003eNone\\u003cbr\\u003e1.00\",\"MLP 3-\\u003eA7.13.K\\u003cbr\\u003eNone\\u003cbr\\u003e1.00\",\"A0.8-\\u003eMLP 1\\u003cbr\\u003eNone\\u003cbr\\u003e1.00\",\"A7.15-\\u003eResid End\\u003cbr\\u003eNone\\u003cbr\\u003e1.00\",\"A0.9-\\u003eMLP 3\\u003cbr\\u003eNone\\u003cbr\\u003e1.00\",\"MLP 0-\\u003eA7.5.V\\u003cbr\\u003eNone\\u003cbr\\u003e1.00\",\"Resid Start-\\u003eA7.15.V\\u003cbr\\u003eNone\\u003cbr\\u003e1.00\",\"A0.4-\\u003eMLP 0\\u003cbr\\u003eNone\\u003cbr\\u003e1.00\",\"Resid Start-\\u003eA7.13.V\\u003cbr\\u003eNone\\u003cbr\\u003e1.00\",\"A2.13-\\u003eMLP 5\\u003cbr\\u003eNone\\u003cbr\\u003e1.00\",\"A0.3-\\u003eMLP 4\\u003cbr\\u003eNone\\u003cbr\\u003e1.00\",\"MLP 2-\\u003eA4.4.K\\u003cbr\\u003eNone\\u003cbr\\u003e1.00\",\"MLP 4-\\u003eA5.0.V\\u003cbr\\u003eNone\\u003cbr\\u003e1.00\",\"Resid Start-\\u003eA0.3.V\\u003cbr\\u003eNone\\u003cbr\\u003e1.00\",\"MLP 2-\\u003eA7.15.V\\u003cbr\\u003eNone\\u003cbr\\u003e1.00\",\"Resid Start-\\u003eA7.5.V\\u003cbr\\u003eNone\\u003cbr\\u003e1.00\",\"A0.2-\\u003eMLP 6\\u003cbr\\u003eNone\\u003cbr\\u003e1.00\",\"Resid Start-\\u003eA7.5.K\\u003cbr\\u003eNone\\u003cbr\\u003e1.00\",\"A0.11-\\u003eA3.10.K\\u003cbr\\u003eNone\\u003cbr\\u003e1.00\",\"MLP 5-\\u003eMLP 6\\u003cbr\\u003eNone\\u003cbr\\u003e1.00\",\"MLP 0-\\u003eMLP 1\\u003cbr\\u003eNone\\u003cbr\\u003e1.00\",\"A4.4-\\u003eMLP 7\\u003cbr\\u003eNone\\u003cbr\\u003e1.00\",\"MLP 1-\\u003eA4.4.V\\u003cbr\\u003eNone\\u003cbr\\u003e1.00\",\"A7.5-\\u003eMLP 7\\u003cbr\\u003eNone\\u003cbr\\u003e1.00\",\"MLP 0-\\u003eA2.8.V\\u003cbr\\u003eNone\\u003cbr\\u003e1.00\",\"MLP 4-\\u003eA7.10.K\\u003cbr\\u003eNone\\u003cbr\\u003e1.00\",\"MLP 3-\\u003eMLP 6\\u003cbr\\u003eNone\\u003cbr\\u003e1.00\",\"MLP 1-\\u003eA2.8.K\\u003cbr\\u003eNone\\u003cbr\\u003e1.00\",\"A2.8-\\u003eA7.5.K\\u003cbr\\u003eNone\\u003cbr\\u003e1.00\",\"MLP 1-\\u003eMLP 5\\u003cbr\\u003eNone\\u003cbr\\u003e1.00\",\"A0.4-\\u003eA7.15.V\\u003cbr\\u003eNone\\u003cbr\\u003e1.00\",\"MLP 4-\\u003eA7.15.K\\u003cbr\\u003eNone\\u003cbr\\u003e1.00\",\"MLP 5-\\u003eResid End\\u003cbr\\u003eNone\\u003cbr\\u003e1.00\",\"MLP 1-\\u003eA6.15.K\\u003cbr\\u003eNone\\u003cbr\\u003e1.00\",\"A2.8-\\u003eMLP 5\\u003cbr\\u003eNone\\u003cbr\\u003e1.00\",\"A0.4-\\u003eA2.6.K\\u003cbr\\u003eNone\\u003cbr\\u003e1.00\",\"MLP 4-\\u003eA7.13.K\\u003cbr\\u003eNone\\u003cbr\\u003e1.00\",\"A1.14-\\u003eA2.8.K\\u003cbr\\u003eNone\\u003cbr\\u003e1.00\",\"MLP 3-\\u003eA7.5.K\\u003cbr\\u003eNone\\u003cbr\\u003e1.00\",\"A2.12-\\u003eMLP 4\\u003cbr\\u003eNone\\u003cbr\\u003e1.00\",\"MLP 5-\\u003eMLP 7\\u003cbr\\u003eNone\\u003cbr\\u003e1.00\",\"MLP 3-\\u003eMLP 5\\u003cbr\\u003eNone\\u003cbr\\u003e1.00\",\"MLP 7-\\u003eResid End\\u003cbr\\u003eNone\\u003cbr\\u003e1.00\",\"MLP 1-\\u003eA7.5.K\\u003cbr\\u003eNone\\u003cbr\\u003e1.00\",\"MLP 0-\\u003eA5.0.V\\u003cbr\\u003eNone\\u003cbr\\u003e1.00\",\"MLP 5-\\u003eA7.15.V\\u003cbr\\u003eNone\\u003cbr\\u003e1.00\",\"MLP 4-\\u003eMLP 5\\u003cbr\\u003eNone\\u003cbr\\u003e1.00\",\"MLP 0-\\u003eA2.9.K\\u003cbr\\u003eNone\\u003cbr\\u003e1.00\",\"MLP 2-\\u003eA7.15.K\\u003cbr\\u003eNone\\u003cbr\\u003e1.00\",\"Resid Start-\\u003eA2.8.V\\u003cbr\\u003eNone\\u003cbr\\u003e1.00\",\"Resid Start-\\u003eA5.0.V\\u003cbr\\u003eNone\\u003cbr\\u003e1.00\",\"MLP 0-\\u003eA2.10.Q\\u003cbr\\u003eNone\\u003cbr\\u003e1.00\",\"MLP 3-\\u003eA7.13.V\\u003cbr\\u003eNone\\u003cbr\\u003e1.00\",\"MLP 0-\\u003eMLP 3\\u003cbr\\u003eNone\\u003cbr\\u003e1.00\",\"A0.11-\\u003eA7.10.K\\u003cbr\\u003eNone\\u003cbr\\u003e1.00\",\"MLP 1-\\u003eA2.6.K\\u003cbr\\u003eNone\\u003cbr\\u003e1.00\",\"MLP 2-\\u003eA7.13.K\\u003cbr\\u003eNone\\u003cbr\\u003e1.00\",\"Resid Start-\\u003eA2.9.K\\u003cbr\\u003eNone\\u003cbr\\u003e1.00\",\"MLP 1-\\u003eMLP 2\\u003cbr\\u003eNone\\u003cbr\\u003e1.00\",\"MLP 2-\\u003eA5.0.V\\u003cbr\\u003eNone\\u003cbr\\u003e1.00\",\"MLP 6-\\u003eA7.5.K\\u003cbr\\u003eNone\\u003cbr\\u003e1.00\",\"Resid Start-\\u003eMLP 3\\u003cbr\\u003eNone\\u003cbr\\u003e1.00\",\"A0.11-\\u003eA7.15.K\\u003cbr\\u003eNone\\u003cbr\\u003e1.00\",\"A5.0-\\u003eMLP 6\\u003cbr\\u003eNone\\u003cbr\\u003e1.00\",\"MLP 4-\\u003eA7.5.K\\u003cbr\\u003eNone\\u003cbr\\u003e1.00\",\"MLP 1-\\u003eA3.10.K\\u003cbr\\u003eNone\\u003cbr\\u003e1.00\",\"A0.8-\\u003eMLP 5\\u003cbr\\u003eNone\\u003cbr\\u003e1.00\",\"MLP 2-\\u003eA7.10.K\\u003cbr\\u003eNone\\u003cbr\\u003e1.00\",\"MLP 0-\\u003eA4.4.V\\u003cbr\\u003eNone\\u003cbr\\u003e1.00\",\"A2.9-\\u003eMLP 4\\u003cbr\\u003eNone\\u003cbr\\u003e1.00\",\"MLP 1-\\u003eA2.12.K\\u003cbr\\u003eNone\\u003cbr\\u003e1.00\",\"MLP 0-\\u003eA2.8.K\\u003cbr\\u003eNone\\u003cbr\\u003e1.00\",\"MLP 0-\\u003eMLP 5\\u003cbr\\u003eNone\\u003cbr\\u003e1.00\",\"Resid Start-\\u003eA4.4.V\\u003cbr\\u003eNone\\u003cbr\\u003e1.00\",\"MLP 3-\\u003eA7.5.V\\u003cbr\\u003eNone\\u003cbr\\u003e1.00\",\"A4.4-\\u003eMLP 5\\u003cbr\\u003eNone\\u003cbr\\u003e1.00\",\"MLP 0-\\u003eA6.15.K\\u003cbr\\u003eNone\\u003cbr\\u003e1.00\",\"MLP 5-\\u003eA7.15.K\\u003cbr\\u003eNone\\u003cbr\\u003e1.00\",\"Resid Start-\\u003eA2.8.K\\u003cbr\\u003eNone\\u003cbr\\u003e1.00\",\"A2.10-\\u003eMLP 6\\u003cbr\\u003eNone\\u003cbr\\u003e1.00\",\"Resid Start-\\u003eMLP 5\\u003cbr\\u003eNone\\u003cbr\\u003e1.00\",\"A0.8-\\u003eA2.8.K\\u003cbr\\u003eNone\\u003cbr\\u003e1.00\",\"MLP 0-\\u003eA1.14.K\\u003cbr\\u003eNone\\u003cbr\\u003e1.00\",\"MLP 1-\\u003eA2.10.K\\u003cbr\\u003eNone\\u003cbr\\u003e1.00\",\"MLP 2-\\u003eA7.5.K\\u003cbr\\u003eNone\\u003cbr\\u003e1.00\",\"MLP 0-\\u003eMLP 2\\u003cbr\\u003eNone\\u003cbr\\u003e1.00\",\"MLP 1-\\u003eA5.0.K\\u003cbr\\u003eNone\\u003cbr\\u003e1.00\",\"A0.8-\\u003eA2.13.K\\u003cbr\\u003eNone\\u003cbr\\u003e1.00\",\"MLP 2-\\u003eMLP 5\\u003cbr\\u003eNone\\u003cbr\\u003e1.00\",\"Resid Start-\\u003eA1.14.K\\u003cbr\\u003eNone\\u003cbr\\u003e1.00\",\"Resid Start-\\u003eA1.14.Q\\u003cbr\\u003eNone\\u003cbr\\u003e1.00\",\"MLP 2-\\u003eA6.15.K\\u003cbr\\u003eNone\\u003cbr\\u003e1.00\",\"MLP 0-\\u003eA7.5.K\\u003cbr\\u003eNone\\u003cbr\\u003e1.00\",\"A0.4-\\u003eA7.5.K\\u003cbr\\u003eNone\\u003cbr\\u003e1.00\",\"MLP 1-\\u003eA2.10.V\\u003cbr\\u003eNone\\u003cbr\\u003e1.00\",\"A1.14-\\u003eA5.0.K\\u003cbr\\u003eNone\\u003cbr\\u003e1.00\",\"A0.4-\\u003eA2.8.K\\u003cbr\\u003eNone\\u003cbr\\u003e1.00\",\"MLP 1-\\u003eA7.10.K\\u003cbr\\u003eNone\\u003cbr\\u003e1.00\",\"A6.15-\\u003eMLP 6\\u003cbr\\u003eNone\\u003cbr\\u003e1.00\",\"MLP 0-\\u003eA6.15.V\\u003cbr\\u003eNone\\u003cbr\\u003e1.00\",\"MLP 1-\\u003eA7.15.K\\u003cbr\\u003eNone\\u003cbr\\u003e1.00\",\"Resid Start-\\u003eA6.15.K\\u003cbr\\u003eNone\\u003cbr\\u003e1.00\",\"Resid Start-\\u003eA6.15.V\\u003cbr\\u003eNone\\u003cbr\\u003e1.00\",\"A2.8-\\u003eA7.15.K\\u003cbr\\u003eNone\\u003cbr\\u003e1.00\",\"Resid Start-\\u003eA2.6.K\\u003cbr\\u003eNone\\u003cbr\\u003e1.00\",\"MLP 1-\\u003eA7.13.K\\u003cbr\\u003eNone\\u003cbr\\u003e1.00\",\"MLP 0-\\u003eA3.10.K\\u003cbr\\u003eNone\\u003cbr\\u003e1.00\",\"Resid Start-\\u003eMLP 2\\u003cbr\\u003eNone\\u003cbr\\u003e1.00\",\"MLP 5-\\u003eA7.5.K\\u003cbr\\u003eNone\\u003cbr\\u003e1.00\",\"MLP 6-\\u003eA7.10.K\\u003cbr\\u003eNone\\u003cbr\\u003e1.00\",\"A1.14-\\u003eA7.15.K\\u003cbr\\u003eNone\\u003cbr\\u003e1.00\",\"MLP 0-\\u003eA2.9.Q\\u003cbr\\u003eNone\\u003cbr\\u003e1.00\",\"Resid Start-\\u003eA3.10.K\\u003cbr\\u003eNone\\u003cbr\\u003e1.00\",\"MLP 0-\\u003eA2.12.K\\u003cbr\\u003eNone\\u003cbr\\u003e1.00\"],\"source\":[137,80,7,45,45,94,65,124,48,65,126,16,7,70,36,94,94,126,94,126,65,102,16,65,36,16,65,16,94,137,126,61,45,45,94,126,29,65,126,49,126,94,65,95,94,126,107,7,65,65,45,129,61,65,61,124,39,16,124,137,94,137,94,94,105,124,94,65,107,65,126,61,105,137,7,94,119,105,124,65,52,45,7,19,65,65,16,126,126,7,7,61,45,107,95,94,126,61,98,76,61,117,65,19,94,65,65,94,48,61,7,102,67,94,65,98,65,25,48,45,124,65,45,65,28,65,107,19,94,105,126,52,94,124,61,126,80,126,98,124,19,126,80,98,124,16,61,36,19,61,134,126,94,19,124,94,45,65,65,94,61,94,107,126,45,65,126,45,137,65,107,76,124,126,7,45,94,68,126,94,94,65,61,105,94,19,65,54,65,7,94,126,45,94,126,7,45,65,65,45,94,98,126,16,98,126,132,94,126,65,65,80,65,126,94,65,19,137,16,94,65,94],\"target\":[102,45,61,70,52,95,105,76,19,36,137,52,36,19,19,16,54,124,76,49,98,134,137,54,45,102,7,124,54,102,25,124,61,76,119,119,126,54,105,73,102,102,119,134,49,52,61,105,102,76,105,95,105,49,102,137,95,52,102,73,25,52,137,119,137,73,102,95,19,137,61,134,124,134,137,80,134,73,134,124,73,137,124,119,94,80,61,80,76,95,94,119,124,52,137,105,68,102,137,134,76,19,25,49,124,126,119,49,137,49,126,73,61,52,102,94,49,19,124,105,76,48,102,52,137,52,70,137,126,134,105,134,80,119,137,80,52,19,102,102,73,132,19,95,49,80,52,124,134,19,73,52,76,102,19,68,102,80,76,54,49,61,119,95,49,68,45,76,52,61,102,137,52,70,19,119,105,124,36,80,19,105,52,19,132,102,80,137,19,80,16,54,52,45,76,25,19,16,16,132,52,52,54,76,80,119,137,132,102,132,132,102,95,49,70,45,52,119,102,68,70,36],\"value\":[1.0,1.0,1.0,1.0,1.0,1.0,1.0,1.0,1.0,1.0,1.0,1.0,1.0,1.0,1.0,1.0,1.0,1.0,1.0,1.0,1.0,1.0,1.0,1.0,1.0,1.0,1.0,1.0,1.0,1.0,1.0,1.0,1.0,1.0,1.0,1.0,1.0,1.0,1.0,1.0,1.0,1.0,1.0,1.0,1.0,1.0,1.0,1.0,1.0,1.0,1.0,1.0,1.0,1.0,1.0,1.0,1.0,1.0,1.0,1.0,1.0,1.0,1.0,1.0,1.0,1.0,1.0,1.0,1.0,1.0,1.0,1.0,1.0,1.0,1.0,1.0,1.0,1.0,1.0,1.0,1.0,1.0,1.0,1.0,1.0,1.0,1.0,1.0,1.0,1.0,1.0,1.0,1.0,1.0,1.0,1.0,1.0,1.0,1.0,1.0,1.0,1.0,1.0,1.0,1.0,1.0,1.0,1.0,1.0,1.0,1.0,1.0,1.0,1.0,1.0,1.0,1.0,1.0,1.0,1.0,1.0,1.0,1.0,1.0,1.0,1.0,1.0,1.0,1.0,1.0,1.0,1.0,1.0,1.0,1.0,1.0,1.0,1.0,1.0,1.0,1.0,1.0,1.0,1.0,1.0,1.0,1.0,1.0,1.0,1.0,1.0,1.0,1.0,1.0,1.0,1.0,1.0,1.0,1.0,1.0,1.0,1.0,1.0,1.0,1.0,1.0,1.0,1.0,1.0,1.0,1.0,1.0,1.0,1.0,1.0,1.0,1.0,1.0,1.0,1.0,1.0,1.0,1.0,1.0,1.0,1.0,1.0,1.0,1.0,1.0,1.0,1.0,1.0,1.0,1.0,1.0,1.0,1.0,1.0,1.0,1.0,1.0,1.0,1.0,1.0,1.0,1.0,1.0,1.0,1.0,1.0,1.0,1.0,1.0,1.0,1.0,1.0,1.0,1.0,1.0,1.0,1.0]},\"node\":{\"color\":[\"rgba(0,0,0,0.0)\",\"rgba(0,0,0,0.0)\",\"rgba(0,0,0,0.0)\",\"rgba(0,0,0,0.0)\",\"rgba(0,0,0,0.0)\",\"rgba(0,0,0,0.0)\",\"rgba(0,0,0,0.0)\",\"rgb(166, 86, 40)\",\"rgba(0,0,0,0.0)\",\"rgba(0,0,0,0.0)\",\"rgba(0,0,0,0.0)\",\"rgba(0,0,0,0.0)\",\"rgba(0,0,0,0.0)\",\"rgba(0,0,0,0.0)\",\"rgba(0,0,0,0.0)\",\"rgba(0,0,0,0.0)\",\"rgb(77, 175, 74)\",\"rgba(0,0,0,0.0)\",\"rgba(0,0,0,0.0)\",\"rgb(55, 126, 184)\",\"rgba(0,0,0,0.0)\",\"rgba(0,0,0,0.0)\",\"rgba(0,0,0,0.0)\",\"rgba(0,0,0,0.0)\",\"rgba(0,0,0,0.0)\",\"rgb(166, 86, 40)\",\"rgba(0,0,0,0.0)\",\"rgba(0,0,0,0.0)\",\"rgb(153, 153, 153)\",\"rgb(55, 126, 184)\",\"rgba(0,0,0,0.0)\",\"rgba(0,0,0,0.0)\",\"rgba(0,0,0,0.0)\",\"rgba(0,0,0,0.0)\",\"rgba(0,0,0,0.0)\",\"rgba(0,0,0,0.0)\",\"rgb(152, 78, 163)\",\"rgba(0,0,0,0.0)\",\"rgba(0,0,0,0.0)\",\"rgb(77, 175, 74)\",\"rgba(0,0,0,0.0)\",\"rgba(0,0,0,0.0)\",\"rgba(0,0,0,0.0)\",\"rgba(0,0,0,0.0)\",\"rgba(0,0,0,0.0)\",\"rgb(222, 222, 0)\",\"rgba(0,0,0,0.0)\",\"rgba(0,0,0,0.0)\",\"rgb(228, 26, 28)\",\"rgb(166, 86, 40)\",\"rgba(0,0,0,0.0)\",\"rgba(0,0,0,0.0)\",\"rgb(55, 126, 184)\",\"rgba(0,0,0,0.0)\",\"rgb(228, 26, 28)\",\"rgba(0,0,0,0.0)\",\"rgba(0,0,0,0.0)\",\"rgba(0,0,0,0.0)\",\"rgba(0,0,0,0.0)\",\"rgba(0,0,0,0.0)\",\"rgba(0,0,0,0.0)\",\"rgb(77, 175, 74)\",\"rgba(0,0,0,0.0)\",\"rgba(0,0,0,0.0)\",\"rgba(0,0,0,0.0)\",\"rgb(228, 26, 28)\",\"rgba(0,0,0,0.0)\",\"rgb(228, 26, 28)\",\"rgb(247, 129, 191)\",\"rgba(0,0,0,0.0)\",\"rgb(228, 26, 28)\",\"rgba(0,0,0,0.0)\",\"rgba(0,0,0,0.0)\",\"rgb(166, 86, 40)\",\"rgba(0,0,0,0.0)\",\"rgba(0,0,0,0.0)\",\"rgb(152, 78, 163)\",\"rgba(0,0,0,0.0)\",\"rgba(0,0,0,0.0)\",\"rgba(0,0,0,0.0)\",\"rgb(228, 26, 28)\",\"rgba(0,0,0,0.0)\",\"rgba(0,0,0,0.0)\",\"rgba(0,0,0,0.0)\",\"rgba(0,0,0,0.0)\",\"rgba(0,0,0,0.0)\",\"rgba(0,0,0,0.0)\",\"rgba(0,0,0,0.0)\",\"rgba(0,0,0,0.0)\",\"rgba(0,0,0,0.0)\",\"rgba(0,0,0,0.0)\",\"rgba(0,0,0,0.0)\",\"rgba(0,0,0,0.0)\",\"rgba(0,0,0,0.0)\",\"rgb(152, 78, 163)\",\"rgb(152, 78, 163)\",\"rgba(0,0,0,0.0)\",\"rgba(0,0,0,0.0)\",\"rgb(166, 86, 40)\",\"rgba(0,0,0,0.0)\",\"rgba(0,0,0,0.0)\",\"rgba(0,0,0,0.0)\",\"rgb(77, 175, 74)\",\"rgba(0,0,0,0.0)\",\"rgba(0,0,0,0.0)\",\"rgb(247, 129, 191)\",\"rgba(0,0,0,0.0)\",\"rgb(222, 222, 0)\",\"rgba(0,0,0,0.0)\",\"rgba(0,0,0,0.0)\",\"rgba(0,0,0,0.0)\",\"rgba(0,0,0,0.0)\",\"rgba(0,0,0,0.0)\",\"rgba(0,0,0,0.0)\",\"rgba(0,0,0,0.0)\",\"rgba(0,0,0,0.0)\",\"rgba(0,0,0,0.0)\",\"rgb(77, 175, 74)\",\"rgba(0,0,0,0.0)\",\"rgb(255, 127, 0)\",\"rgba(0,0,0,0.0)\",\"rgba(0,0,0,0.0)\",\"rgba(0,0,0,0.0)\",\"rgba(0,0,0,0.0)\",\"rgb(166, 86, 40)\",\"rgba(0,0,0,0.0)\",\"rgb(166, 86, 40)\",\"rgba(0,0,0,0.0)\",\"rgba(0,0,0,0.0)\",\"rgb(166, 86, 40)\",\"rgba(0,0,0,0.0)\",\"rgba(0,0,0,0.0)\",\"rgb(247, 129, 191)\",\"rgba(0,0,0,0.0)\",\"rgb(166, 86, 40)\",\"rgba(0,0,0,0.0)\",\"rgba(0,0,0,0.0)\",\"rgb(255, 127, 0)\"],\"label\":[\"\",\"\",\"\",\"\",\"\",\"\",\"\",\"A0.8\",\"\",\"\",\"\",\"\",\"\",\"\",\"\",\"\",\"A1.14\",\"\",\"\",\"MLP 5\",\"\",\"\",\"\",\"\",\"\",\"A2.13\",\"\",\"\",\"A0.2\",\"A1.12\",\"\",\"\",\"\",\"\",\"\",\"\",\"A2.12\",\"\",\"\",\"A0.15\",\"\",\"\",\"\",\"\",\"\",\"MLP 2\",\"\",\"\",\"A0.3\",\"A7.13\",\"\",\"\",\"A7.5\",\"\",\"A2.10\",\"\",\"\",\"\",\"\",\"\",\"\",\"MLP 3\",\"\",\"\",\"\",\"Embed\",\"\",\"A0.9\",\"A2.9\",\"\",\"A3.10\",\"\",\"\",\"Unembed\",\"\",\"\",\"A5.0\",\"\",\"\",\"\",\"A2.8\",\"\",\"\",\"\",\"\",\"\",\"\",\"\",\"\",\"\",\"\",\"\",\"\",\"\",\"MLP 0\",\"A2.6\",\"\",\"\",\"A0.4\",\"\",\"\",\"\",\"A7.15\",\"\",\"\",\"A4.4\",\"\",\"A0.11\",\"\",\"\",\"\",\"\",\"\",\"\",\"\",\"\",\"\",\"A0.12\",\"\",\"A7.10\",\"\",\"\",\"\",\"\",\"MLP 4\",\"\",\"MLP 1\",\"\",\"\",\"A0.1\",\"\",\"\",\"A6.15\",\"\",\"MLP 7\",\"\",\"\",\"MLP 6\"],\"line\":{\"width\":0.0}},\"orientation\":\"v\",\"type\":\"sankey\"}],                        {\"height\":900,\"plot_bgcolor\":\"blue\",\"width\":800,\"template\":{\"data\":{\"histogram2dcontour\":[{\"type\":\"histogram2dcontour\",\"colorbar\":{\"outlinewidth\":0,\"ticks\":\"\"},\"colorscale\":[[0.0,\"#0d0887\"],[0.1111111111111111,\"#46039f\"],[0.2222222222222222,\"#7201a8\"],[0.3333333333333333,\"#9c179e\"],[0.4444444444444444,\"#bd3786\"],[0.5555555555555556,\"#d8576b\"],[0.6666666666666666,\"#ed7953\"],[0.7777777777777778,\"#fb9f3a\"],[0.8888888888888888,\"#fdca26\"],[1.0,\"#f0f921\"]]}],\"choropleth\":[{\"type\":\"choropleth\",\"colorbar\":{\"outlinewidth\":0,\"ticks\":\"\"}}],\"histogram2d\":[{\"type\":\"histogram2d\",\"colorbar\":{\"outlinewidth\":0,\"ticks\":\"\"},\"colorscale\":[[0.0,\"#0d0887\"],[0.1111111111111111,\"#46039f\"],[0.2222222222222222,\"#7201a8\"],[0.3333333333333333,\"#9c179e\"],[0.4444444444444444,\"#bd3786\"],[0.5555555555555556,\"#d8576b\"],[0.6666666666666666,\"#ed7953\"],[0.7777777777777778,\"#fb9f3a\"],[0.8888888888888888,\"#fdca26\"],[1.0,\"#f0f921\"]]}],\"heatmap\":[{\"type\":\"heatmap\",\"colorbar\":{\"outlinewidth\":0,\"ticks\":\"\"},\"colorscale\":[[0.0,\"#0d0887\"],[0.1111111111111111,\"#46039f\"],[0.2222222222222222,\"#7201a8\"],[0.3333333333333333,\"#9c179e\"],[0.4444444444444444,\"#bd3786\"],[0.5555555555555556,\"#d8576b\"],[0.6666666666666666,\"#ed7953\"],[0.7777777777777778,\"#fb9f3a\"],[0.8888888888888888,\"#fdca26\"],[1.0,\"#f0f921\"]]}],\"heatmapgl\":[{\"type\":\"heatmapgl\",\"colorbar\":{\"outlinewidth\":0,\"ticks\":\"\"},\"colorscale\":[[0.0,\"#0d0887\"],[0.1111111111111111,\"#46039f\"],[0.2222222222222222,\"#7201a8\"],[0.3333333333333333,\"#9c179e\"],[0.4444444444444444,\"#bd3786\"],[0.5555555555555556,\"#d8576b\"],[0.6666666666666666,\"#ed7953\"],[0.7777777777777778,\"#fb9f3a\"],[0.8888888888888888,\"#fdca26\"],[1.0,\"#f0f921\"]]}],\"contourcarpet\":[{\"type\":\"contourcarpet\",\"colorbar\":{\"outlinewidth\":0,\"ticks\":\"\"}}],\"contour\":[{\"type\":\"contour\",\"colorbar\":{\"outlinewidth\":0,\"ticks\":\"\"},\"colorscale\":[[0.0,\"#0d0887\"],[0.1111111111111111,\"#46039f\"],[0.2222222222222222,\"#7201a8\"],[0.3333333333333333,\"#9c179e\"],[0.4444444444444444,\"#bd3786\"],[0.5555555555555556,\"#d8576b\"],[0.6666666666666666,\"#ed7953\"],[0.7777777777777778,\"#fb9f3a\"],[0.8888888888888888,\"#fdca26\"],[1.0,\"#f0f921\"]]}],\"surface\":[{\"type\":\"surface\",\"colorbar\":{\"outlinewidth\":0,\"ticks\":\"\"},\"colorscale\":[[0.0,\"#0d0887\"],[0.1111111111111111,\"#46039f\"],[0.2222222222222222,\"#7201a8\"],[0.3333333333333333,\"#9c179e\"],[0.4444444444444444,\"#bd3786\"],[0.5555555555555556,\"#d8576b\"],[0.6666666666666666,\"#ed7953\"],[0.7777777777777778,\"#fb9f3a\"],[0.8888888888888888,\"#fdca26\"],[1.0,\"#f0f921\"]]}],\"mesh3d\":[{\"type\":\"mesh3d\",\"colorbar\":{\"outlinewidth\":0,\"ticks\":\"\"}}],\"scatter\":[{\"fillpattern\":{\"fillmode\":\"overlay\",\"size\":10,\"solidity\":0.2},\"type\":\"scatter\"}],\"parcoords\":[{\"type\":\"parcoords\",\"line\":{\"colorbar\":{\"outlinewidth\":0,\"ticks\":\"\"}}}],\"scatterpolargl\":[{\"type\":\"scatterpolargl\",\"marker\":{\"colorbar\":{\"outlinewidth\":0,\"ticks\":\"\"}}}],\"bar\":[{\"error_x\":{\"color\":\"#2a3f5f\"},\"error_y\":{\"color\":\"#2a3f5f\"},\"marker\":{\"line\":{\"color\":\"#E5ECF6\",\"width\":0.5},\"pattern\":{\"fillmode\":\"overlay\",\"size\":10,\"solidity\":0.2}},\"type\":\"bar\"}],\"scattergeo\":[{\"type\":\"scattergeo\",\"marker\":{\"colorbar\":{\"outlinewidth\":0,\"ticks\":\"\"}}}],\"scatterpolar\":[{\"type\":\"scatterpolar\",\"marker\":{\"colorbar\":{\"outlinewidth\":0,\"ticks\":\"\"}}}],\"histogram\":[{\"marker\":{\"pattern\":{\"fillmode\":\"overlay\",\"size\":10,\"solidity\":0.2}},\"type\":\"histogram\"}],\"scattergl\":[{\"type\":\"scattergl\",\"marker\":{\"colorbar\":{\"outlinewidth\":0,\"ticks\":\"\"}}}],\"scatter3d\":[{\"type\":\"scatter3d\",\"line\":{\"colorbar\":{\"outlinewidth\":0,\"ticks\":\"\"}},\"marker\":{\"colorbar\":{\"outlinewidth\":0,\"ticks\":\"\"}}}],\"scattermapbox\":[{\"type\":\"scattermapbox\",\"marker\":{\"colorbar\":{\"outlinewidth\":0,\"ticks\":\"\"}}}],\"scatterternary\":[{\"type\":\"scatterternary\",\"marker\":{\"colorbar\":{\"outlinewidth\":0,\"ticks\":\"\"}}}],\"scattercarpet\":[{\"type\":\"scattercarpet\",\"marker\":{\"colorbar\":{\"outlinewidth\":0,\"ticks\":\"\"}}}],\"carpet\":[{\"aaxis\":{\"endlinecolor\":\"#2a3f5f\",\"gridcolor\":\"white\",\"linecolor\":\"white\",\"minorgridcolor\":\"white\",\"startlinecolor\":\"#2a3f5f\"},\"baxis\":{\"endlinecolor\":\"#2a3f5f\",\"gridcolor\":\"white\",\"linecolor\":\"white\",\"minorgridcolor\":\"white\",\"startlinecolor\":\"#2a3f5f\"},\"type\":\"carpet\"}],\"table\":[{\"cells\":{\"fill\":{\"color\":\"#EBF0F8\"},\"line\":{\"color\":\"white\"}},\"header\":{\"fill\":{\"color\":\"#C8D4E3\"},\"line\":{\"color\":\"white\"}},\"type\":\"table\"}],\"barpolar\":[{\"marker\":{\"line\":{\"color\":\"#E5ECF6\",\"width\":0.5},\"pattern\":{\"fillmode\":\"overlay\",\"size\":10,\"solidity\":0.2}},\"type\":\"barpolar\"}],\"pie\":[{\"automargin\":true,\"type\":\"pie\"}]},\"layout\":{\"autotypenumbers\":\"strict\",\"colorway\":[\"rgb(55, 126, 184)\",\"rgb(255, 127, 0)\",\"rgb(77, 175, 74)\",\"rgb(247, 129, 191)\",\"rgb(228, 26, 28)\",\"rgb(152, 78, 163)\",\"rgb(166, 86, 40)\",\"rgb(153, 153, 153)\",\"rgb(222, 222, 0)\"],\"font\":{\"color\":\"#2a3f5f\",\"size\":19},\"hovermode\":\"closest\",\"hoverlabel\":{\"align\":\"left\"},\"paper_bgcolor\":\"white\",\"plot_bgcolor\":\"#E5ECF6\",\"polar\":{\"bgcolor\":\"#E5ECF6\",\"angularaxis\":{\"gridcolor\":\"white\",\"linecolor\":\"white\",\"ticks\":\"\"},\"radialaxis\":{\"gridcolor\":\"white\",\"linecolor\":\"white\",\"ticks\":\"\"}},\"ternary\":{\"bgcolor\":\"#E5ECF6\",\"aaxis\":{\"gridcolor\":\"white\",\"linecolor\":\"white\",\"ticks\":\"\"},\"baxis\":{\"gridcolor\":\"white\",\"linecolor\":\"white\",\"ticks\":\"\"},\"caxis\":{\"gridcolor\":\"white\",\"linecolor\":\"white\",\"ticks\":\"\"}},\"coloraxis\":{\"colorbar\":{\"outlinewidth\":0,\"ticks\":\"\"}},\"colorscale\":{\"sequential\":[[0.0,\"#0d0887\"],[0.1111111111111111,\"#46039f\"],[0.2222222222222222,\"#7201a8\"],[0.3333333333333333,\"#9c179e\"],[0.4444444444444444,\"#bd3786\"],[0.5555555555555556,\"#d8576b\"],[0.6666666666666666,\"#ed7953\"],[0.7777777777777778,\"#fb9f3a\"],[0.8888888888888888,\"#fdca26\"],[1.0,\"#f0f921\"]],\"sequentialminus\":[[0.0,\"#0d0887\"],[0.1111111111111111,\"#46039f\"],[0.2222222222222222,\"#7201a8\"],[0.3333333333333333,\"#9c179e\"],[0.4444444444444444,\"#bd3786\"],[0.5555555555555556,\"#d8576b\"],[0.6666666666666666,\"#ed7953\"],[0.7777777777777778,\"#fb9f3a\"],[0.8888888888888888,\"#fdca26\"],[1.0,\"#f0f921\"]],\"diverging\":[[0,\"#8e0152\"],[0.1,\"#c51b7d\"],[0.2,\"#de77ae\"],[0.3,\"#f1b6da\"],[0.4,\"#fde0ef\"],[0.5,\"#f7f7f7\"],[0.6,\"#e6f5d0\"],[0.7,\"#b8e186\"],[0.8,\"#7fbc41\"],[0.9,\"#4d9221\"],[1,\"#276419\"]]},\"xaxis\":{\"gridcolor\":\"white\",\"linecolor\":\"white\",\"ticks\":\"\",\"title\":{\"standoff\":15},\"zerolinecolor\":\"white\",\"automargin\":true,\"zerolinewidth\":2},\"yaxis\":{\"gridcolor\":\"white\",\"linecolor\":\"white\",\"ticks\":\"\",\"title\":{\"standoff\":15},\"zerolinecolor\":\"white\",\"automargin\":true,\"zerolinewidth\":2},\"scene\":{\"xaxis\":{\"backgroundcolor\":\"#E5ECF6\",\"gridcolor\":\"white\",\"linecolor\":\"white\",\"showbackground\":true,\"ticks\":\"\",\"zerolinecolor\":\"white\",\"gridwidth\":2},\"yaxis\":{\"backgroundcolor\":\"#E5ECF6\",\"gridcolor\":\"white\",\"linecolor\":\"white\",\"showbackground\":true,\"ticks\":\"\",\"zerolinecolor\":\"white\",\"gridwidth\":2},\"zaxis\":{\"backgroundcolor\":\"#E5ECF6\",\"gridcolor\":\"white\",\"linecolor\":\"white\",\"showbackground\":true,\"ticks\":\"\",\"zerolinecolor\":\"white\",\"gridwidth\":2}},\"shapedefaults\":{\"line\":{\"color\":\"#2a3f5f\"}},\"annotationdefaults\":{\"arrowcolor\":\"#2a3f5f\",\"arrowhead\":0,\"arrowwidth\":1},\"geo\":{\"bgcolor\":\"white\",\"landcolor\":\"#E5ECF6\",\"subunitcolor\":\"white\",\"showland\":true,\"showlakes\":true,\"lakecolor\":\"white\"},\"title\":{\"x\":0.05},\"mapbox\":{\"style\":\"light\"}}}},                        {\"responsive\": true}                    ).then(function(){\n",
       "                            \n",
       "var gd = document.getElementById('c9910459-7028-4201-925d-7353d946437f');\n",
       "var x = new MutationObserver(function (mutations, observer) {{\n",
       "        var display = window.getComputedStyle(gd).display;\n",
       "        if (!display || display === 'none') {{\n",
       "            console.log([gd, 'removed!']);\n",
       "            Plotly.purge(gd);\n",
       "            observer.disconnect();\n",
       "        }}\n",
       "}});\n",
       "\n",
       "// Listen for the removal of the full notebook cells\n",
       "var notebookContainer = gd.closest('#notebook-container');\n",
       "if (notebookContainer) {{\n",
       "    x.observe(notebookContainer, {childList: true});\n",
       "}}\n",
       "\n",
       "// Listen for the clearing of the current output cell\n",
       "var outputEl = gd.closest('.output');\n",
       "if (outputEl) {{\n",
       "    x.observe(outputEl, {childList: true});\n",
       "}}\n",
       "\n",
       "                        })                };                });            </script>        </div>"
      ]
     },
     "metadata": {},
     "output_type": "display_data"
    }
   ],
   "source": [
    "test_model(patched_model, train_loader)"
   ]
  },
  {
   "cell_type": "markdown",
   "metadata": {},
   "source": [
    "## Testing ACDC using ablated transformer"
   ]
  },
  {
   "cell_type": "code",
   "execution_count": 33,
   "metadata": {},
   "outputs": [
    {
     "name": "stderr",
     "output_type": "stream",
     "text": [
      "/tmp/ipykernel_1282/4023009734.py:17: FutureWarning:\n",
      "\n",
      "You are using `torch.load` with `weights_only=False` (the current default value), which uses the default pickle module implicitly. It is possible to construct malicious pickle data which will execute arbitrary code during unpickling (See https://github.com/pytorch/pytorch/blob/main/SECURITY.md#untrusted-models for more details). In a future release, the default value for `weights_only` will be flipped to `True`. This limits the functions that could be executed during unpickling. Arbitrary objects will no longer be allowed to be loaded via this mode unless they are explicitly allowlisted by the user via `torch.serialization.add_safe_globals`. We recommend you start setting `weights_only=True` for any use case where you don't have full control of the loaded file. Please open an issue on GitHub for any issues related to this experimental feature.\n",
      "\n"
     ]
    },
    {
     "data": {
      "text/plain": [
       "GPTNeoWithSelfAblation(\n",
       "  (transformer): ModuleDict(\n",
       "    (wte): Embedding(50257, 128)\n",
       "    (wpe): Embedding(256, 128)\n",
       "    (h): ModuleList(\n",
       "      (0-7): 8 x GPTNeoBlockWithSelfAblation(\n",
       "        (ln_1): LayerNorm((128,), eps=1e-05, elementwise_affine=True)\n",
       "        (attn): AttentionWithSelfAblation(\n",
       "          (k_hook): HookPoint()\n",
       "          (v_hook): HookPoint()\n",
       "          (q_hook): HookPoint()\n",
       "          (attn_hook): HookPoint()\n",
       "          (context_hook): HookPoint()\n",
       "          (ablated_context_hook): HookPoint()\n",
       "          (attention): ModuleDict(\n",
       "            (k_proj): Linear(in_features=128, out_features=128, bias=False)\n",
       "            (v_proj): Linear(in_features=128, out_features=128, bias=False)\n",
       "            (q_proj): Linear(in_features=128, out_features=128, bias=False)\n",
       "            (out_proj): Linear(in_features=128, out_features=128, bias=True)\n",
       "          )\n",
       "        )\n",
       "        (ln_2): LayerNorm((128,), eps=1e-05, elementwise_affine=True)\n",
       "        (mlp): MLPWithSelfAblation(\n",
       "          (c_fc): Linear(in_features=128, out_features=512, bias=True)\n",
       "          (c_proj): Linear(in_features=512, out_features=128, bias=True)\n",
       "          (act): NewGELUActivation()\n",
       "          (fc_activation_hook): HookPoint()\n",
       "          (ablated_fc_activation_hook): HookPoint()\n",
       "        )\n",
       "        (attn_hook): HookPoint()\n",
       "        (mlp_hook): HookPoint()\n",
       "      )\n",
       "    )\n",
       "    (ln_f): LayerNorm((128,), eps=1e-05, elementwise_affine=True)\n",
       "  )\n",
       "  (lm_head): Linear(in_features=128, out_features=50257, bias=False)\n",
       "  (attention_ablations_head): Linear(in_features=128, out_features=1024, bias=True)\n",
       "  (neuron_ablations_head): Linear(in_features=128, out_features=4096, bias=True)\n",
       "  (attn_ablation_hook): HookPoint()\n",
       "  (neuron_ablation_hook): HookPoint()\n",
       ")"
      ]
     },
     "execution_count": 33,
     "metadata": {},
     "output_type": "execute_result"
    }
   ],
   "source": [
    "# load ablated model\n",
    "\n",
    "#TODO: Put this code in a separate file\n",
    "model_path = \"model_weights/fanciful-fog-78.pt\"\n",
    "model_specific_config = {\n",
    "    'hidden_size': 128,\n",
    "    'max_position_embeddings': 256,\n",
    "    \n",
    "    # These two are currently not mutually exclusive\n",
    "    'has_layer_by_layer_ablation_mask': False,\n",
    "    'has_overall_ablation_mask': True,\n",
    "}\n",
    "\n",
    "model_config = GPTNeoWithSelfAblationConfig(**model_specific_config)\n",
    "model = GPTNeoWithSelfAblation(model_config).to(device)\n",
    "tokenizer = tiktoken.get_encoding(\"gpt2\")\n",
    "model.load_state_dict(t.load(model_path, map_location=device))\n",
    "model.eval()"
   ]
  },
  {
   "cell_type": "code",
   "execution_count": 41,
   "metadata": {},
   "outputs": [
    {
     "name": "stderr",
     "output_type": "stream",
     "text": [
      "/home/jazhyc/miniconda3/envs/ablation/lib/python3.11/site-packages/transformers/tokenization_utils_base.py:1601: FutureWarning:\n",
      "\n",
      "`clean_up_tokenization_spaces` was not set. It will be set to `True` by default. This behavior will be depracted in transformers v4.45, and will be then set to `False` by default. For more details check this issue: https://github.com/huggingface/transformers/issues/31884\n",
      "\n"
     ]
    }
   ],
   "source": [
    "hooked_ablated_model = convert_model_to_hooked_transformer(model)\n",
    "\n",
    "# Requirements mentioned in load_tl_model\n",
    "hooked_ablated_model.cfg.use_attn_result = True\n",
    "hooked_ablated_model.cfg.use_attn_in = True\n",
    "hooked_ablated_model.cfg.use_split_qkv_input = True\n",
    "hooked_ablated_model.cfg.use_hook_mlp_in = True\n",
    "hooked_ablated_model.eval()\n",
    "for param in hooked_ablated_model.parameters():\n",
    "    param.requires_grad = False"
   ]
  },
  {
   "cell_type": "code",
   "execution_count": 42,
   "metadata": {},
   "outputs": [],
   "source": [
    "patched_ablated_model = patchable_model(hooked_ablated_model, factorized=True, slice_output=\"last_seq\", separate_qkv=True, device=device)"
   ]
  },
  {
   "cell_type": "code",
   "execution_count": 45,
   "metadata": {},
   "outputs": [
    {
     "data": {
      "application/vnd.jupyter.widget-view+json": {
       "model_id": "e8a586b3934546568060a73fc0073d31",
       "version_major": 2,
       "version_minor": 0
      },
      "text/plain": [
       "VBox(children=(          | 0/1 [00:00<?, ?it/s],))"
      ]
     },
     "metadata": {},
     "output_type": "display_data"
    },
    {
     "name": "stdout",
     "output_type": "stream",
     "text": [
      "Total edges: 23981\n",
      "Remaining edges: 68\n"
     ]
    },
    {
     "data": {
      "application/vnd.plotly.v1+json": {
       "config": {
        "plotlyServerURL": "https://plot.ly"
       },
       "data": [
        {
         "arrangement": "perpendicular",
         "domain": {
          "y": [
           0,
           1
          ]
         },
         "link": {
          "arrowlen": 25,
          "color": [
           "rgba(0,0,255,0.3)",
           "rgba(0,0,255,0.3)",
           "rgba(0,0,255,0.3)",
           "rgba(0,0,255,0.3)",
           "rgba(0,0,255,0.3)",
           "rgba(0,0,255,0.3)",
           "rgba(0,0,255,0.3)",
           "rgba(0,0,255,0.3)",
           "rgba(0,0,255,0.3)",
           "rgba(0,0,255,0.3)",
           "rgba(0,0,255,0.3)",
           "rgba(0,0,255,0.3)",
           "rgba(0,0,255,0.3)",
           "rgba(0,0,255,0.3)",
           "rgba(0,0,255,0.3)",
           "rgba(0,0,255,0.3)",
           "rgba(0,0,255,0.3)",
           "rgba(0,0,255,0.3)",
           "rgba(0,0,255,0.3)",
           "rgba(0,0,255,0.3)",
           "rgba(0,0,255,0.3)",
           "rgba(0,0,255,0.3)",
           "rgba(0,0,255,0.3)",
           "rgba(0,0,255,0.3)",
           "rgba(0,0,255,0.3)",
           "rgba(0,0,255,0.3)",
           "rgba(0,0,255,0.3)",
           "rgba(0,0,255,0.3)",
           "rgba(0,0,255,0.3)",
           "rgba(0,0,255,0.3)",
           "rgba(0,0,255,0.3)",
           "rgba(0,0,255,0.3)",
           "rgba(0,0,255,0.3)",
           "rgba(0,0,255,0.3)",
           "rgba(0,0,255,0.3)",
           "rgba(0,0,255,0.3)",
           "rgba(0,0,255,0.3)",
           "rgba(0,0,255,0.3)",
           "rgba(0,0,255,0.3)",
           "rgba(0,0,255,0.3)",
           "rgba(0,0,255,0.3)",
           "rgba(0,0,255,0.3)",
           "rgba(0,0,255,0.3)",
           "rgba(0,0,255,0.3)",
           "rgba(0,0,255,0.3)",
           "rgba(0,0,255,0.3)",
           "rgba(0,0,255,0.3)",
           "rgba(0,0,255,0.3)",
           "rgba(0,0,255,0.3)",
           "rgba(0,0,255,0.3)",
           "rgba(0,0,255,0.3)",
           "rgba(0,0,255,0.3)",
           "rgba(0,0,255,0.3)",
           "rgba(0,0,255,0.3)",
           "rgba(0,0,255,0.3)",
           "rgba(0,0,255,0.3)",
           "rgba(0,0,255,0.3)",
           "rgba(0,0,255,0.3)",
           "rgba(0,0,255,0.3)",
           "rgba(0,0,255,0.3)",
           "rgba(0,0,255,0.3)",
           "rgba(0,0,255,0.3)",
           "rgba(0,0,255,0.3)",
           "rgba(0,0,255,0.3)",
           "rgba(0,0,255,0.3)",
           "rgba(0,0,255,0.3)",
           "rgba(0,0,255,0.3)",
           "rgba(0,0,255,0.3)"
          ],
          "label": [
           "A0.7->MLP 0<br>None<br>1.00",
           "A7.4->Resid End<br>None<br>1.00",
           "A7.15->MLP 7<br>None<br>1.00",
           "Resid Start->A0.5.Q<br>None<br>1.00",
           "Resid Start->A0.8.Q<br>None<br>1.00",
           "A7.4->MLP 7<br>None<br>1.00",
           "MLP 3->A6.15.V<br>None<br>1.00",
           "A7.11->Resid End<br>None<br>1.00",
           "A0.14->MLP 0<br>None<br>1.00",
           "MLP 6->Resid End<br>None<br>1.00",
           "MLP 0->MLP 6<br>None<br>1.00",
           "MLP 0->A7.7.K<br>None<br>1.00",
           "MLP 3->A6.1.V<br>None<br>1.00",
           "Resid Start->A0.6.Q<br>None<br>1.00",
           "MLP 6->A7.4.K<br>None<br>1.00",
           "A0.5->MLP 0<br>None<br>1.00",
           "A0.13->MLP 0<br>None<br>1.00",
           "Resid Start->MLP 0<br>None<br>1.00",
           "MLP 1->A7.7.V<br>None<br>1.00",
           "A0.8->MLP 0<br>None<br>1.00",
           "A6.15->A7.7.Q<br>None<br>1.00",
           "MLP 0->MLP 4<br>None<br>1.00",
           "A7.15->Resid End<br>None<br>1.00",
           "MLP 3->A7.7.V<br>None<br>1.00",
           "MLP 6->A7.7.V<br>None<br>1.00",
           "A7.7->Resid End<br>None<br>1.00",
           "MLP 4->A7.7.V<br>None<br>1.00",
           "A0.3->MLP 0<br>None<br>1.00",
           "MLP 5->A7.7.K<br>None<br>1.00",
           "MLP 0->MLP 1<br>None<br>1.00",
           "MLP 3->A7.7.K<br>None<br>1.00",
           "MLP 5->A6.15.V<br>None<br>1.00",
           "A0.2->MLP 0<br>None<br>1.00",
           "A5.14->A7.7.K<br>None<br>1.00",
           "MLP 0->A7.4.V<br>None<br>1.00",
           "MLP 3->MLP 5<br>None<br>1.00",
           "MLP 7->Resid End<br>None<br>1.00",
           "MLP 0->A7.7.V<br>None<br>1.00",
           "MLP 5->A7.15.V<br>None<br>1.00",
           "MLP 4->MLP 5<br>None<br>1.00",
           "A7.7->MLP 7<br>None<br>1.00",
           "MLP 0->MLP 3<br>None<br>1.00",
           "MLP 5->A6.1.V<br>None<br>1.00",
           "MLP 2->A7.7.V<br>None<br>1.00",
           "Resid Start->A0.13.Q<br>None<br>1.00",
           "A0.6->MLP 0<br>None<br>1.00",
           "MLP 0->A6.1.K<br>None<br>1.00",
           "A6.1->Resid End<br>None<br>1.00",
           "MLP 0->A7.11.V<br>None<br>1.00",
           "MLP 2->A7.7.K<br>None<br>1.00",
           "A0.2->MLP 3<br>None<br>1.00",
           "MLP 0->MLP 5<br>None<br>1.00",
           "Resid Start->A0.12.Q<br>None<br>1.00",
           "A6.1->MLP 7<br>None<br>1.00",
           "MLP 0->MLP 2<br>None<br>1.00",
           "MLP 5->A7.7.V<br>None<br>1.00",
           "MLP 2->MLP 5<br>None<br>1.00",
           "Resid Start->A0.14.Q<br>None<br>1.00",
           "Resid Start->A0.7.Q<br>None<br>1.00",
           "A7.1->Resid End<br>None<br>1.00",
           "A0.5->MLP 2<br>None<br>1.00",
           "MLP 0->A6.15.V<br>None<br>1.00",
           "Resid Start->A0.2.Q<br>None<br>1.00",
           "A6.15->Resid End<br>None<br>1.00",
           "A0.12->MLP 0<br>None<br>1.00",
           "A7.6->Resid End<br>None<br>1.00",
           "Resid Start->A0.3.Q<br>None<br>1.00",
           "A6.15->MLP 7<br>None<br>1.00"
          ],
          "source": [
           27,
           109,
           102,
           65,
           65,
           109,
           61,
           92,
           20,
           137,
           94,
           94,
           61,
           65,
           137,
           106,
           13,
           65,
           126,
           7,
           132,
           94,
           102,
           61,
           137,
           34,
           124,
           48,
           19,
           94,
           61,
           19,
           28,
           43,
           94,
           61,
           134,
           94,
           19,
           124,
           34,
           94,
           19,
           45,
           65,
           81,
           94,
           14,
           94,
           45,
           28,
           94,
           65,
           14,
           94,
           19,
           45,
           65,
           65,
           33,
           106,
           94,
           65,
           132,
           117,
           4,
           65,
           132
          ],
          "target": [
           94,
           73,
           134,
           106,
           7,
           134,
           132,
           73,
           94,
           73,
           137,
           34,
           14,
           81,
           109,
           94,
           94,
           94,
           34,
           94,
           34,
           124,
           73,
           34,
           34,
           73,
           34,
           94,
           34,
           126,
           34,
           132,
           94,
           34,
           109,
           19,
           73,
           34,
           102,
           19,
           134,
           61,
           14,
           34,
           13,
           94,
           14,
           73,
           92,
           34,
           61,
           19,
           117,
           134,
           45,
           34,
           19,
           20,
           27,
           73,
           45,
           132,
           28,
           73,
           94,
           73,
           48,
           134
          ],
          "value": [
           1,
           1,
           1,
           1,
           1,
           1,
           1,
           1,
           1,
           1,
           1,
           1,
           1,
           1,
           1,
           1,
           1,
           1,
           1,
           1,
           1,
           1,
           1,
           1,
           1,
           1,
           1,
           1,
           1,
           1,
           1,
           1,
           1,
           1,
           1,
           1,
           1,
           1,
           1,
           1,
           1,
           1,
           1,
           1,
           1,
           1,
           1,
           1,
           1,
           1,
           1,
           1,
           1,
           1,
           1,
           1,
           1,
           1,
           1,
           1,
           1,
           1,
           1,
           1,
           1,
           1,
           1,
           1
          ]
         },
         "node": {
          "color": [
           "rgba(0,0,0,0.0)",
           "rgba(0,0,0,0.0)",
           "rgba(0,0,0,0.0)",
           "rgba(0,0,0,0.0)",
           "rgb(77, 175, 74)",
           "rgba(0,0,0,0.0)",
           "rgba(0,0,0,0.0)",
           "rgb(255, 127, 0)",
           "rgba(0,0,0,0.0)",
           "rgba(0,0,0,0.0)",
           "rgba(0,0,0,0.0)",
           "rgba(0,0,0,0.0)",
           "rgba(0,0,0,0.0)",
           "rgb(222, 222, 0)",
           "rgb(222, 222, 0)",
           "rgba(0,0,0,0.0)",
           "rgba(0,0,0,0.0)",
           "rgba(0,0,0,0.0)",
           "rgba(0,0,0,0.0)",
           "rgb(77, 175, 74)",
           "rgb(247, 129, 191)",
           "rgba(0,0,0,0.0)",
           "rgba(0,0,0,0.0)",
           "rgba(0,0,0,0.0)",
           "rgba(0,0,0,0.0)",
           "rgba(0,0,0,0.0)",
           "rgba(0,0,0,0.0)",
           "rgb(228, 26, 28)",
           "rgb(222, 222, 0)",
           "rgba(0,0,0,0.0)",
           "rgba(0,0,0,0.0)",
           "rgba(0,0,0,0.0)",
           "rgba(0,0,0,0.0)",
           "rgb(152, 78, 163)",
           "rgb(255, 127, 0)",
           "rgba(0,0,0,0.0)",
           "rgba(0,0,0,0.0)",
           "rgba(0,0,0,0.0)",
           "rgba(0,0,0,0.0)",
           "rgba(0,0,0,0.0)",
           "rgba(0,0,0,0.0)",
           "rgba(0,0,0,0.0)",
           "rgba(0,0,0,0.0)",
           "rgb(166, 86, 40)",
           "rgba(0,0,0,0.0)",
           "rgb(166, 86, 40)",
           "rgba(0,0,0,0.0)",
           "rgba(0,0,0,0.0)",
           "rgb(247, 129, 191)",
           "rgba(0,0,0,0.0)",
           "rgba(0,0,0,0.0)",
           "rgba(0,0,0,0.0)",
           "rgba(0,0,0,0.0)",
           "rgba(0,0,0,0.0)",
           "rgba(0,0,0,0.0)",
           "rgba(0,0,0,0.0)",
           "rgba(0,0,0,0.0)",
           "rgba(0,0,0,0.0)",
           "rgba(0,0,0,0.0)",
           "rgba(0,0,0,0.0)",
           "rgba(0,0,0,0.0)",
           "rgb(152, 78, 163)",
           "rgba(0,0,0,0.0)",
           "rgba(0,0,0,0.0)",
           "rgba(0,0,0,0.0)",
           "rgb(247, 129, 191)",
           "rgba(0,0,0,0.0)",
           "rgba(0,0,0,0.0)",
           "rgba(0,0,0,0.0)",
           "rgba(0,0,0,0.0)",
           "rgba(0,0,0,0.0)",
           "rgba(0,0,0,0.0)",
           "rgba(0,0,0,0.0)",
           "rgb(77, 175, 74)",
           "rgba(0,0,0,0.0)",
           "rgba(0,0,0,0.0)",
           "rgba(0,0,0,0.0)",
           "rgba(0,0,0,0.0)",
           "rgba(0,0,0,0.0)",
           "rgba(0,0,0,0.0)",
           "rgba(0,0,0,0.0)",
           "rgb(55, 126, 184)",
           "rgba(0,0,0,0.0)",
           "rgba(0,0,0,0.0)",
           "rgba(0,0,0,0.0)",
           "rgba(0,0,0,0.0)",
           "rgba(0,0,0,0.0)",
           "rgba(0,0,0,0.0)",
           "rgba(0,0,0,0.0)",
           "rgba(0,0,0,0.0)",
           "rgba(0,0,0,0.0)",
           "rgba(0,0,0,0.0)",
           "rgb(247, 129, 191)",
           "rgba(0,0,0,0.0)",
           "rgb(255, 127, 0)",
           "rgba(0,0,0,0.0)",
           "rgba(0,0,0,0.0)",
           "rgba(0,0,0,0.0)",
           "rgba(0,0,0,0.0)",
           "rgba(0,0,0,0.0)",
           "rgba(0,0,0,0.0)",
           "rgba(0,0,0,0.0)",
           "rgb(77, 175, 74)",
           "rgba(0,0,0,0.0)",
           "rgba(0,0,0,0.0)",
           "rgba(0,0,0,0.0)",
           "rgb(166, 86, 40)",
           "rgba(0,0,0,0.0)",
           "rgba(0,0,0,0.0)",
           "rgb(153, 153, 153)",
           "rgba(0,0,0,0.0)",
           "rgba(0,0,0,0.0)",
           "rgba(0,0,0,0.0)",
           "rgba(0,0,0,0.0)",
           "rgba(0,0,0,0.0)",
           "rgba(0,0,0,0.0)",
           "rgba(0,0,0,0.0)",
           "rgb(255, 127, 0)",
           "rgba(0,0,0,0.0)",
           "rgba(0,0,0,0.0)",
           "rgba(0,0,0,0.0)",
           "rgba(0,0,0,0.0)",
           "rgba(0,0,0,0.0)",
           "rgba(0,0,0,0.0)",
           "rgb(247, 129, 191)",
           "rgba(0,0,0,0.0)",
           "rgb(77, 175, 74)",
           "rgba(0,0,0,0.0)",
           "rgba(0,0,0,0.0)",
           "rgba(0,0,0,0.0)",
           "rgba(0,0,0,0.0)",
           "rgba(0,0,0,0.0)",
           "rgb(228, 26, 28)",
           "rgba(0,0,0,0.0)",
           "rgb(228, 26, 28)",
           "rgba(0,0,0,0.0)",
           "rgba(0,0,0,0.0)",
           "rgb(166, 86, 40)"
          ],
          "label": [
           "",
           "",
           "",
           "",
           "A7.6",
           "",
           "",
           "A0.8",
           "",
           "",
           "",
           "",
           "",
           "A0.13",
           "A6.1",
           "",
           "",
           "",
           "",
           "MLP 5",
           "A0.14",
           "",
           "",
           "",
           "",
           "",
           "",
           "A0.7",
           "A0.2",
           "",
           "",
           "",
           "",
           "A7.1",
           "A7.7",
           "",
           "",
           "",
           "",
           "",
           "",
           "",
           "",
           "A5.14",
           "",
           "MLP 2",
           "",
           "",
           "A0.3",
           "",
           "",
           "",
           "",
           "",
           "",
           "",
           "",
           "",
           "",
           "",
           "",
           "MLP 3",
           "",
           "",
           "",
           "Embed",
           "",
           "",
           "",
           "",
           "",
           "",
           "",
           "Unembed",
           "",
           "",
           "",
           "",
           "",
           "",
           "",
           "A0.6",
           "",
           "",
           "",
           "",
           "",
           "",
           "",
           "",
           "",
           "",
           "A7.11",
           "",
           "MLP 0",
           "",
           "",
           "",
           "",
           "",
           "",
           "",
           "A7.15",
           "",
           "",
           "",
           "A0.5",
           "",
           "",
           "A7.4",
           "",
           "",
           "",
           "",
           "",
           "",
           "",
           "A0.12",
           "",
           "",
           "",
           "",
           "",
           "",
           "MLP 4",
           "",
           "MLP 1",
           "",
           "",
           "",
           "",
           "",
           "A6.15",
           "",
           "MLP 7",
           "",
           "",
           "MLP 6"
          ],
          "line": {
           "width": 0
          }
         },
         "orientation": "v",
         "type": "sankey"
        }
       ],
       "layout": {
        "height": 700,
        "plot_bgcolor": "blue",
        "template": {
         "data": {
          "bar": [
           {
            "error_x": {
             "color": "#2a3f5f"
            },
            "error_y": {
             "color": "#2a3f5f"
            },
            "marker": {
             "line": {
              "color": "#E5ECF6",
              "width": 0.5
             },
             "pattern": {
              "fillmode": "overlay",
              "size": 10,
              "solidity": 0.2
             }
            },
            "type": "bar"
           }
          ],
          "barpolar": [
           {
            "marker": {
             "line": {
              "color": "#E5ECF6",
              "width": 0.5
             },
             "pattern": {
              "fillmode": "overlay",
              "size": 10,
              "solidity": 0.2
             }
            },
            "type": "barpolar"
           }
          ],
          "carpet": [
           {
            "aaxis": {
             "endlinecolor": "#2a3f5f",
             "gridcolor": "white",
             "linecolor": "white",
             "minorgridcolor": "white",
             "startlinecolor": "#2a3f5f"
            },
            "baxis": {
             "endlinecolor": "#2a3f5f",
             "gridcolor": "white",
             "linecolor": "white",
             "minorgridcolor": "white",
             "startlinecolor": "#2a3f5f"
            },
            "type": "carpet"
           }
          ],
          "choropleth": [
           {
            "colorbar": {
             "outlinewidth": 0,
             "ticks": ""
            },
            "type": "choropleth"
           }
          ],
          "contour": [
           {
            "colorbar": {
             "outlinewidth": 0,
             "ticks": ""
            },
            "colorscale": [
             [
              0,
              "#0d0887"
             ],
             [
              0.1111111111111111,
              "#46039f"
             ],
             [
              0.2222222222222222,
              "#7201a8"
             ],
             [
              0.3333333333333333,
              "#9c179e"
             ],
             [
              0.4444444444444444,
              "#bd3786"
             ],
             [
              0.5555555555555556,
              "#d8576b"
             ],
             [
              0.6666666666666666,
              "#ed7953"
             ],
             [
              0.7777777777777778,
              "#fb9f3a"
             ],
             [
              0.8888888888888888,
              "#fdca26"
             ],
             [
              1,
              "#f0f921"
             ]
            ],
            "type": "contour"
           }
          ],
          "contourcarpet": [
           {
            "colorbar": {
             "outlinewidth": 0,
             "ticks": ""
            },
            "type": "contourcarpet"
           }
          ],
          "heatmap": [
           {
            "colorbar": {
             "outlinewidth": 0,
             "ticks": ""
            },
            "colorscale": [
             [
              0,
              "#0d0887"
             ],
             [
              0.1111111111111111,
              "#46039f"
             ],
             [
              0.2222222222222222,
              "#7201a8"
             ],
             [
              0.3333333333333333,
              "#9c179e"
             ],
             [
              0.4444444444444444,
              "#bd3786"
             ],
             [
              0.5555555555555556,
              "#d8576b"
             ],
             [
              0.6666666666666666,
              "#ed7953"
             ],
             [
              0.7777777777777778,
              "#fb9f3a"
             ],
             [
              0.8888888888888888,
              "#fdca26"
             ],
             [
              1,
              "#f0f921"
             ]
            ],
            "type": "heatmap"
           }
          ],
          "heatmapgl": [
           {
            "colorbar": {
             "outlinewidth": 0,
             "ticks": ""
            },
            "colorscale": [
             [
              0,
              "#0d0887"
             ],
             [
              0.1111111111111111,
              "#46039f"
             ],
             [
              0.2222222222222222,
              "#7201a8"
             ],
             [
              0.3333333333333333,
              "#9c179e"
             ],
             [
              0.4444444444444444,
              "#bd3786"
             ],
             [
              0.5555555555555556,
              "#d8576b"
             ],
             [
              0.6666666666666666,
              "#ed7953"
             ],
             [
              0.7777777777777778,
              "#fb9f3a"
             ],
             [
              0.8888888888888888,
              "#fdca26"
             ],
             [
              1,
              "#f0f921"
             ]
            ],
            "type": "heatmapgl"
           }
          ],
          "histogram": [
           {
            "marker": {
             "pattern": {
              "fillmode": "overlay",
              "size": 10,
              "solidity": 0.2
             }
            },
            "type": "histogram"
           }
          ],
          "histogram2d": [
           {
            "colorbar": {
             "outlinewidth": 0,
             "ticks": ""
            },
            "colorscale": [
             [
              0,
              "#0d0887"
             ],
             [
              0.1111111111111111,
              "#46039f"
             ],
             [
              0.2222222222222222,
              "#7201a8"
             ],
             [
              0.3333333333333333,
              "#9c179e"
             ],
             [
              0.4444444444444444,
              "#bd3786"
             ],
             [
              0.5555555555555556,
              "#d8576b"
             ],
             [
              0.6666666666666666,
              "#ed7953"
             ],
             [
              0.7777777777777778,
              "#fb9f3a"
             ],
             [
              0.8888888888888888,
              "#fdca26"
             ],
             [
              1,
              "#f0f921"
             ]
            ],
            "type": "histogram2d"
           }
          ],
          "histogram2dcontour": [
           {
            "colorbar": {
             "outlinewidth": 0,
             "ticks": ""
            },
            "colorscale": [
             [
              0,
              "#0d0887"
             ],
             [
              0.1111111111111111,
              "#46039f"
             ],
             [
              0.2222222222222222,
              "#7201a8"
             ],
             [
              0.3333333333333333,
              "#9c179e"
             ],
             [
              0.4444444444444444,
              "#bd3786"
             ],
             [
              0.5555555555555556,
              "#d8576b"
             ],
             [
              0.6666666666666666,
              "#ed7953"
             ],
             [
              0.7777777777777778,
              "#fb9f3a"
             ],
             [
              0.8888888888888888,
              "#fdca26"
             ],
             [
              1,
              "#f0f921"
             ]
            ],
            "type": "histogram2dcontour"
           }
          ],
          "mesh3d": [
           {
            "colorbar": {
             "outlinewidth": 0,
             "ticks": ""
            },
            "type": "mesh3d"
           }
          ],
          "parcoords": [
           {
            "line": {
             "colorbar": {
              "outlinewidth": 0,
              "ticks": ""
             }
            },
            "type": "parcoords"
           }
          ],
          "pie": [
           {
            "automargin": true,
            "type": "pie"
           }
          ],
          "scatter": [
           {
            "fillpattern": {
             "fillmode": "overlay",
             "size": 10,
             "solidity": 0.2
            },
            "type": "scatter"
           }
          ],
          "scatter3d": [
           {
            "line": {
             "colorbar": {
              "outlinewidth": 0,
              "ticks": ""
             }
            },
            "marker": {
             "colorbar": {
              "outlinewidth": 0,
              "ticks": ""
             }
            },
            "type": "scatter3d"
           }
          ],
          "scattercarpet": [
           {
            "marker": {
             "colorbar": {
              "outlinewidth": 0,
              "ticks": ""
             }
            },
            "type": "scattercarpet"
           }
          ],
          "scattergeo": [
           {
            "marker": {
             "colorbar": {
              "outlinewidth": 0,
              "ticks": ""
             }
            },
            "type": "scattergeo"
           }
          ],
          "scattergl": [
           {
            "marker": {
             "colorbar": {
              "outlinewidth": 0,
              "ticks": ""
             }
            },
            "type": "scattergl"
           }
          ],
          "scattermapbox": [
           {
            "marker": {
             "colorbar": {
              "outlinewidth": 0,
              "ticks": ""
             }
            },
            "type": "scattermapbox"
           }
          ],
          "scatterpolar": [
           {
            "marker": {
             "colorbar": {
              "outlinewidth": 0,
              "ticks": ""
             }
            },
            "type": "scatterpolar"
           }
          ],
          "scatterpolargl": [
           {
            "marker": {
             "colorbar": {
              "outlinewidth": 0,
              "ticks": ""
             }
            },
            "type": "scatterpolargl"
           }
          ],
          "scatterternary": [
           {
            "marker": {
             "colorbar": {
              "outlinewidth": 0,
              "ticks": ""
             }
            },
            "type": "scatterternary"
           }
          ],
          "surface": [
           {
            "colorbar": {
             "outlinewidth": 0,
             "ticks": ""
            },
            "colorscale": [
             [
              0,
              "#0d0887"
             ],
             [
              0.1111111111111111,
              "#46039f"
             ],
             [
              0.2222222222222222,
              "#7201a8"
             ],
             [
              0.3333333333333333,
              "#9c179e"
             ],
             [
              0.4444444444444444,
              "#bd3786"
             ],
             [
              0.5555555555555556,
              "#d8576b"
             ],
             [
              0.6666666666666666,
              "#ed7953"
             ],
             [
              0.7777777777777778,
              "#fb9f3a"
             ],
             [
              0.8888888888888888,
              "#fdca26"
             ],
             [
              1,
              "#f0f921"
             ]
            ],
            "type": "surface"
           }
          ],
          "table": [
           {
            "cells": {
             "fill": {
              "color": "#EBF0F8"
             },
             "line": {
              "color": "white"
             }
            },
            "header": {
             "fill": {
              "color": "#C8D4E3"
             },
             "line": {
              "color": "white"
             }
            },
            "type": "table"
           }
          ]
         },
         "layout": {
          "annotationdefaults": {
           "arrowcolor": "#2a3f5f",
           "arrowhead": 0,
           "arrowwidth": 1
          },
          "autotypenumbers": "strict",
          "coloraxis": {
           "colorbar": {
            "outlinewidth": 0,
            "ticks": ""
           }
          },
          "colorscale": {
           "diverging": [
            [
             0,
             "#8e0152"
            ],
            [
             0.1,
             "#c51b7d"
            ],
            [
             0.2,
             "#de77ae"
            ],
            [
             0.3,
             "#f1b6da"
            ],
            [
             0.4,
             "#fde0ef"
            ],
            [
             0.5,
             "#f7f7f7"
            ],
            [
             0.6,
             "#e6f5d0"
            ],
            [
             0.7,
             "#b8e186"
            ],
            [
             0.8,
             "#7fbc41"
            ],
            [
             0.9,
             "#4d9221"
            ],
            [
             1,
             "#276419"
            ]
           ],
           "sequential": [
            [
             0,
             "#0d0887"
            ],
            [
             0.1111111111111111,
             "#46039f"
            ],
            [
             0.2222222222222222,
             "#7201a8"
            ],
            [
             0.3333333333333333,
             "#9c179e"
            ],
            [
             0.4444444444444444,
             "#bd3786"
            ],
            [
             0.5555555555555556,
             "#d8576b"
            ],
            [
             0.6666666666666666,
             "#ed7953"
            ],
            [
             0.7777777777777778,
             "#fb9f3a"
            ],
            [
             0.8888888888888888,
             "#fdca26"
            ],
            [
             1,
             "#f0f921"
            ]
           ],
           "sequentialminus": [
            [
             0,
             "#0d0887"
            ],
            [
             0.1111111111111111,
             "#46039f"
            ],
            [
             0.2222222222222222,
             "#7201a8"
            ],
            [
             0.3333333333333333,
             "#9c179e"
            ],
            [
             0.4444444444444444,
             "#bd3786"
            ],
            [
             0.5555555555555556,
             "#d8576b"
            ],
            [
             0.6666666666666666,
             "#ed7953"
            ],
            [
             0.7777777777777778,
             "#fb9f3a"
            ],
            [
             0.8888888888888888,
             "#fdca26"
            ],
            [
             1,
             "#f0f921"
            ]
           ]
          },
          "colorway": [
           "rgb(55, 126, 184)",
           "rgb(255, 127, 0)",
           "rgb(77, 175, 74)",
           "rgb(247, 129, 191)",
           "rgb(228, 26, 28)",
           "rgb(152, 78, 163)",
           "rgb(166, 86, 40)",
           "rgb(153, 153, 153)",
           "rgb(222, 222, 0)"
          ],
          "font": {
           "color": "#2a3f5f",
           "size": 19
          },
          "geo": {
           "bgcolor": "white",
           "lakecolor": "white",
           "landcolor": "#E5ECF6",
           "showlakes": true,
           "showland": true,
           "subunitcolor": "white"
          },
          "hoverlabel": {
           "align": "left"
          },
          "hovermode": "closest",
          "mapbox": {
           "style": "light"
          },
          "paper_bgcolor": "white",
          "plot_bgcolor": "#E5ECF6",
          "polar": {
           "angularaxis": {
            "gridcolor": "white",
            "linecolor": "white",
            "ticks": ""
           },
           "bgcolor": "#E5ECF6",
           "radialaxis": {
            "gridcolor": "white",
            "linecolor": "white",
            "ticks": ""
           }
          },
          "scene": {
           "xaxis": {
            "backgroundcolor": "#E5ECF6",
            "gridcolor": "white",
            "gridwidth": 2,
            "linecolor": "white",
            "showbackground": true,
            "ticks": "",
            "zerolinecolor": "white"
           },
           "yaxis": {
            "backgroundcolor": "#E5ECF6",
            "gridcolor": "white",
            "gridwidth": 2,
            "linecolor": "white",
            "showbackground": true,
            "ticks": "",
            "zerolinecolor": "white"
           },
           "zaxis": {
            "backgroundcolor": "#E5ECF6",
            "gridcolor": "white",
            "gridwidth": 2,
            "linecolor": "white",
            "showbackground": true,
            "ticks": "",
            "zerolinecolor": "white"
           }
          },
          "shapedefaults": {
           "line": {
            "color": "#2a3f5f"
           }
          },
          "ternary": {
           "aaxis": {
            "gridcolor": "white",
            "linecolor": "white",
            "ticks": ""
           },
           "baxis": {
            "gridcolor": "white",
            "linecolor": "white",
            "ticks": ""
           },
           "bgcolor": "#E5ECF6",
           "caxis": {
            "gridcolor": "white",
            "linecolor": "white",
            "ticks": ""
           }
          },
          "title": {
           "x": 0.05
          },
          "xaxis": {
           "automargin": true,
           "gridcolor": "white",
           "linecolor": "white",
           "ticks": "",
           "title": {
            "standoff": 15
           },
           "zerolinecolor": "white",
           "zerolinewidth": 2
          },
          "yaxis": {
           "automargin": true,
           "gridcolor": "white",
           "linecolor": "white",
           "ticks": "",
           "title": {
            "standoff": 15
           },
           "zerolinecolor": "white",
           "zerolinewidth": 2
          }
         }
        },
        "width": 800
       }
      },
      "text/html": [
       "<div>                            <div id=\"2ce6e3bc-df60-4ed9-8eb6-e3a0aca4cbb1\" class=\"plotly-graph-div\" style=\"height:700px; width:800px;\"></div>            <script type=\"text/javascript\">                require([\"plotly\"], function(Plotly) {                    window.PLOTLYENV=window.PLOTLYENV || {};                                    if (document.getElementById(\"2ce6e3bc-df60-4ed9-8eb6-e3a0aca4cbb1\")) {                    Plotly.newPlot(                        \"2ce6e3bc-df60-4ed9-8eb6-e3a0aca4cbb1\",                        [{\"arrangement\":\"perpendicular\",\"domain\":{\"y\":[0,1]},\"link\":{\"arrowlen\":25,\"color\":[\"rgba(0,0,255,0.3)\",\"rgba(0,0,255,0.3)\",\"rgba(0,0,255,0.3)\",\"rgba(0,0,255,0.3)\",\"rgba(0,0,255,0.3)\",\"rgba(0,0,255,0.3)\",\"rgba(0,0,255,0.3)\",\"rgba(0,0,255,0.3)\",\"rgba(0,0,255,0.3)\",\"rgba(0,0,255,0.3)\",\"rgba(0,0,255,0.3)\",\"rgba(0,0,255,0.3)\",\"rgba(0,0,255,0.3)\",\"rgba(0,0,255,0.3)\",\"rgba(0,0,255,0.3)\",\"rgba(0,0,255,0.3)\",\"rgba(0,0,255,0.3)\",\"rgba(0,0,255,0.3)\",\"rgba(0,0,255,0.3)\",\"rgba(0,0,255,0.3)\",\"rgba(0,0,255,0.3)\",\"rgba(0,0,255,0.3)\",\"rgba(0,0,255,0.3)\",\"rgba(0,0,255,0.3)\",\"rgba(0,0,255,0.3)\",\"rgba(0,0,255,0.3)\",\"rgba(0,0,255,0.3)\",\"rgba(0,0,255,0.3)\",\"rgba(0,0,255,0.3)\",\"rgba(0,0,255,0.3)\",\"rgba(0,0,255,0.3)\",\"rgba(0,0,255,0.3)\",\"rgba(0,0,255,0.3)\",\"rgba(0,0,255,0.3)\",\"rgba(0,0,255,0.3)\",\"rgba(0,0,255,0.3)\",\"rgba(0,0,255,0.3)\",\"rgba(0,0,255,0.3)\",\"rgba(0,0,255,0.3)\",\"rgba(0,0,255,0.3)\",\"rgba(0,0,255,0.3)\",\"rgba(0,0,255,0.3)\",\"rgba(0,0,255,0.3)\",\"rgba(0,0,255,0.3)\",\"rgba(0,0,255,0.3)\",\"rgba(0,0,255,0.3)\",\"rgba(0,0,255,0.3)\",\"rgba(0,0,255,0.3)\",\"rgba(0,0,255,0.3)\",\"rgba(0,0,255,0.3)\",\"rgba(0,0,255,0.3)\",\"rgba(0,0,255,0.3)\",\"rgba(0,0,255,0.3)\",\"rgba(0,0,255,0.3)\",\"rgba(0,0,255,0.3)\",\"rgba(0,0,255,0.3)\",\"rgba(0,0,255,0.3)\",\"rgba(0,0,255,0.3)\",\"rgba(0,0,255,0.3)\",\"rgba(0,0,255,0.3)\",\"rgba(0,0,255,0.3)\",\"rgba(0,0,255,0.3)\",\"rgba(0,0,255,0.3)\",\"rgba(0,0,255,0.3)\",\"rgba(0,0,255,0.3)\",\"rgba(0,0,255,0.3)\",\"rgba(0,0,255,0.3)\",\"rgba(0,0,255,0.3)\"],\"label\":[\"A0.7-\\u003eMLP 0\\u003cbr\\u003eNone\\u003cbr\\u003e1.00\",\"A7.4-\\u003eResid End\\u003cbr\\u003eNone\\u003cbr\\u003e1.00\",\"A7.15-\\u003eMLP 7\\u003cbr\\u003eNone\\u003cbr\\u003e1.00\",\"Resid Start-\\u003eA0.5.Q\\u003cbr\\u003eNone\\u003cbr\\u003e1.00\",\"Resid Start-\\u003eA0.8.Q\\u003cbr\\u003eNone\\u003cbr\\u003e1.00\",\"A7.4-\\u003eMLP 7\\u003cbr\\u003eNone\\u003cbr\\u003e1.00\",\"MLP 3-\\u003eA6.15.V\\u003cbr\\u003eNone\\u003cbr\\u003e1.00\",\"A7.11-\\u003eResid End\\u003cbr\\u003eNone\\u003cbr\\u003e1.00\",\"A0.14-\\u003eMLP 0\\u003cbr\\u003eNone\\u003cbr\\u003e1.00\",\"MLP 6-\\u003eResid End\\u003cbr\\u003eNone\\u003cbr\\u003e1.00\",\"MLP 0-\\u003eMLP 6\\u003cbr\\u003eNone\\u003cbr\\u003e1.00\",\"MLP 0-\\u003eA7.7.K\\u003cbr\\u003eNone\\u003cbr\\u003e1.00\",\"MLP 3-\\u003eA6.1.V\\u003cbr\\u003eNone\\u003cbr\\u003e1.00\",\"Resid Start-\\u003eA0.6.Q\\u003cbr\\u003eNone\\u003cbr\\u003e1.00\",\"MLP 6-\\u003eA7.4.K\\u003cbr\\u003eNone\\u003cbr\\u003e1.00\",\"A0.5-\\u003eMLP 0\\u003cbr\\u003eNone\\u003cbr\\u003e1.00\",\"A0.13-\\u003eMLP 0\\u003cbr\\u003eNone\\u003cbr\\u003e1.00\",\"Resid Start-\\u003eMLP 0\\u003cbr\\u003eNone\\u003cbr\\u003e1.00\",\"MLP 1-\\u003eA7.7.V\\u003cbr\\u003eNone\\u003cbr\\u003e1.00\",\"A0.8-\\u003eMLP 0\\u003cbr\\u003eNone\\u003cbr\\u003e1.00\",\"A6.15-\\u003eA7.7.Q\\u003cbr\\u003eNone\\u003cbr\\u003e1.00\",\"MLP 0-\\u003eMLP 4\\u003cbr\\u003eNone\\u003cbr\\u003e1.00\",\"A7.15-\\u003eResid End\\u003cbr\\u003eNone\\u003cbr\\u003e1.00\",\"MLP 3-\\u003eA7.7.V\\u003cbr\\u003eNone\\u003cbr\\u003e1.00\",\"MLP 6-\\u003eA7.7.V\\u003cbr\\u003eNone\\u003cbr\\u003e1.00\",\"A7.7-\\u003eResid End\\u003cbr\\u003eNone\\u003cbr\\u003e1.00\",\"MLP 4-\\u003eA7.7.V\\u003cbr\\u003eNone\\u003cbr\\u003e1.00\",\"A0.3-\\u003eMLP 0\\u003cbr\\u003eNone\\u003cbr\\u003e1.00\",\"MLP 5-\\u003eA7.7.K\\u003cbr\\u003eNone\\u003cbr\\u003e1.00\",\"MLP 0-\\u003eMLP 1\\u003cbr\\u003eNone\\u003cbr\\u003e1.00\",\"MLP 3-\\u003eA7.7.K\\u003cbr\\u003eNone\\u003cbr\\u003e1.00\",\"MLP 5-\\u003eA6.15.V\\u003cbr\\u003eNone\\u003cbr\\u003e1.00\",\"A0.2-\\u003eMLP 0\\u003cbr\\u003eNone\\u003cbr\\u003e1.00\",\"A5.14-\\u003eA7.7.K\\u003cbr\\u003eNone\\u003cbr\\u003e1.00\",\"MLP 0-\\u003eA7.4.V\\u003cbr\\u003eNone\\u003cbr\\u003e1.00\",\"MLP 3-\\u003eMLP 5\\u003cbr\\u003eNone\\u003cbr\\u003e1.00\",\"MLP 7-\\u003eResid End\\u003cbr\\u003eNone\\u003cbr\\u003e1.00\",\"MLP 0-\\u003eA7.7.V\\u003cbr\\u003eNone\\u003cbr\\u003e1.00\",\"MLP 5-\\u003eA7.15.V\\u003cbr\\u003eNone\\u003cbr\\u003e1.00\",\"MLP 4-\\u003eMLP 5\\u003cbr\\u003eNone\\u003cbr\\u003e1.00\",\"A7.7-\\u003eMLP 7\\u003cbr\\u003eNone\\u003cbr\\u003e1.00\",\"MLP 0-\\u003eMLP 3\\u003cbr\\u003eNone\\u003cbr\\u003e1.00\",\"MLP 5-\\u003eA6.1.V\\u003cbr\\u003eNone\\u003cbr\\u003e1.00\",\"MLP 2-\\u003eA7.7.V\\u003cbr\\u003eNone\\u003cbr\\u003e1.00\",\"Resid Start-\\u003eA0.13.Q\\u003cbr\\u003eNone\\u003cbr\\u003e1.00\",\"A0.6-\\u003eMLP 0\\u003cbr\\u003eNone\\u003cbr\\u003e1.00\",\"MLP 0-\\u003eA6.1.K\\u003cbr\\u003eNone\\u003cbr\\u003e1.00\",\"A6.1-\\u003eResid End\\u003cbr\\u003eNone\\u003cbr\\u003e1.00\",\"MLP 0-\\u003eA7.11.V\\u003cbr\\u003eNone\\u003cbr\\u003e1.00\",\"MLP 2-\\u003eA7.7.K\\u003cbr\\u003eNone\\u003cbr\\u003e1.00\",\"A0.2-\\u003eMLP 3\\u003cbr\\u003eNone\\u003cbr\\u003e1.00\",\"MLP 0-\\u003eMLP 5\\u003cbr\\u003eNone\\u003cbr\\u003e1.00\",\"Resid Start-\\u003eA0.12.Q\\u003cbr\\u003eNone\\u003cbr\\u003e1.00\",\"A6.1-\\u003eMLP 7\\u003cbr\\u003eNone\\u003cbr\\u003e1.00\",\"MLP 0-\\u003eMLP 2\\u003cbr\\u003eNone\\u003cbr\\u003e1.00\",\"MLP 5-\\u003eA7.7.V\\u003cbr\\u003eNone\\u003cbr\\u003e1.00\",\"MLP 2-\\u003eMLP 5\\u003cbr\\u003eNone\\u003cbr\\u003e1.00\",\"Resid Start-\\u003eA0.14.Q\\u003cbr\\u003eNone\\u003cbr\\u003e1.00\",\"Resid Start-\\u003eA0.7.Q\\u003cbr\\u003eNone\\u003cbr\\u003e1.00\",\"A7.1-\\u003eResid End\\u003cbr\\u003eNone\\u003cbr\\u003e1.00\",\"A0.5-\\u003eMLP 2\\u003cbr\\u003eNone\\u003cbr\\u003e1.00\",\"MLP 0-\\u003eA6.15.V\\u003cbr\\u003eNone\\u003cbr\\u003e1.00\",\"Resid Start-\\u003eA0.2.Q\\u003cbr\\u003eNone\\u003cbr\\u003e1.00\",\"A6.15-\\u003eResid End\\u003cbr\\u003eNone\\u003cbr\\u003e1.00\",\"A0.12-\\u003eMLP 0\\u003cbr\\u003eNone\\u003cbr\\u003e1.00\",\"A7.6-\\u003eResid End\\u003cbr\\u003eNone\\u003cbr\\u003e1.00\",\"Resid Start-\\u003eA0.3.Q\\u003cbr\\u003eNone\\u003cbr\\u003e1.00\",\"A6.15-\\u003eMLP 7\\u003cbr\\u003eNone\\u003cbr\\u003e1.00\"],\"source\":[27,109,102,65,65,109,61,92,20,137,94,94,61,65,137,106,13,65,126,7,132,94,102,61,137,34,124,48,19,94,61,19,28,43,94,61,134,94,19,124,34,94,19,45,65,81,94,14,94,45,28,94,65,14,94,19,45,65,65,33,106,94,65,132,117,4,65,132],\"target\":[94,73,134,106,7,134,132,73,94,73,137,34,14,81,109,94,94,94,34,94,34,124,73,34,34,73,34,94,34,126,34,132,94,34,109,19,73,34,102,19,134,61,14,34,13,94,14,73,92,34,61,19,117,134,45,34,19,20,27,73,45,132,28,73,94,73,48,134],\"value\":[1.0,1.0,1.0,1.0,1.0,1.0,1.0,1.0,1.0,1.0,1.0,1.0,1.0,1.0,1.0,1.0,1.0,1.0,1.0,1.0,1.0,1.0,1.0,1.0,1.0,1.0,1.0,1.0,1.0,1.0,1.0,1.0,1.0,1.0,1.0,1.0,1.0,1.0,1.0,1.0,1.0,1.0,1.0,1.0,1.0,1.0,1.0,1.0,1.0,1.0,1.0,1.0,1.0,1.0,1.0,1.0,1.0,1.0,1.0,1.0,1.0,1.0,1.0,1.0,1.0,1.0,1.0,1.0]},\"node\":{\"color\":[\"rgba(0,0,0,0.0)\",\"rgba(0,0,0,0.0)\",\"rgba(0,0,0,0.0)\",\"rgba(0,0,0,0.0)\",\"rgb(77, 175, 74)\",\"rgba(0,0,0,0.0)\",\"rgba(0,0,0,0.0)\",\"rgb(255, 127, 0)\",\"rgba(0,0,0,0.0)\",\"rgba(0,0,0,0.0)\",\"rgba(0,0,0,0.0)\",\"rgba(0,0,0,0.0)\",\"rgba(0,0,0,0.0)\",\"rgb(222, 222, 0)\",\"rgb(222, 222, 0)\",\"rgba(0,0,0,0.0)\",\"rgba(0,0,0,0.0)\",\"rgba(0,0,0,0.0)\",\"rgba(0,0,0,0.0)\",\"rgb(77, 175, 74)\",\"rgb(247, 129, 191)\",\"rgba(0,0,0,0.0)\",\"rgba(0,0,0,0.0)\",\"rgba(0,0,0,0.0)\",\"rgba(0,0,0,0.0)\",\"rgba(0,0,0,0.0)\",\"rgba(0,0,0,0.0)\",\"rgb(228, 26, 28)\",\"rgb(222, 222, 0)\",\"rgba(0,0,0,0.0)\",\"rgba(0,0,0,0.0)\",\"rgba(0,0,0,0.0)\",\"rgba(0,0,0,0.0)\",\"rgb(152, 78, 163)\",\"rgb(255, 127, 0)\",\"rgba(0,0,0,0.0)\",\"rgba(0,0,0,0.0)\",\"rgba(0,0,0,0.0)\",\"rgba(0,0,0,0.0)\",\"rgba(0,0,0,0.0)\",\"rgba(0,0,0,0.0)\",\"rgba(0,0,0,0.0)\",\"rgba(0,0,0,0.0)\",\"rgb(166, 86, 40)\",\"rgba(0,0,0,0.0)\",\"rgb(166, 86, 40)\",\"rgba(0,0,0,0.0)\",\"rgba(0,0,0,0.0)\",\"rgb(247, 129, 191)\",\"rgba(0,0,0,0.0)\",\"rgba(0,0,0,0.0)\",\"rgba(0,0,0,0.0)\",\"rgba(0,0,0,0.0)\",\"rgba(0,0,0,0.0)\",\"rgba(0,0,0,0.0)\",\"rgba(0,0,0,0.0)\",\"rgba(0,0,0,0.0)\",\"rgba(0,0,0,0.0)\",\"rgba(0,0,0,0.0)\",\"rgba(0,0,0,0.0)\",\"rgba(0,0,0,0.0)\",\"rgb(152, 78, 163)\",\"rgba(0,0,0,0.0)\",\"rgba(0,0,0,0.0)\",\"rgba(0,0,0,0.0)\",\"rgb(247, 129, 191)\",\"rgba(0,0,0,0.0)\",\"rgba(0,0,0,0.0)\",\"rgba(0,0,0,0.0)\",\"rgba(0,0,0,0.0)\",\"rgba(0,0,0,0.0)\",\"rgba(0,0,0,0.0)\",\"rgba(0,0,0,0.0)\",\"rgb(77, 175, 74)\",\"rgba(0,0,0,0.0)\",\"rgba(0,0,0,0.0)\",\"rgba(0,0,0,0.0)\",\"rgba(0,0,0,0.0)\",\"rgba(0,0,0,0.0)\",\"rgba(0,0,0,0.0)\",\"rgba(0,0,0,0.0)\",\"rgb(55, 126, 184)\",\"rgba(0,0,0,0.0)\",\"rgba(0,0,0,0.0)\",\"rgba(0,0,0,0.0)\",\"rgba(0,0,0,0.0)\",\"rgba(0,0,0,0.0)\",\"rgba(0,0,0,0.0)\",\"rgba(0,0,0,0.0)\",\"rgba(0,0,0,0.0)\",\"rgba(0,0,0,0.0)\",\"rgba(0,0,0,0.0)\",\"rgb(247, 129, 191)\",\"rgba(0,0,0,0.0)\",\"rgb(255, 127, 0)\",\"rgba(0,0,0,0.0)\",\"rgba(0,0,0,0.0)\",\"rgba(0,0,0,0.0)\",\"rgba(0,0,0,0.0)\",\"rgba(0,0,0,0.0)\",\"rgba(0,0,0,0.0)\",\"rgba(0,0,0,0.0)\",\"rgb(77, 175, 74)\",\"rgba(0,0,0,0.0)\",\"rgba(0,0,0,0.0)\",\"rgba(0,0,0,0.0)\",\"rgb(166, 86, 40)\",\"rgba(0,0,0,0.0)\",\"rgba(0,0,0,0.0)\",\"rgb(153, 153, 153)\",\"rgba(0,0,0,0.0)\",\"rgba(0,0,0,0.0)\",\"rgba(0,0,0,0.0)\",\"rgba(0,0,0,0.0)\",\"rgba(0,0,0,0.0)\",\"rgba(0,0,0,0.0)\",\"rgba(0,0,0,0.0)\",\"rgb(255, 127, 0)\",\"rgba(0,0,0,0.0)\",\"rgba(0,0,0,0.0)\",\"rgba(0,0,0,0.0)\",\"rgba(0,0,0,0.0)\",\"rgba(0,0,0,0.0)\",\"rgba(0,0,0,0.0)\",\"rgb(247, 129, 191)\",\"rgba(0,0,0,0.0)\",\"rgb(77, 175, 74)\",\"rgba(0,0,0,0.0)\",\"rgba(0,0,0,0.0)\",\"rgba(0,0,0,0.0)\",\"rgba(0,0,0,0.0)\",\"rgba(0,0,0,0.0)\",\"rgb(228, 26, 28)\",\"rgba(0,0,0,0.0)\",\"rgb(228, 26, 28)\",\"rgba(0,0,0,0.0)\",\"rgba(0,0,0,0.0)\",\"rgb(166, 86, 40)\"],\"label\":[\"\",\"\",\"\",\"\",\"A7.6\",\"\",\"\",\"A0.8\",\"\",\"\",\"\",\"\",\"\",\"A0.13\",\"A6.1\",\"\",\"\",\"\",\"\",\"MLP 5\",\"A0.14\",\"\",\"\",\"\",\"\",\"\",\"\",\"A0.7\",\"A0.2\",\"\",\"\",\"\",\"\",\"A7.1\",\"A7.7\",\"\",\"\",\"\",\"\",\"\",\"\",\"\",\"\",\"A5.14\",\"\",\"MLP 2\",\"\",\"\",\"A0.3\",\"\",\"\",\"\",\"\",\"\",\"\",\"\",\"\",\"\",\"\",\"\",\"\",\"MLP 3\",\"\",\"\",\"\",\"Embed\",\"\",\"\",\"\",\"\",\"\",\"\",\"\",\"Unembed\",\"\",\"\",\"\",\"\",\"\",\"\",\"\",\"A0.6\",\"\",\"\",\"\",\"\",\"\",\"\",\"\",\"\",\"\",\"\",\"A7.11\",\"\",\"MLP 0\",\"\",\"\",\"\",\"\",\"\",\"\",\"\",\"A7.15\",\"\",\"\",\"\",\"A0.5\",\"\",\"\",\"A7.4\",\"\",\"\",\"\",\"\",\"\",\"\",\"\",\"A0.12\",\"\",\"\",\"\",\"\",\"\",\"\",\"MLP 4\",\"\",\"MLP 1\",\"\",\"\",\"\",\"\",\"\",\"A6.15\",\"\",\"MLP 7\",\"\",\"\",\"MLP 6\"],\"line\":{\"width\":0.0}},\"orientation\":\"v\",\"type\":\"sankey\"}],                        {\"height\":700,\"plot_bgcolor\":\"blue\",\"width\":800,\"template\":{\"data\":{\"histogram2dcontour\":[{\"type\":\"histogram2dcontour\",\"colorbar\":{\"outlinewidth\":0,\"ticks\":\"\"},\"colorscale\":[[0.0,\"#0d0887\"],[0.1111111111111111,\"#46039f\"],[0.2222222222222222,\"#7201a8\"],[0.3333333333333333,\"#9c179e\"],[0.4444444444444444,\"#bd3786\"],[0.5555555555555556,\"#d8576b\"],[0.6666666666666666,\"#ed7953\"],[0.7777777777777778,\"#fb9f3a\"],[0.8888888888888888,\"#fdca26\"],[1.0,\"#f0f921\"]]}],\"choropleth\":[{\"type\":\"choropleth\",\"colorbar\":{\"outlinewidth\":0,\"ticks\":\"\"}}],\"histogram2d\":[{\"type\":\"histogram2d\",\"colorbar\":{\"outlinewidth\":0,\"ticks\":\"\"},\"colorscale\":[[0.0,\"#0d0887\"],[0.1111111111111111,\"#46039f\"],[0.2222222222222222,\"#7201a8\"],[0.3333333333333333,\"#9c179e\"],[0.4444444444444444,\"#bd3786\"],[0.5555555555555556,\"#d8576b\"],[0.6666666666666666,\"#ed7953\"],[0.7777777777777778,\"#fb9f3a\"],[0.8888888888888888,\"#fdca26\"],[1.0,\"#f0f921\"]]}],\"heatmap\":[{\"type\":\"heatmap\",\"colorbar\":{\"outlinewidth\":0,\"ticks\":\"\"},\"colorscale\":[[0.0,\"#0d0887\"],[0.1111111111111111,\"#46039f\"],[0.2222222222222222,\"#7201a8\"],[0.3333333333333333,\"#9c179e\"],[0.4444444444444444,\"#bd3786\"],[0.5555555555555556,\"#d8576b\"],[0.6666666666666666,\"#ed7953\"],[0.7777777777777778,\"#fb9f3a\"],[0.8888888888888888,\"#fdca26\"],[1.0,\"#f0f921\"]]}],\"heatmapgl\":[{\"type\":\"heatmapgl\",\"colorbar\":{\"outlinewidth\":0,\"ticks\":\"\"},\"colorscale\":[[0.0,\"#0d0887\"],[0.1111111111111111,\"#46039f\"],[0.2222222222222222,\"#7201a8\"],[0.3333333333333333,\"#9c179e\"],[0.4444444444444444,\"#bd3786\"],[0.5555555555555556,\"#d8576b\"],[0.6666666666666666,\"#ed7953\"],[0.7777777777777778,\"#fb9f3a\"],[0.8888888888888888,\"#fdca26\"],[1.0,\"#f0f921\"]]}],\"contourcarpet\":[{\"type\":\"contourcarpet\",\"colorbar\":{\"outlinewidth\":0,\"ticks\":\"\"}}],\"contour\":[{\"type\":\"contour\",\"colorbar\":{\"outlinewidth\":0,\"ticks\":\"\"},\"colorscale\":[[0.0,\"#0d0887\"],[0.1111111111111111,\"#46039f\"],[0.2222222222222222,\"#7201a8\"],[0.3333333333333333,\"#9c179e\"],[0.4444444444444444,\"#bd3786\"],[0.5555555555555556,\"#d8576b\"],[0.6666666666666666,\"#ed7953\"],[0.7777777777777778,\"#fb9f3a\"],[0.8888888888888888,\"#fdca26\"],[1.0,\"#f0f921\"]]}],\"surface\":[{\"type\":\"surface\",\"colorbar\":{\"outlinewidth\":0,\"ticks\":\"\"},\"colorscale\":[[0.0,\"#0d0887\"],[0.1111111111111111,\"#46039f\"],[0.2222222222222222,\"#7201a8\"],[0.3333333333333333,\"#9c179e\"],[0.4444444444444444,\"#bd3786\"],[0.5555555555555556,\"#d8576b\"],[0.6666666666666666,\"#ed7953\"],[0.7777777777777778,\"#fb9f3a\"],[0.8888888888888888,\"#fdca26\"],[1.0,\"#f0f921\"]]}],\"mesh3d\":[{\"type\":\"mesh3d\",\"colorbar\":{\"outlinewidth\":0,\"ticks\":\"\"}}],\"scatter\":[{\"fillpattern\":{\"fillmode\":\"overlay\",\"size\":10,\"solidity\":0.2},\"type\":\"scatter\"}],\"parcoords\":[{\"type\":\"parcoords\",\"line\":{\"colorbar\":{\"outlinewidth\":0,\"ticks\":\"\"}}}],\"scatterpolargl\":[{\"type\":\"scatterpolargl\",\"marker\":{\"colorbar\":{\"outlinewidth\":0,\"ticks\":\"\"}}}],\"bar\":[{\"error_x\":{\"color\":\"#2a3f5f\"},\"error_y\":{\"color\":\"#2a3f5f\"},\"marker\":{\"line\":{\"color\":\"#E5ECF6\",\"width\":0.5},\"pattern\":{\"fillmode\":\"overlay\",\"size\":10,\"solidity\":0.2}},\"type\":\"bar\"}],\"scattergeo\":[{\"type\":\"scattergeo\",\"marker\":{\"colorbar\":{\"outlinewidth\":0,\"ticks\":\"\"}}}],\"scatterpolar\":[{\"type\":\"scatterpolar\",\"marker\":{\"colorbar\":{\"outlinewidth\":0,\"ticks\":\"\"}}}],\"histogram\":[{\"marker\":{\"pattern\":{\"fillmode\":\"overlay\",\"size\":10,\"solidity\":0.2}},\"type\":\"histogram\"}],\"scattergl\":[{\"type\":\"scattergl\",\"marker\":{\"colorbar\":{\"outlinewidth\":0,\"ticks\":\"\"}}}],\"scatter3d\":[{\"type\":\"scatter3d\",\"line\":{\"colorbar\":{\"outlinewidth\":0,\"ticks\":\"\"}},\"marker\":{\"colorbar\":{\"outlinewidth\":0,\"ticks\":\"\"}}}],\"scattermapbox\":[{\"type\":\"scattermapbox\",\"marker\":{\"colorbar\":{\"outlinewidth\":0,\"ticks\":\"\"}}}],\"scatterternary\":[{\"type\":\"scatterternary\",\"marker\":{\"colorbar\":{\"outlinewidth\":0,\"ticks\":\"\"}}}],\"scattercarpet\":[{\"type\":\"scattercarpet\",\"marker\":{\"colorbar\":{\"outlinewidth\":0,\"ticks\":\"\"}}}],\"carpet\":[{\"aaxis\":{\"endlinecolor\":\"#2a3f5f\",\"gridcolor\":\"white\",\"linecolor\":\"white\",\"minorgridcolor\":\"white\",\"startlinecolor\":\"#2a3f5f\"},\"baxis\":{\"endlinecolor\":\"#2a3f5f\",\"gridcolor\":\"white\",\"linecolor\":\"white\",\"minorgridcolor\":\"white\",\"startlinecolor\":\"#2a3f5f\"},\"type\":\"carpet\"}],\"table\":[{\"cells\":{\"fill\":{\"color\":\"#EBF0F8\"},\"line\":{\"color\":\"white\"}},\"header\":{\"fill\":{\"color\":\"#C8D4E3\"},\"line\":{\"color\":\"white\"}},\"type\":\"table\"}],\"barpolar\":[{\"marker\":{\"line\":{\"color\":\"#E5ECF6\",\"width\":0.5},\"pattern\":{\"fillmode\":\"overlay\",\"size\":10,\"solidity\":0.2}},\"type\":\"barpolar\"}],\"pie\":[{\"automargin\":true,\"type\":\"pie\"}]},\"layout\":{\"autotypenumbers\":\"strict\",\"colorway\":[\"rgb(55, 126, 184)\",\"rgb(255, 127, 0)\",\"rgb(77, 175, 74)\",\"rgb(247, 129, 191)\",\"rgb(228, 26, 28)\",\"rgb(152, 78, 163)\",\"rgb(166, 86, 40)\",\"rgb(153, 153, 153)\",\"rgb(222, 222, 0)\"],\"font\":{\"color\":\"#2a3f5f\",\"size\":19},\"hovermode\":\"closest\",\"hoverlabel\":{\"align\":\"left\"},\"paper_bgcolor\":\"white\",\"plot_bgcolor\":\"#E5ECF6\",\"polar\":{\"bgcolor\":\"#E5ECF6\",\"angularaxis\":{\"gridcolor\":\"white\",\"linecolor\":\"white\",\"ticks\":\"\"},\"radialaxis\":{\"gridcolor\":\"white\",\"linecolor\":\"white\",\"ticks\":\"\"}},\"ternary\":{\"bgcolor\":\"#E5ECF6\",\"aaxis\":{\"gridcolor\":\"white\",\"linecolor\":\"white\",\"ticks\":\"\"},\"baxis\":{\"gridcolor\":\"white\",\"linecolor\":\"white\",\"ticks\":\"\"},\"caxis\":{\"gridcolor\":\"white\",\"linecolor\":\"white\",\"ticks\":\"\"}},\"coloraxis\":{\"colorbar\":{\"outlinewidth\":0,\"ticks\":\"\"}},\"colorscale\":{\"sequential\":[[0.0,\"#0d0887\"],[0.1111111111111111,\"#46039f\"],[0.2222222222222222,\"#7201a8\"],[0.3333333333333333,\"#9c179e\"],[0.4444444444444444,\"#bd3786\"],[0.5555555555555556,\"#d8576b\"],[0.6666666666666666,\"#ed7953\"],[0.7777777777777778,\"#fb9f3a\"],[0.8888888888888888,\"#fdca26\"],[1.0,\"#f0f921\"]],\"sequentialminus\":[[0.0,\"#0d0887\"],[0.1111111111111111,\"#46039f\"],[0.2222222222222222,\"#7201a8\"],[0.3333333333333333,\"#9c179e\"],[0.4444444444444444,\"#bd3786\"],[0.5555555555555556,\"#d8576b\"],[0.6666666666666666,\"#ed7953\"],[0.7777777777777778,\"#fb9f3a\"],[0.8888888888888888,\"#fdca26\"],[1.0,\"#f0f921\"]],\"diverging\":[[0,\"#8e0152\"],[0.1,\"#c51b7d\"],[0.2,\"#de77ae\"],[0.3,\"#f1b6da\"],[0.4,\"#fde0ef\"],[0.5,\"#f7f7f7\"],[0.6,\"#e6f5d0\"],[0.7,\"#b8e186\"],[0.8,\"#7fbc41\"],[0.9,\"#4d9221\"],[1,\"#276419\"]]},\"xaxis\":{\"gridcolor\":\"white\",\"linecolor\":\"white\",\"ticks\":\"\",\"title\":{\"standoff\":15},\"zerolinecolor\":\"white\",\"automargin\":true,\"zerolinewidth\":2},\"yaxis\":{\"gridcolor\":\"white\",\"linecolor\":\"white\",\"ticks\":\"\",\"title\":{\"standoff\":15},\"zerolinecolor\":\"white\",\"automargin\":true,\"zerolinewidth\":2},\"scene\":{\"xaxis\":{\"backgroundcolor\":\"#E5ECF6\",\"gridcolor\":\"white\",\"linecolor\":\"white\",\"showbackground\":true,\"ticks\":\"\",\"zerolinecolor\":\"white\",\"gridwidth\":2},\"yaxis\":{\"backgroundcolor\":\"#E5ECF6\",\"gridcolor\":\"white\",\"linecolor\":\"white\",\"showbackground\":true,\"ticks\":\"\",\"zerolinecolor\":\"white\",\"gridwidth\":2},\"zaxis\":{\"backgroundcolor\":\"#E5ECF6\",\"gridcolor\":\"white\",\"linecolor\":\"white\",\"showbackground\":true,\"ticks\":\"\",\"zerolinecolor\":\"white\",\"gridwidth\":2}},\"shapedefaults\":{\"line\":{\"color\":\"#2a3f5f\"}},\"annotationdefaults\":{\"arrowcolor\":\"#2a3f5f\",\"arrowhead\":0,\"arrowwidth\":1},\"geo\":{\"bgcolor\":\"white\",\"landcolor\":\"#E5ECF6\",\"subunitcolor\":\"white\",\"showland\":true,\"showlakes\":true,\"lakecolor\":\"white\"},\"title\":{\"x\":0.05},\"mapbox\":{\"style\":\"light\"}}}},                        {\"responsive\": true}                    ).then(function(){\n",
       "                            \n",
       "var gd = document.getElementById('2ce6e3bc-df60-4ed9-8eb6-e3a0aca4cbb1');\n",
       "var x = new MutationObserver(function (mutations, observer) {{\n",
       "        var display = window.getComputedStyle(gd).display;\n",
       "        if (!display || display === 'none') {{\n",
       "            console.log([gd, 'removed!']);\n",
       "            Plotly.purge(gd);\n",
       "            observer.disconnect();\n",
       "        }}\n",
       "}});\n",
       "\n",
       "// Listen for the removal of the full notebook cells\n",
       "var notebookContainer = gd.closest('#notebook-container');\n",
       "if (notebookContainer) {{\n",
       "    x.observe(notebookContainer, {childList: true});\n",
       "}}\n",
       "\n",
       "// Listen for the clearing of the current output cell\n",
       "var outputEl = gd.closest('.output');\n",
       "if (outputEl) {{\n",
       "    x.observe(outputEl, {childList: true});\n",
       "}}\n",
       "\n",
       "                        })                };                });            </script>        </div>"
      ]
     },
     "metadata": {},
     "output_type": "display_data"
    }
   ],
   "source": [
    "test_model(patched_ablated_model, train_loader)"
   ]
  }
 ],
 "metadata": {
  "kernelspec": {
   "display_name": "ablation",
   "language": "python",
   "name": "python3"
  },
  "language_info": {
   "codemirror_mode": {
    "name": "ipython",
    "version": 3
   },
   "file_extension": ".py",
   "mimetype": "text/x-python",
   "name": "python",
   "nbconvert_exporter": "python",
   "pygments_lexer": "ipython3",
   "version": "3.11.9"
  }
 },
 "nbformat": 4,
 "nbformat_minor": 2
}
